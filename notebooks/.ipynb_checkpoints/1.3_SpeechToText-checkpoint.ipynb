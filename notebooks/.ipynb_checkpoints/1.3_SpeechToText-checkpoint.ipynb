{
 "cells": [
  {
   "cell_type": "markdown",
   "id": "932c806b-3cee-4eb0-874b-648d954d4919",
   "metadata": {},
   "source": [
    "# Performing speech-to-text on files"
   ]
  },
  {
   "cell_type": "code",
   "execution_count": 1,
   "id": "9d6e212f-30a0-4fe5-ae64-62376a9d1894",
   "metadata": {},
   "outputs": [],
   "source": [
    "%load_ext autoreload\n",
    "%autoreload 2"
   ]
  },
  {
   "cell_type": "code",
   "execution_count": 2,
   "id": "ae8c2765-71f0-4e52-8e17-df267c9c4c06",
   "metadata": {},
   "outputs": [],
   "source": [
    "from pathlib import Path\n",
    "from tqdm.auto import tqdm\n",
    "import pandas as pd\n",
    "from IPython.display import display\n",
    "import numpy as np\n",
    "import os\n",
    "import whisper\n",
    "import time\n",
    "\n",
    "import speech_recognition as sr\n",
    "# import cloudstorage as gcs"
   ]
  },
  {
   "cell_type": "code",
   "execution_count": 8,
   "id": "d7adee39-9a55-44ec-b27a-7fbd9bae1f59",
   "metadata": {},
   "outputs": [],
   "source": [
    "# configure user\n",
    "user = \"mitchel\"\n",
    "extracted_feats = True\n",
    "\n",
    "if user.lower() == \"jonas\":\n",
    "    BASE_PATH = Path(\"/users/jonvdrdo/jonas/data/aaa_contextaware/raw/uz_study/\")\n",
    "elif user.lower() == \"mitchel\":\n",
    "    BASE_PATH = Path(\"E:/Data/2020_ResonanceBreathing/\")\n",
    "DATA_PATH = BASE_PATH.joinpath(\"Data/Interim/Audio\")"
   ]
  },
  {
   "cell_type": "code",
   "execution_count": 5,
   "id": "6e8441d3-d43f-4773-a9ac-04e753589783",
   "metadata": {},
   "outputs": [],
   "source": [
    "os.chdir(DATA_PATH)\n",
    "# os.listdir()\n",
    "# os.getcwd()\n",
    "\n",
    "# Pre-create the lists where we'll store information\n",
    "transcripts = []\n",
    "timings = []\n",
    "language = []\n",
    "filenames = []\n",
    "participantNums = []\n",
    "phaseNums = []\n",
    "phaseNames = []"
   ]
  },
  {
   "cell_type": "code",
   "execution_count": null,
   "id": "7c4f8b7d-9114-445e-863f-936ff4199d4e",
   "metadata": {},
   "outputs": [
    {
     "data": {
      "application/vnd.jupyter.widget-view+json": {
       "model_id": "df4c5716927b48c5afdb809ea818e991",
       "version_major": 2,
       "version_minor": 0
      },
      "text/plain": [
       "  0%|          | 0/798 [00:00<?, ?it/s]"
      ]
     },
     "metadata": {},
     "output_type": "display_data"
    },
    {
     "name": "stdout",
     "output_type": "stream",
     "text": [
      "Currently running: E:\\Data\\2020_ResonanceBreathing\\Data\\Interim\\Audio\\1_Habituation-1-speech.wav\n"
     ]
    }
   ],
   "source": [
    "count = 0\n",
    "for filePath in tqdm(list(DATA_PATH.glob(\"*.wav\"))):\n",
    "    file = str(file) # Functions all use file as input\n",
    "#     filedir = random.choice(os.listdir())\n",
    "#     audiofiledir = random.choice(allFileNames)\n",
    "    print(\"Currently running: \" + file)\n",
    "    \n",
    "    model = whisper.load_model(\"medium\") # Load highest quality model\n",
    "    t = time.time()\n",
    "    result = model.transcribe(file) # Transcription\n",
    "    elapsed = time.time() - t\n",
    "\n",
    "    transcripts.append(result[\"text\"])\n",
    "    timings.append(elapsed)\n",
    "    language.append(result[\"language\"])\n",
    "    filenames.append(file)\n",
    "    participantNums.append(int(re.findall('\\d+', str(file.name))[1]))\n",
    "    phaseNums.append(int(re.findall('\\d+', str(file.name))[0]))\n",
    "    phaseNames.append(re.findall('\\\\D\\w+', str(file.name))[0][1:])\n",
    "    \n",
    "    count = count + 1\n",
    "    if count > 5:\n",
    "        break\n",
    "        \n",
    "df = pd.DataFrame({'pptNum': participantNums, 'phaseName': phaseNames, 'phaseNum': phaseNums,\n",
    "                   'FileName': filenames, 'Transcripts': transcripts, 'TimeElapsed': timings, 'Language': language})\n",
    "df\n",
    "\n",
    "df.to_parquet(DATA_PATH.joinpath(\"df_transcripts.parquet\"), engine=\"fastparquet\")\n",
    "df.to_csv(DATA_PATH.joinpath(\"df_transcripts.csv\"))\n"
   ]
  },
  {
   "cell_type": "code",
   "execution_count": null,
   "id": "ea428204-ad0c-4917-a456-2faf9bb024e5",
   "metadata": {},
   "outputs": [],
   "source": []
  }
 ],
 "metadata": {
  "kernelspec": {
   "display_name": "Python 3 (ipykernel)",
   "language": "python",
   "name": "python3"
  },
  "language_info": {
   "codemirror_mode": {
    "name": "ipython",
    "version": 3
   },
   "file_extension": ".py",
   "mimetype": "text/x-python",
   "name": "python",
   "nbconvert_exporter": "python",
   "pygments_lexer": "ipython3",
   "version": "3.9.6"
  }
 },
 "nbformat": 4,
 "nbformat_minor": 5
}
