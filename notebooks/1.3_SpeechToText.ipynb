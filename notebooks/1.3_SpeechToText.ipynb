{
 "cells": [
  {
   "cell_type": "markdown",
   "id": "932c806b-3cee-4eb0-874b-648d954d4919",
   "metadata": {},
   "source": [
    "# Performing speech-to-text on files"
   ]
  },
  {
   "cell_type": "code",
   "execution_count": 8,
   "id": "9d6e212f-30a0-4fe5-ae64-62376a9d1894",
   "metadata": {},
   "outputs": [],
   "source": [
    "%load_ext autoreload\n",
    "%autoreload 2"
   ]
  },
  {
   "cell_type": "code",
   "execution_count": 9,
   "id": "ae8c2765-71f0-4e52-8e17-df267c9c4c06",
   "metadata": {},
   "outputs": [],
   "source": [
    "from pathlib import Path\n",
    "from tqdm.auto import tqdm\n",
    "import pandas as pd\n",
    "from IPython.display import display\n",
    "import numpy as np\n",
    "import os\n",
    "import whisper\n",
    "import time\n",
    "import re #stringsplitting\n",
    "\n",
    "import speech_recognition as sr\n",
    "# import cloudstorage as gcs"
   ]
  },
  {
   "cell_type": "code",
   "execution_count": 10,
   "id": "d7adee39-9a55-44ec-b27a-7fbd9bae1f59",
   "metadata": {},
   "outputs": [],
   "source": [
    "# configure user\n",
    "user = \"mitchel\"\n",
    "extracted_feats = True\n",
    "\n",
    "if user.lower() == \"jonas\":\n",
    "    BASE_PATH = Path(\"/users/jonvdrdo/jonas/data/aaa_contextaware/raw/uz_study/\")\n",
    "elif user.lower() == \"mitchel\":\n",
    "    BASE_PATH = Path(\"E:/Data/2020_ResonanceBreathing/\")\n",
    "DATA_PATH = BASE_PATH.joinpath(\"Data/Interim/Audio\")"
   ]
  },
  {
   "cell_type": "code",
   "execution_count": 11,
   "id": "6e8441d3-d43f-4773-a9ac-04e753589783",
   "metadata": {},
   "outputs": [],
   "source": [
    "os.chdir(DATA_PATH)\n",
    "# os.listdir()\n",
    "# os.getcwd()"
   ]
  },
  {
   "cell_type": "code",
   "execution_count": 13,
   "id": "7c4f8b7d-9114-445e-863f-936ff4199d4e",
   "metadata": {},
   "outputs": [
    {
     "data": {
      "application/vnd.jupyter.widget-view+json": {
       "model_id": "a4f09dd91185424180f47498d2a7ec91",
       "version_major": 2,
       "version_minor": 0
      },
      "text/plain": [
       "  0%|          | 0/798 [00:00<?, ?it/s]"
      ]
     },
     "metadata": {},
     "output_type": "display_data"
    },
    {
     "name": "stdout",
     "output_type": "stream",
     "text": [
      "Currently running: E:\\Data\\2020_ResonanceBreathing\\Data\\Interim\\Audio\\1_Habituation-1-speech.wav\n",
      "Currently running: E:\\Data\\2020_ResonanceBreathing\\Data\\Interim\\Audio\\1_Habituation-2-speech.wav\n",
      "Currently running: E:\\Data\\2020_ResonanceBreathing\\Data\\Interim\\Audio\\1_Habituation-3-speech.wav\n",
      "Currently running: E:\\Data\\2020_ResonanceBreathing\\Data\\Interim\\Audio\\1_Habituation-4-speech.wav\n",
      "Currently running: E:\\Data\\2020_ResonanceBreathing\\Data\\Interim\\Audio\\1_Habituation-5-speech.wav\n",
      "Currently running: E:\\Data\\2020_ResonanceBreathing\\Data\\Interim\\Audio\\1_Habituation-6-speech.wav\n"
     ]
    },
    {
     "name": "stderr",
     "output_type": "stream",
     "text": [
      "C:\\Users\\mitch\\anaconda3\\envs\\stress_study_lib\\lib\\site-packages\\whisper\\transcribe.py:78: UserWarning: FP16 is not supported on CPU; using FP32 instead\n",
      "  warnings.warn(\"FP16 is not supported on CPU; using FP32 instead\")\n"
     ]
    },
    {
     "name": "stdout",
     "output_type": "stream",
     "text": [
      "Currently running: E:\\Data\\2020_ResonanceBreathing\\Data\\Interim\\Audio\\1_Habituation-7-speech.wav\n",
      "Currently running: E:\\Data\\2020_ResonanceBreathing\\Data\\Interim\\Audio\\1_Habituation-8-speech.wav\n",
      "Currently running: E:\\Data\\2020_ResonanceBreathing\\Data\\Interim\\Audio\\1_Habituation-9-speech.wav\n",
      "Currently running: E:\\Data\\2020_ResonanceBreathing\\Data\\Interim\\Audio\\1_Habituation-13-speech.wav\n",
      "Currently running: E:\\Data\\2020_ResonanceBreathing\\Data\\Interim\\Audio\\1_Habituation-14-speech.wav\n"
     ]
    },
    {
     "name": "stderr",
     "output_type": "stream",
     "text": [
      "C:\\Users\\mitch\\anaconda3\\envs\\stress_study_lib\\lib\\site-packages\\whisper\\transcribe.py:78: UserWarning: FP16 is not supported on CPU; using FP32 instead\n",
      "  warnings.warn(\"FP16 is not supported on CPU; using FP32 instead\")\n"
     ]
    },
    {
     "name": "stdout",
     "output_type": "stream",
     "text": [
      "Currently running: E:\\Data\\2020_ResonanceBreathing\\Data\\Interim\\Audio\\1_Habituation-15-speech.wav\n",
      "Currently running: E:\\Data\\2020_ResonanceBreathing\\Data\\Interim\\Audio\\1_Habituation-16-speech.wav\n",
      "Currently running: E:\\Data\\2020_ResonanceBreathing\\Data\\Interim\\Audio\\1_Habituation-17-speech.wav\n",
      "Currently running: E:\\Data\\2020_ResonanceBreathing\\Data\\Interim\\Audio\\1_Habituation-18-speech.wav\n",
      "Currently running: E:\\Data\\2020_ResonanceBreathing\\Data\\Interim\\Audio\\1_Habituation-19-speech.wav\n"
     ]
    },
    {
     "name": "stderr",
     "output_type": "stream",
     "text": [
      "C:\\Users\\mitch\\anaconda3\\envs\\stress_study_lib\\lib\\site-packages\\whisper\\transcribe.py:78: UserWarning: FP16 is not supported on CPU; using FP32 instead\n",
      "  warnings.warn(\"FP16 is not supported on CPU; using FP32 instead\")\n"
     ]
    },
    {
     "name": "stdout",
     "output_type": "stream",
     "text": [
      "Currently running: E:\\Data\\2020_ResonanceBreathing\\Data\\Interim\\Audio\\1_Habituation-20-speech.wav\n",
      "Currently running: E:\\Data\\2020_ResonanceBreathing\\Data\\Interim\\Audio\\1_Habituation-21-speech.wav\n",
      "Currently running: E:\\Data\\2020_ResonanceBreathing\\Data\\Interim\\Audio\\1_Habituation-22-speech.wav\n",
      "Currently running: E:\\Data\\2020_ResonanceBreathing\\Data\\Interim\\Audio\\1_Habituation-23-speech.wav\n",
      "Currently running: E:\\Data\\2020_ResonanceBreathing\\Data\\Interim\\Audio\\1_Habituation-24-speech.wav\n"
     ]
    },
    {
     "name": "stderr",
     "output_type": "stream",
     "text": [
      "C:\\Users\\mitch\\anaconda3\\envs\\stress_study_lib\\lib\\site-packages\\whisper\\transcribe.py:78: UserWarning: FP16 is not supported on CPU; using FP32 instead\n",
      "  warnings.warn(\"FP16 is not supported on CPU; using FP32 instead\")\n"
     ]
    },
    {
     "name": "stdout",
     "output_type": "stream",
     "text": [
      "Currently running: E:\\Data\\2020_ResonanceBreathing\\Data\\Interim\\Audio\\1_Habituation-25-speech.wav\n",
      "Currently running: E:\\Data\\2020_ResonanceBreathing\\Data\\Interim\\Audio\\1_Habituation-26-speech.wav\n",
      "Currently running: E:\\Data\\2020_ResonanceBreathing\\Data\\Interim\\Audio\\1_Habituation-27-speech.wav\n",
      "Currently running: E:\\Data\\2020_ResonanceBreathing\\Data\\Interim\\Audio\\1_Habituation-28-speech.wav\n",
      "Currently running: E:\\Data\\2020_ResonanceBreathing\\Data\\Interim\\Audio\\1_Habituation-29-speech.wav\n"
     ]
    },
    {
     "name": "stderr",
     "output_type": "stream",
     "text": [
      "C:\\Users\\mitch\\anaconda3\\envs\\stress_study_lib\\lib\\site-packages\\whisper\\transcribe.py:78: UserWarning: FP16 is not supported on CPU; using FP32 instead\n",
      "  warnings.warn(\"FP16 is not supported on CPU; using FP32 instead\")\n"
     ]
    },
    {
     "name": "stdout",
     "output_type": "stream",
     "text": [
      "Currently running: E:\\Data\\2020_ResonanceBreathing\\Data\\Interim\\Audio\\1_Habituation-30-speech.wav\n",
      "Currently running: E:\\Data\\2020_ResonanceBreathing\\Data\\Interim\\Audio\\1_Habituation-31-speech.wav\n",
      "Currently running: E:\\Data\\2020_ResonanceBreathing\\Data\\Interim\\Audio\\1_Habituation-32-speech.wav\n",
      "Currently running: E:\\Data\\2020_ResonanceBreathing\\Data\\Interim\\Audio\\1_Habituation-33-speech.wav\n",
      "Currently running: E:\\Data\\2020_ResonanceBreathing\\Data\\Interim\\Audio\\1_Habituation-34-speech.wav\n"
     ]
    },
    {
     "name": "stderr",
     "output_type": "stream",
     "text": [
      "C:\\Users\\mitch\\anaconda3\\envs\\stress_study_lib\\lib\\site-packages\\whisper\\transcribe.py:78: UserWarning: FP16 is not supported on CPU; using FP32 instead\n",
      "  warnings.warn(\"FP16 is not supported on CPU; using FP32 instead\")\n"
     ]
    },
    {
     "name": "stdout",
     "output_type": "stream",
     "text": [
      "Currently running: E:\\Data\\2020_ResonanceBreathing\\Data\\Interim\\Audio\\1_Habituation-35-speech.wav\n",
      "Currently running: E:\\Data\\2020_ResonanceBreathing\\Data\\Interim\\Audio\\1_Habituation-36-speech.wav\n",
      "Currently running: E:\\Data\\2020_ResonanceBreathing\\Data\\Interim\\Audio\\1_Habituation-37-speech.wav\n",
      "Currently running: E:\\Data\\2020_ResonanceBreathing\\Data\\Interim\\Audio\\1_Habituation-38-speech.wav\n",
      "Currently running: E:\\Data\\2020_ResonanceBreathing\\Data\\Interim\\Audio\\1_Habituation-39-speech.wav\n"
     ]
    },
    {
     "name": "stderr",
     "output_type": "stream",
     "text": [
      "C:\\Users\\mitch\\anaconda3\\envs\\stress_study_lib\\lib\\site-packages\\whisper\\transcribe.py:78: UserWarning: FP16 is not supported on CPU; using FP32 instead\n",
      "  warnings.warn(\"FP16 is not supported on CPU; using FP32 instead\")\n"
     ]
    },
    {
     "name": "stdout",
     "output_type": "stream",
     "text": [
      "Currently running: E:\\Data\\2020_ResonanceBreathing\\Data\\Interim\\Audio\\1_Habituation-40-speech.wav\n",
      "Currently running: E:\\Data\\2020_ResonanceBreathing\\Data\\Interim\\Audio\\1_Habituation-41-speech.wav\n",
      "Currently running: E:\\Data\\2020_ResonanceBreathing\\Data\\Interim\\Audio\\1_Habituation-42-speech.wav\n",
      "Currently running: E:\\Data\\2020_ResonanceBreathing\\Data\\Interim\\Audio\\1_Habituation-43-speech.wav\n",
      "Currently running: E:\\Data\\2020_ResonanceBreathing\\Data\\Interim\\Audio\\1_Habituation-44-speech.wav\n"
     ]
    },
    {
     "name": "stderr",
     "output_type": "stream",
     "text": [
      "C:\\Users\\mitch\\anaconda3\\envs\\stress_study_lib\\lib\\site-packages\\whisper\\transcribe.py:78: UserWarning: FP16 is not supported on CPU; using FP32 instead\n",
      "  warnings.warn(\"FP16 is not supported on CPU; using FP32 instead\")\n"
     ]
    },
    {
     "name": "stdout",
     "output_type": "stream",
     "text": [
      "Currently running: E:\\Data\\2020_ResonanceBreathing\\Data\\Interim\\Audio\\1_Habituation-45-speech.wav\n",
      "Currently running: E:\\Data\\2020_ResonanceBreathing\\Data\\Interim\\Audio\\1_Habituation-46-speech.wav\n",
      "Currently running: E:\\Data\\2020_ResonanceBreathing\\Data\\Interim\\Audio\\1_Habituation-47-speech.wav\n",
      "Currently running: E:\\Data\\2020_ResonanceBreathing\\Data\\Interim\\Audio\\1_Habituation-48-speech.wav\n",
      "Currently running: E:\\Data\\2020_ResonanceBreathing\\Data\\Interim\\Audio\\1_Habituation-49-speech.wav\n"
     ]
    },
    {
     "name": "stderr",
     "output_type": "stream",
     "text": [
      "C:\\Users\\mitch\\anaconda3\\envs\\stress_study_lib\\lib\\site-packages\\whisper\\transcribe.py:78: UserWarning: FP16 is not supported on CPU; using FP32 instead\n",
      "  warnings.warn(\"FP16 is not supported on CPU; using FP32 instead\")\n"
     ]
    },
    {
     "name": "stdout",
     "output_type": "stream",
     "text": [
      "Currently running: E:\\Data\\2020_ResonanceBreathing\\Data\\Interim\\Audio\\1_Habituation-50-speech.wav\n",
      "Currently running: E:\\Data\\2020_ResonanceBreathing\\Data\\Interim\\Audio\\1_Habituation-51-speech.wav\n",
      "Currently running: E:\\Data\\2020_ResonanceBreathing\\Data\\Interim\\Audio\\1_Habituation-52-speech.wav\n",
      "Currently running: E:\\Data\\2020_ResonanceBreathing\\Data\\Interim\\Audio\\1_Habituation-53-speech.wav\n",
      "Currently running: E:\\Data\\2020_ResonanceBreathing\\Data\\Interim\\Audio\\1_Habituation-54-speech.wav\n"
     ]
    },
    {
     "name": "stderr",
     "output_type": "stream",
     "text": [
      "C:\\Users\\mitch\\anaconda3\\envs\\stress_study_lib\\lib\\site-packages\\whisper\\transcribe.py:78: UserWarning: FP16 is not supported on CPU; using FP32 instead\n",
      "  warnings.warn(\"FP16 is not supported on CPU; using FP32 instead\")\n"
     ]
    },
    {
     "name": "stdout",
     "output_type": "stream",
     "text": [
      "Currently running: E:\\Data\\2020_ResonanceBreathing\\Data\\Interim\\Audio\\1_Habituation-55-speech.wav\n",
      "Currently running: E:\\Data\\2020_ResonanceBreathing\\Data\\Interim\\Audio\\1_Habituation-56-speech.wav\n",
      "Currently running: E:\\Data\\2020_ResonanceBreathing\\Data\\Interim\\Audio\\1_Habituation-57-speech.wav\n",
      "Currently running: E:\\Data\\2020_ResonanceBreathing\\Data\\Interim\\Audio\\1_Habituation-58-speech.wav\n",
      "Currently running: E:\\Data\\2020_ResonanceBreathing\\Data\\Interim\\Audio\\1_Habituation-59-speech.wav\n"
     ]
    },
    {
     "name": "stderr",
     "output_type": "stream",
     "text": [
      "C:\\Users\\mitch\\anaconda3\\envs\\stress_study_lib\\lib\\site-packages\\whisper\\transcribe.py:78: UserWarning: FP16 is not supported on CPU; using FP32 instead\n",
      "  warnings.warn(\"FP16 is not supported on CPU; using FP32 instead\")\n"
     ]
    },
    {
     "name": "stdout",
     "output_type": "stream",
     "text": [
      "Currently running: E:\\Data\\2020_ResonanceBreathing\\Data\\Interim\\Audio\\1_Habituation-60-speech.wav\n",
      "Currently running: E:\\Data\\2020_ResonanceBreathing\\Data\\Interim\\Audio\\1_Habituation-61-speech.wav\n",
      "Currently running: E:\\Data\\2020_ResonanceBreathing\\Data\\Interim\\Audio\\1_Habituation-62-speech.wav\n",
      "Currently running: E:\\Data\\2020_ResonanceBreathing\\Data\\Interim\\Audio\\1_Habituation-63-speech.wav\n",
      "Currently running: E:\\Data\\2020_ResonanceBreathing\\Data\\Interim\\Audio\\1_Habituation-64-speech.wav\n"
     ]
    },
    {
     "name": "stderr",
     "output_type": "stream",
     "text": [
      "C:\\Users\\mitch\\anaconda3\\envs\\stress_study_lib\\lib\\site-packages\\whisper\\transcribe.py:78: UserWarning: FP16 is not supported on CPU; using FP32 instead\n",
      "  warnings.warn(\"FP16 is not supported on CPU; using FP32 instead\")\n"
     ]
    },
    {
     "name": "stdout",
     "output_type": "stream",
     "text": [
      "Currently running: E:\\Data\\2020_ResonanceBreathing\\Data\\Interim\\Audio\\1_Habituation-65-speech.wav\n",
      "Currently running: E:\\Data\\2020_ResonanceBreathing\\Data\\Interim\\Audio\\1_Habituation-66-speech.wav\n",
      "Currently running: E:\\Data\\2020_ResonanceBreathing\\Data\\Interim\\Audio\\1_Habituation-67-speech.wav\n",
      "Currently running: E:\\Data\\2020_ResonanceBreathing\\Data\\Interim\\Audio\\1_Habituation-68-speech.wav\n",
      "Currently running: E:\\Data\\2020_ResonanceBreathing\\Data\\Interim\\Audio\\1_Habituation-69-speech.wav\n"
     ]
    },
    {
     "name": "stderr",
     "output_type": "stream",
     "text": [
      "C:\\Users\\mitch\\anaconda3\\envs\\stress_study_lib\\lib\\site-packages\\whisper\\transcribe.py:78: UserWarning: FP16 is not supported on CPU; using FP32 instead\n",
      "  warnings.warn(\"FP16 is not supported on CPU; using FP32 instead\")\n"
     ]
    },
    {
     "name": "stdout",
     "output_type": "stream",
     "text": [
      "Currently running: E:\\Data\\2020_ResonanceBreathing\\Data\\Interim\\Audio\\1_Habituation-70-speech.wav\n",
      "Currently running: E:\\Data\\2020_ResonanceBreathing\\Data\\Interim\\Audio\\1_Habituation-71-speech.wav\n",
      "Currently running: E:\\Data\\2020_ResonanceBreathing\\Data\\Interim\\Audio\\1_Habituation-72-speech.wav\n",
      "Currently running: E:\\Data\\2020_ResonanceBreathing\\Data\\Interim\\Audio\\1_Habituation-73-speech.wav\n",
      "Currently running: E:\\Data\\2020_ResonanceBreathing\\Data\\Interim\\Audio\\1_Habituation-74-speech.wav\n"
     ]
    },
    {
     "name": "stderr",
     "output_type": "stream",
     "text": [
      "C:\\Users\\mitch\\anaconda3\\envs\\stress_study_lib\\lib\\site-packages\\whisper\\transcribe.py:78: UserWarning: FP16 is not supported on CPU; using FP32 instead\n",
      "  warnings.warn(\"FP16 is not supported on CPU; using FP32 instead\")\n"
     ]
    },
    {
     "name": "stdout",
     "output_type": "stream",
     "text": [
      "Currently running: E:\\Data\\2020_ResonanceBreathing\\Data\\Interim\\Audio\\1_Habituation-75-speech.wav\n",
      "Currently running: E:\\Data\\2020_ResonanceBreathing\\Data\\Interim\\Audio\\1_Habituation-76-speech.wav\n",
      "Currently running: E:\\Data\\2020_ResonanceBreathing\\Data\\Interim\\Audio\\1_Habituation-77-speech.wav\n",
      "Currently running: E:\\Data\\2020_ResonanceBreathing\\Data\\Interim\\Audio\\1_Habituation-78-speech.wav\n",
      "Currently running: E:\\Data\\2020_ResonanceBreathing\\Data\\Interim\\Audio\\1_Habituation-79-speech.wav\n"
     ]
    },
    {
     "name": "stderr",
     "output_type": "stream",
     "text": [
      "C:\\Users\\mitch\\anaconda3\\envs\\stress_study_lib\\lib\\site-packages\\whisper\\transcribe.py:78: UserWarning: FP16 is not supported on CPU; using FP32 instead\n",
      "  warnings.warn(\"FP16 is not supported on CPU; using FP32 instead\")\n"
     ]
    },
    {
     "name": "stdout",
     "output_type": "stream",
     "text": [
      "Currently running: E:\\Data\\2020_ResonanceBreathing\\Data\\Interim\\Audio\\1_Habituation-80-speech.wav\n",
      "Currently running: E:\\Data\\2020_ResonanceBreathing\\Data\\Interim\\Audio\\1_Habituation-81-speech.wav\n",
      "Currently running: E:\\Data\\2020_ResonanceBreathing\\Data\\Interim\\Audio\\1_Habituation-82-speech.wav\n",
      "Currently running: E:\\Data\\2020_ResonanceBreathing\\Data\\Interim\\Audio\\1_Habituation-83-speech.wav\n",
      "Currently running: E:\\Data\\2020_ResonanceBreathing\\Data\\Interim\\Audio\\1_Habituation-84-speech.wav\n"
     ]
    },
    {
     "name": "stderr",
     "output_type": "stream",
     "text": [
      "C:\\Users\\mitch\\anaconda3\\envs\\stress_study_lib\\lib\\site-packages\\whisper\\transcribe.py:78: UserWarning: FP16 is not supported on CPU; using FP32 instead\n",
      "  warnings.warn(\"FP16 is not supported on CPU; using FP32 instead\")\n"
     ]
    },
    {
     "name": "stdout",
     "output_type": "stream",
     "text": [
      "Currently running: E:\\Data\\2020_ResonanceBreathing\\Data\\Interim\\Audio\\1_Habituation-85-speech.wav\n",
      "Currently running: E:\\Data\\2020_ResonanceBreathing\\Data\\Interim\\Audio\\1_Habituation-86-speech.wav\n",
      "Currently running: E:\\Data\\2020_ResonanceBreathing\\Data\\Interim\\Audio\\1_Habituation-87-speech.wav\n",
      "Currently running: E:\\Data\\2020_ResonanceBreathing\\Data\\Interim\\Audio\\1_Habituation-88-speech.wav\n",
      "Currently running: E:\\Data\\2020_ResonanceBreathing\\Data\\Interim\\Audio\\1_Habituation-89-speech.wav\n"
     ]
    },
    {
     "name": "stderr",
     "output_type": "stream",
     "text": [
      "C:\\Users\\mitch\\anaconda3\\envs\\stress_study_lib\\lib\\site-packages\\whisper\\transcribe.py:78: UserWarning: FP16 is not supported on CPU; using FP32 instead\n",
      "  warnings.warn(\"FP16 is not supported on CPU; using FP32 instead\")\n"
     ]
    },
    {
     "name": "stdout",
     "output_type": "stream",
     "text": [
      "Currently running: E:\\Data\\2020_ResonanceBreathing\\Data\\Interim\\Audio\\1_Habituation-90-speech.wav\n",
      "Currently running: E:\\Data\\2020_ResonanceBreathing\\Data\\Interim\\Audio\\1_Habituation-91-speech.wav\n",
      "Currently running: E:\\Data\\2020_ResonanceBreathing\\Data\\Interim\\Audio\\1_Habituation-92-speech.wav\n",
      "Currently running: E:\\Data\\2020_ResonanceBreathing\\Data\\Interim\\Audio\\1_Habituation-93-speech.wav\n",
      "Currently running: E:\\Data\\2020_ResonanceBreathing\\Data\\Interim\\Audio\\1_Habituation-94-speech.wav\n"
     ]
    },
    {
     "name": "stderr",
     "output_type": "stream",
     "text": [
      "C:\\Users\\mitch\\anaconda3\\envs\\stress_study_lib\\lib\\site-packages\\whisper\\transcribe.py:78: UserWarning: FP16 is not supported on CPU; using FP32 instead\n",
      "  warnings.warn(\"FP16 is not supported on CPU; using FP32 instead\")\n"
     ]
    },
    {
     "name": "stdout",
     "output_type": "stream",
     "text": [
      "Currently running: E:\\Data\\2020_ResonanceBreathing\\Data\\Interim\\Audio\\1_Habituation-95-speech.wav\n",
      "Currently running: E:\\Data\\2020_ResonanceBreathing\\Data\\Interim\\Audio\\1_Habituation-97-speech.wav\n",
      "Currently running: E:\\Data\\2020_ResonanceBreathing\\Data\\Interim\\Audio\\1_Habituation-98-speech.wav\n",
      "Currently running: E:\\Data\\2020_ResonanceBreathing\\Data\\Interim\\Audio\\1_Habituation-99-speech.wav\n",
      "Currently running: E:\\Data\\2020_ResonanceBreathing\\Data\\Interim\\Audio\\1_Habituation-100-speech.wav\n"
     ]
    },
    {
     "name": "stderr",
     "output_type": "stream",
     "text": [
      "C:\\Users\\mitch\\anaconda3\\envs\\stress_study_lib\\lib\\site-packages\\whisper\\transcribe.py:78: UserWarning: FP16 is not supported on CPU; using FP32 instead\n",
      "  warnings.warn(\"FP16 is not supported on CPU; using FP32 instead\")\n"
     ]
    },
    {
     "name": "stdout",
     "output_type": "stream",
     "text": [
      "Currently running: E:\\Data\\2020_ResonanceBreathing\\Data\\Interim\\Audio\\1_Habituation-101-speech.wav\n",
      "Currently running: E:\\Data\\2020_ResonanceBreathing\\Data\\Interim\\Audio\\1_Habituation-102-speech.wav\n",
      "Currently running: E:\\Data\\2020_ResonanceBreathing\\Data\\Interim\\Audio\\1_Habituation-103-speech.wav\n",
      "Currently running: E:\\Data\\2020_ResonanceBreathing\\Data\\Interim\\Audio\\1_Habituation-104-speech.wav\n",
      "Currently running: E:\\Data\\2020_ResonanceBreathing\\Data\\Interim\\Audio\\1_Habituation-105-speech.wav\n"
     ]
    },
    {
     "name": "stderr",
     "output_type": "stream",
     "text": [
      "C:\\Users\\mitch\\anaconda3\\envs\\stress_study_lib\\lib\\site-packages\\whisper\\transcribe.py:78: UserWarning: FP16 is not supported on CPU; using FP32 instead\n",
      "  warnings.warn(\"FP16 is not supported on CPU; using FP32 instead\")\n"
     ]
    },
    {
     "name": "stdout",
     "output_type": "stream",
     "text": [
      "Currently running: E:\\Data\\2020_ResonanceBreathing\\Data\\Interim\\Audio\\1_Habituation-106-speech.wav\n",
      "Currently running: E:\\Data\\2020_ResonanceBreathing\\Data\\Interim\\Audio\\1_Habituation-107-speech.wav\n",
      "Currently running: E:\\Data\\2020_ResonanceBreathing\\Data\\Interim\\Audio\\1_Habituation-108-speech.wav\n",
      "Currently running: E:\\Data\\2020_ResonanceBreathing\\Data\\Interim\\Audio\\1_Habituation-109-speech.wav\n",
      "Currently running: E:\\Data\\2020_ResonanceBreathing\\Data\\Interim\\Audio\\1_Habituation-110-speech.wav\n"
     ]
    },
    {
     "name": "stderr",
     "output_type": "stream",
     "text": [
      "C:\\Users\\mitch\\anaconda3\\envs\\stress_study_lib\\lib\\site-packages\\whisper\\transcribe.py:78: UserWarning: FP16 is not supported on CPU; using FP32 instead\n",
      "  warnings.warn(\"FP16 is not supported on CPU; using FP32 instead\")\n"
     ]
    },
    {
     "name": "stdout",
     "output_type": "stream",
     "text": [
      "Currently running: E:\\Data\\2020_ResonanceBreathing\\Data\\Interim\\Audio\\1_Habituation-111-speech.wav\n",
      "Currently running: E:\\Data\\2020_ResonanceBreathing\\Data\\Interim\\Audio\\1_Habituation-112-speech.wav\n",
      "Currently running: E:\\Data\\2020_ResonanceBreathing\\Data\\Interim\\Audio\\1_Habituation-113-speech.wav\n",
      "Currently running: E:\\Data\\2020_ResonanceBreathing\\Data\\Interim\\Audio\\1_Habituation-114-speech.wav\n",
      "Currently running: E:\\Data\\2020_ResonanceBreathing\\Data\\Interim\\Audio\\1_Habituation-115-speech.wav\n"
     ]
    },
    {
     "name": "stderr",
     "output_type": "stream",
     "text": [
      "C:\\Users\\mitch\\anaconda3\\envs\\stress_study_lib\\lib\\site-packages\\whisper\\transcribe.py:78: UserWarning: FP16 is not supported on CPU; using FP32 instead\n",
      "  warnings.warn(\"FP16 is not supported on CPU; using FP32 instead\")\n"
     ]
    },
    {
     "name": "stdout",
     "output_type": "stream",
     "text": [
      "Currently running: E:\\Data\\2020_ResonanceBreathing\\Data\\Interim\\Audio\\1_Habituation-116-speech.wav\n",
      "Currently running: E:\\Data\\2020_ResonanceBreathing\\Data\\Interim\\Audio\\1_Habituation-117-speech.wav\n",
      "Currently running: E:\\Data\\2020_ResonanceBreathing\\Data\\Interim\\Audio\\1_Habituation-118-speech.wav\n",
      "Currently running: E:\\Data\\2020_ResonanceBreathing\\Data\\Interim\\Audio\\1_Habituation-119-speech.wav\n",
      "Currently running: E:\\Data\\2020_ResonanceBreathing\\Data\\Interim\\Audio\\1_Habituation-120-speech.wav\n"
     ]
    },
    {
     "name": "stderr",
     "output_type": "stream",
     "text": [
      "C:\\Users\\mitch\\anaconda3\\envs\\stress_study_lib\\lib\\site-packages\\whisper\\transcribe.py:78: UserWarning: FP16 is not supported on CPU; using FP32 instead\n",
      "  warnings.warn(\"FP16 is not supported on CPU; using FP32 instead\")\n"
     ]
    },
    {
     "name": "stdout",
     "output_type": "stream",
     "text": [
      "Currently running: E:\\Data\\2020_ResonanceBreathing\\Data\\Interim\\Audio\\1_Habituation-121-speech.wav\n",
      "Currently running: E:\\Data\\2020_ResonanceBreathing\\Data\\Interim\\Audio\\1_Habituation-122-speech.wav\n",
      "Currently running: E:\\Data\\2020_ResonanceBreathing\\Data\\Interim\\Audio\\1_Habituation-123-speech.wav\n",
      "Currently running: E:\\Data\\2020_ResonanceBreathing\\Data\\Interim\\Audio\\1_Habituation-124-speech.wav\n",
      "Currently running: E:\\Data\\2020_ResonanceBreathing\\Data\\Interim\\Audio\\1_Habituation-125-speech.wav\n"
     ]
    },
    {
     "name": "stderr",
     "output_type": "stream",
     "text": [
      "C:\\Users\\mitch\\anaconda3\\envs\\stress_study_lib\\lib\\site-packages\\whisper\\transcribe.py:78: UserWarning: FP16 is not supported on CPU; using FP32 instead\n",
      "  warnings.warn(\"FP16 is not supported on CPU; using FP32 instead\")\n"
     ]
    },
    {
     "name": "stdout",
     "output_type": "stream",
     "text": [
      "Currently running: E:\\Data\\2020_ResonanceBreathing\\Data\\Interim\\Audio\\1_Habituation-126-speech.wav\n",
      "Currently running: E:\\Data\\2020_ResonanceBreathing\\Data\\Interim\\Audio\\1_Habituation-127-speech.wav\n",
      "Currently running: E:\\Data\\2020_ResonanceBreathing\\Data\\Interim\\Audio\\1_Habituation-128-speech.wav\n",
      "Currently running: E:\\Data\\2020_ResonanceBreathing\\Data\\Interim\\Audio\\1_Habituation-129-speech.wav\n",
      "Currently running: E:\\Data\\2020_ResonanceBreathing\\Data\\Interim\\Audio\\1_Habituation-130-speech.wav\n"
     ]
    },
    {
     "name": "stderr",
     "output_type": "stream",
     "text": [
      "C:\\Users\\mitch\\anaconda3\\envs\\stress_study_lib\\lib\\site-packages\\whisper\\transcribe.py:78: UserWarning: FP16 is not supported on CPU; using FP32 instead\n",
      "  warnings.warn(\"FP16 is not supported on CPU; using FP32 instead\")\n"
     ]
    },
    {
     "name": "stdout",
     "output_type": "stream",
     "text": [
      "Currently running: E:\\Data\\2020_ResonanceBreathing\\Data\\Interim\\Audio\\1_Habituation-131-speech.wav\n",
      "Currently running: E:\\Data\\2020_ResonanceBreathing\\Data\\Interim\\Audio\\1_Habituation-132-speech.wav\n",
      "Currently running: E:\\Data\\2020_ResonanceBreathing\\Data\\Interim\\Audio\\1_Habituation-133-speech.wav\n",
      "Currently running: E:\\Data\\2020_ResonanceBreathing\\Data\\Interim\\Audio\\1_Habituation-134-speech.wav\n",
      "Currently running: E:\\Data\\2020_ResonanceBreathing\\Data\\Interim\\Audio\\1_Habituation-135-speech.wav\n"
     ]
    },
    {
     "name": "stderr",
     "output_type": "stream",
     "text": [
      "C:\\Users\\mitch\\anaconda3\\envs\\stress_study_lib\\lib\\site-packages\\whisper\\transcribe.py:78: UserWarning: FP16 is not supported on CPU; using FP32 instead\n",
      "  warnings.warn(\"FP16 is not supported on CPU; using FP32 instead\")\n"
     ]
    },
    {
     "name": "stdout",
     "output_type": "stream",
     "text": [
      "Currently running: E:\\Data\\2020_ResonanceBreathing\\Data\\Interim\\Audio\\1_Habituation-136-speech.wav\n",
      "Currently running: E:\\Data\\2020_ResonanceBreathing\\Data\\Interim\\Audio\\1_Habituation-137-speech.wav\n",
      "Currently running: E:\\Data\\2020_ResonanceBreathing\\Data\\Interim\\Audio\\1_Habituation-138-speech.wav\n",
      "Currently running: E:\\Data\\2020_ResonanceBreathing\\Data\\Interim\\Audio\\1_Habituation-139-speech.wav\n",
      "Currently running: E:\\Data\\2020_ResonanceBreathing\\Data\\Interim\\Audio\\1_Habituation-140-speech.wav\n"
     ]
    },
    {
     "name": "stderr",
     "output_type": "stream",
     "text": [
      "C:\\Users\\mitch\\anaconda3\\envs\\stress_study_lib\\lib\\site-packages\\whisper\\transcribe.py:78: UserWarning: FP16 is not supported on CPU; using FP32 instead\n",
      "  warnings.warn(\"FP16 is not supported on CPU; using FP32 instead\")\n"
     ]
    },
    {
     "name": "stdout",
     "output_type": "stream",
     "text": [
      "Currently running: E:\\Data\\2020_ResonanceBreathing\\Data\\Interim\\Audio\\1_Habituation-141-speech.wav\n",
      "Currently running: E:\\Data\\2020_ResonanceBreathing\\Data\\Interim\\Audio\\1_Habituation-142-speech.wav\n",
      "Currently running: E:\\Data\\2020_ResonanceBreathing\\Data\\Interim\\Audio\\1_Habituation-143-speech.wav\n",
      "Currently running: E:\\Data\\2020_ResonanceBreathing\\Data\\Interim\\Audio\\1_Habituation-144-speech.wav\n",
      "Currently running: E:\\Data\\2020_ResonanceBreathing\\Data\\Interim\\Audio\\1_Habituation-145-speech.wav\n"
     ]
    },
    {
     "name": "stderr",
     "output_type": "stream",
     "text": [
      "C:\\Users\\mitch\\anaconda3\\envs\\stress_study_lib\\lib\\site-packages\\whisper\\transcribe.py:78: UserWarning: FP16 is not supported on CPU; using FP32 instead\n",
      "  warnings.warn(\"FP16 is not supported on CPU; using FP32 instead\")\n"
     ]
    },
    {
     "name": "stdout",
     "output_type": "stream",
     "text": [
      "Currently running: E:\\Data\\2020_ResonanceBreathing\\Data\\Interim\\Audio\\1_Habituation-146-speech.wav\n",
      "Currently running: E:\\Data\\2020_ResonanceBreathing\\Data\\Interim\\Audio\\1_Habituation-147-speech.wav\n",
      "Currently running: E:\\Data\\2020_ResonanceBreathing\\Data\\Interim\\Audio\\1_Habituation-148-speech.wav\n",
      "Currently running: E:\\Data\\2020_ResonanceBreathing\\Data\\Interim\\Audio\\1_Habituation-149-speech.wav\n",
      "Currently running: E:\\Data\\2020_ResonanceBreathing\\Data\\Interim\\Audio\\1_Habituation-150-speech.wav\n"
     ]
    },
    {
     "name": "stderr",
     "output_type": "stream",
     "text": [
      "C:\\Users\\mitch\\anaconda3\\envs\\stress_study_lib\\lib\\site-packages\\whisper\\transcribe.py:78: UserWarning: FP16 is not supported on CPU; using FP32 instead\n",
      "  warnings.warn(\"FP16 is not supported on CPU; using FP32 instead\")\n"
     ]
    },
    {
     "name": "stdout",
     "output_type": "stream",
     "text": [
      "Currently running: E:\\Data\\2020_ResonanceBreathing\\Data\\Interim\\Audio\\1_Habituation-151-speech.wav\n",
      "Currently running: E:\\Data\\2020_ResonanceBreathing\\Data\\Interim\\Audio\\1_Habituation-152-speech.wav\n",
      "Currently running: E:\\Data\\2020_ResonanceBreathing\\Data\\Interim\\Audio\\1_Habituation-153-speech.wav\n",
      "Currently running: E:\\Data\\2020_ResonanceBreathing\\Data\\Interim\\Audio\\1_Habituation-154-speech.wav\n",
      "Currently running: E:\\Data\\2020_ResonanceBreathing\\Data\\Interim\\Audio\\1_Habituation-155-speech.wav\n"
     ]
    },
    {
     "name": "stderr",
     "output_type": "stream",
     "text": [
      "C:\\Users\\mitch\\anaconda3\\envs\\stress_study_lib\\lib\\site-packages\\whisper\\transcribe.py:78: UserWarning: FP16 is not supported on CPU; using FP32 instead\n",
      "  warnings.warn(\"FP16 is not supported on CPU; using FP32 instead\")\n"
     ]
    },
    {
     "name": "stdout",
     "output_type": "stream",
     "text": [
      "Currently running: E:\\Data\\2020_ResonanceBreathing\\Data\\Interim\\Audio\\1_Habituation-157-speech.wav\n",
      "Currently running: E:\\Data\\2020_ResonanceBreathing\\Data\\Interim\\Audio\\1_Habituation-158-speech.wav\n",
      "Currently running: E:\\Data\\2020_ResonanceBreathing\\Data\\Interim\\Audio\\1_Habituation-159-speech.wav\n",
      "Currently running: E:\\Data\\2020_ResonanceBreathing\\Data\\Interim\\Audio\\1_Habituation-162-speech.wav\n",
      "Currently running: E:\\Data\\2020_ResonanceBreathing\\Data\\Interim\\Audio\\1_Habituation-163-speech.wav\n"
     ]
    },
    {
     "name": "stderr",
     "output_type": "stream",
     "text": [
      "C:\\Users\\mitch\\anaconda3\\envs\\stress_study_lib\\lib\\site-packages\\whisper\\transcribe.py:78: UserWarning: FP16 is not supported on CPU; using FP32 instead\n",
      "  warnings.warn(\"FP16 is not supported on CPU; using FP32 instead\")\n"
     ]
    },
    {
     "name": "stdout",
     "output_type": "stream",
     "text": [
      "Currently running: E:\\Data\\2020_ResonanceBreathing\\Data\\Interim\\Audio\\1_Habituation-167-speech.wav\n",
      "Currently running: E:\\Data\\2020_ResonanceBreathing\\Data\\Interim\\Audio\\1_Habituation-197-speech.wav\n",
      "Currently running: E:\\Data\\2020_ResonanceBreathing\\Data\\Interim\\Audio\\1_Habituation-199-speech.wav\n",
      "Currently running: E:\\Data\\2020_ResonanceBreathing\\Data\\Interim\\Audio\\2_Breathing-1-speech.wav\n",
      "Currently running: E:\\Data\\2020_ResonanceBreathing\\Data\\Interim\\Audio\\3_Calculus-1-speech.wav\n"
     ]
    },
    {
     "name": "stderr",
     "output_type": "stream",
     "text": [
      "C:\\Users\\mitch\\anaconda3\\envs\\stress_study_lib\\lib\\site-packages\\whisper\\transcribe.py:78: UserWarning: FP16 is not supported on CPU; using FP32 instead\n",
      "  warnings.warn(\"FP16 is not supported on CPU; using FP32 instead\")\n"
     ]
    },
    {
     "name": "stdout",
     "output_type": "stream",
     "text": [
      "Currently running: E:\\Data\\2020_ResonanceBreathing\\Data\\Interim\\Audio\\4_SART-1-speech.wav\n",
      "Currently running: E:\\Data\\2020_ResonanceBreathing\\Data\\Interim\\Audio\\5_PassiveViewing-1-speech.wav\n",
      "Currently running: E:\\Data\\2020_ResonanceBreathing\\Data\\Interim\\Audio\\2_Breathing-2-speech.wav\n",
      "Currently running: E:\\Data\\2020_ResonanceBreathing\\Data\\Interim\\Audio\\3_Calculus-2-speech.wav\n",
      "Currently running: E:\\Data\\2020_ResonanceBreathing\\Data\\Interim\\Audio\\4_SART-2-speech.wav\n"
     ]
    },
    {
     "name": "stderr",
     "output_type": "stream",
     "text": [
      "C:\\Users\\mitch\\anaconda3\\envs\\stress_study_lib\\lib\\site-packages\\whisper\\transcribe.py:78: UserWarning: FP16 is not supported on CPU; using FP32 instead\n",
      "  warnings.warn(\"FP16 is not supported on CPU; using FP32 instead\")\n"
     ]
    },
    {
     "name": "stdout",
     "output_type": "stream",
     "text": [
      "Currently running: E:\\Data\\2020_ResonanceBreathing\\Data\\Interim\\Audio\\5_PassiveViewing-2-speech.wav\n",
      "Currently running: E:\\Data\\2020_ResonanceBreathing\\Data\\Interim\\Audio\\2_Breathing-3-speech.wav\n",
      "Currently running: E:\\Data\\2020_ResonanceBreathing\\Data\\Interim\\Audio\\3_Calculus-3-speech.wav\n",
      "Currently running: E:\\Data\\2020_ResonanceBreathing\\Data\\Interim\\Audio\\4_SART-3-speech.wav\n",
      "Currently running: E:\\Data\\2020_ResonanceBreathing\\Data\\Interim\\Audio\\5_PassiveViewing-3-speech.wav\n"
     ]
    },
    {
     "name": "stderr",
     "output_type": "stream",
     "text": [
      "C:\\Users\\mitch\\anaconda3\\envs\\stress_study_lib\\lib\\site-packages\\whisper\\transcribe.py:78: UserWarning: FP16 is not supported on CPU; using FP32 instead\n",
      "  warnings.warn(\"FP16 is not supported on CPU; using FP32 instead\")\n"
     ]
    },
    {
     "name": "stdout",
     "output_type": "stream",
     "text": [
      "Currently running: E:\\Data\\2020_ResonanceBreathing\\Data\\Interim\\Audio\\2_Breathing-4-speech.wav\n",
      "Currently running: E:\\Data\\2020_ResonanceBreathing\\Data\\Interim\\Audio\\3_Calculus-4-speech.wav\n",
      "Currently running: E:\\Data\\2020_ResonanceBreathing\\Data\\Interim\\Audio\\4_SART-4-speech.wav\n",
      "Currently running: E:\\Data\\2020_ResonanceBreathing\\Data\\Interim\\Audio\\5_PassiveViewing-4-speech.wav\n",
      "Currently running: E:\\Data\\2020_ResonanceBreathing\\Data\\Interim\\Audio\\2_Breathing-5-speech.wav\n"
     ]
    },
    {
     "name": "stderr",
     "output_type": "stream",
     "text": [
      "C:\\Users\\mitch\\anaconda3\\envs\\stress_study_lib\\lib\\site-packages\\whisper\\transcribe.py:78: UserWarning: FP16 is not supported on CPU; using FP32 instead\n",
      "  warnings.warn(\"FP16 is not supported on CPU; using FP32 instead\")\n"
     ]
    },
    {
     "name": "stdout",
     "output_type": "stream",
     "text": [
      "Currently running: E:\\Data\\2020_ResonanceBreathing\\Data\\Interim\\Audio\\3_Calculus-5-speech.wav\n",
      "Currently running: E:\\Data\\2020_ResonanceBreathing\\Data\\Interim\\Audio\\4_SART-5-speech.wav\n",
      "Currently running: E:\\Data\\2020_ResonanceBreathing\\Data\\Interim\\Audio\\5_PassiveViewing-5-speech.wav\n",
      "Currently running: E:\\Data\\2020_ResonanceBreathing\\Data\\Interim\\Audio\\2_Breathing-6-speech.wav\n",
      "Currently running: E:\\Data\\2020_ResonanceBreathing\\Data\\Interim\\Audio\\3_Calculus-6-speech.wav\n"
     ]
    },
    {
     "name": "stderr",
     "output_type": "stream",
     "text": [
      "C:\\Users\\mitch\\anaconda3\\envs\\stress_study_lib\\lib\\site-packages\\whisper\\transcribe.py:78: UserWarning: FP16 is not supported on CPU; using FP32 instead\n",
      "  warnings.warn(\"FP16 is not supported on CPU; using FP32 instead\")\n"
     ]
    },
    {
     "name": "stdout",
     "output_type": "stream",
     "text": [
      "Currently running: E:\\Data\\2020_ResonanceBreathing\\Data\\Interim\\Audio\\4_SART-6-speech.wav\n",
      "Currently running: E:\\Data\\2020_ResonanceBreathing\\Data\\Interim\\Audio\\5_PassiveViewing-6-speech.wav\n",
      "Currently running: E:\\Data\\2020_ResonanceBreathing\\Data\\Interim\\Audio\\2_Breathing-7-speech.wav\n",
      "Currently running: E:\\Data\\2020_ResonanceBreathing\\Data\\Interim\\Audio\\3_Calculus-7-speech.wav\n",
      "Currently running: E:\\Data\\2020_ResonanceBreathing\\Data\\Interim\\Audio\\4_SART-7-speech.wav\n"
     ]
    },
    {
     "name": "stderr",
     "output_type": "stream",
     "text": [
      "C:\\Users\\mitch\\anaconda3\\envs\\stress_study_lib\\lib\\site-packages\\whisper\\transcribe.py:78: UserWarning: FP16 is not supported on CPU; using FP32 instead\n",
      "  warnings.warn(\"FP16 is not supported on CPU; using FP32 instead\")\n"
     ]
    },
    {
     "name": "stdout",
     "output_type": "stream",
     "text": [
      "Currently running: E:\\Data\\2020_ResonanceBreathing\\Data\\Interim\\Audio\\5_PassiveViewing-7-speech.wav\n",
      "Currently running: E:\\Data\\2020_ResonanceBreathing\\Data\\Interim\\Audio\\2_Breathing-8-speech.wav\n",
      "Currently running: E:\\Data\\2020_ResonanceBreathing\\Data\\Interim\\Audio\\3_Calculus-8-speech.wav\n",
      "Currently running: E:\\Data\\2020_ResonanceBreathing\\Data\\Interim\\Audio\\4_SART-8-speech.wav\n",
      "Currently running: E:\\Data\\2020_ResonanceBreathing\\Data\\Interim\\Audio\\5_PassiveViewing-8-speech.wav\n"
     ]
    },
    {
     "name": "stderr",
     "output_type": "stream",
     "text": [
      "C:\\Users\\mitch\\anaconda3\\envs\\stress_study_lib\\lib\\site-packages\\whisper\\transcribe.py:78: UserWarning: FP16 is not supported on CPU; using FP32 instead\n",
      "  warnings.warn(\"FP16 is not supported on CPU; using FP32 instead\")\n"
     ]
    },
    {
     "name": "stdout",
     "output_type": "stream",
     "text": [
      "Currently running: E:\\Data\\2020_ResonanceBreathing\\Data\\Interim\\Audio\\2_Breathing-9-speech.wav\n",
      "Currently running: E:\\Data\\2020_ResonanceBreathing\\Data\\Interim\\Audio\\3_Calculus-9-speech.wav\n",
      "Currently running: E:\\Data\\2020_ResonanceBreathing\\Data\\Interim\\Audio\\4_SART-9-speech.wav\n",
      "Currently running: E:\\Data\\2020_ResonanceBreathing\\Data\\Interim\\Audio\\5_PassiveViewing-9-speech.wav\n",
      "Currently running: E:\\Data\\2020_ResonanceBreathing\\Data\\Interim\\Audio\\2_Breathing-10-speech.wav\n"
     ]
    },
    {
     "name": "stderr",
     "output_type": "stream",
     "text": [
      "C:\\Users\\mitch\\anaconda3\\envs\\stress_study_lib\\lib\\site-packages\\whisper\\transcribe.py:78: UserWarning: FP16 is not supported on CPU; using FP32 instead\n",
      "  warnings.warn(\"FP16 is not supported on CPU; using FP32 instead\")\n"
     ]
    },
    {
     "name": "stdout",
     "output_type": "stream",
     "text": [
      "Currently running: E:\\Data\\2020_ResonanceBreathing\\Data\\Interim\\Audio\\3_Calculus-10-speech.wav\n",
      "Currently running: E:\\Data\\2020_ResonanceBreathing\\Data\\Interim\\Audio\\4_SART-10-speech.wav\n",
      "Currently running: E:\\Data\\2020_ResonanceBreathing\\Data\\Interim\\Audio\\5_PassiveViewing-10-speech.wav\n",
      "Currently running: E:\\Data\\2020_ResonanceBreathing\\Data\\Interim\\Audio\\2_Breathing-11-speech.wav\n",
      "Currently running: E:\\Data\\2020_ResonanceBreathing\\Data\\Interim\\Audio\\3_Calculus-11-speech.wav\n"
     ]
    },
    {
     "name": "stderr",
     "output_type": "stream",
     "text": [
      "C:\\Users\\mitch\\anaconda3\\envs\\stress_study_lib\\lib\\site-packages\\whisper\\transcribe.py:78: UserWarning: FP16 is not supported on CPU; using FP32 instead\n",
      "  warnings.warn(\"FP16 is not supported on CPU; using FP32 instead\")\n"
     ]
    },
    {
     "name": "stdout",
     "output_type": "stream",
     "text": [
      "Currently running: E:\\Data\\2020_ResonanceBreathing\\Data\\Interim\\Audio\\4_SART-11-speech.wav\n",
      "Currently running: E:\\Data\\2020_ResonanceBreathing\\Data\\Interim\\Audio\\5_PassiveViewing-11-speech.wav\n",
      "Currently running: E:\\Data\\2020_ResonanceBreathing\\Data\\Interim\\Audio\\2_Breathing-12-speech.wav\n",
      "Currently running: E:\\Data\\2020_ResonanceBreathing\\Data\\Interim\\Audio\\3_Calculus-12-speech.wav\n",
      "Currently running: E:\\Data\\2020_ResonanceBreathing\\Data\\Interim\\Audio\\4_SART-12-speech.wav\n"
     ]
    },
    {
     "name": "stderr",
     "output_type": "stream",
     "text": [
      "C:\\Users\\mitch\\anaconda3\\envs\\stress_study_lib\\lib\\site-packages\\whisper\\transcribe.py:78: UserWarning: FP16 is not supported on CPU; using FP32 instead\n",
      "  warnings.warn(\"FP16 is not supported on CPU; using FP32 instead\")\n"
     ]
    },
    {
     "name": "stdout",
     "output_type": "stream",
     "text": [
      "Currently running: E:\\Data\\2020_ResonanceBreathing\\Data\\Interim\\Audio\\5_PassiveViewing-12-speech.wav\n",
      "Currently running: E:\\Data\\2020_ResonanceBreathing\\Data\\Interim\\Audio\\2_Breathing-13-speech.wav\n",
      "Currently running: E:\\Data\\2020_ResonanceBreathing\\Data\\Interim\\Audio\\3_Calculus-13-speech.wav\n",
      "Currently running: E:\\Data\\2020_ResonanceBreathing\\Data\\Interim\\Audio\\4_SART-13-speech.wav\n",
      "Currently running: E:\\Data\\2020_ResonanceBreathing\\Data\\Interim\\Audio\\5_PassiveViewing-13-speech.wav\n"
     ]
    },
    {
     "name": "stderr",
     "output_type": "stream",
     "text": [
      "C:\\Users\\mitch\\anaconda3\\envs\\stress_study_lib\\lib\\site-packages\\whisper\\transcribe.py:78: UserWarning: FP16 is not supported on CPU; using FP32 instead\n",
      "  warnings.warn(\"FP16 is not supported on CPU; using FP32 instead\")\n"
     ]
    },
    {
     "name": "stdout",
     "output_type": "stream",
     "text": [
      "Currently running: E:\\Data\\2020_ResonanceBreathing\\Data\\Interim\\Audio\\2_Breathing-14-speech.wav\n",
      "Currently running: E:\\Data\\2020_ResonanceBreathing\\Data\\Interim\\Audio\\3_Calculus-14-speech.wav\n",
      "Currently running: E:\\Data\\2020_ResonanceBreathing\\Data\\Interim\\Audio\\4_SART-14-speech.wav\n",
      "Currently running: E:\\Data\\2020_ResonanceBreathing\\Data\\Interim\\Audio\\5_PassiveViewing-14-speech.wav\n",
      "Currently running: E:\\Data\\2020_ResonanceBreathing\\Data\\Interim\\Audio\\2_Breathing-15-speech.wav\n"
     ]
    },
    {
     "name": "stderr",
     "output_type": "stream",
     "text": [
      "C:\\Users\\mitch\\anaconda3\\envs\\stress_study_lib\\lib\\site-packages\\whisper\\transcribe.py:78: UserWarning: FP16 is not supported on CPU; using FP32 instead\n",
      "  warnings.warn(\"FP16 is not supported on CPU; using FP32 instead\")\n"
     ]
    },
    {
     "name": "stdout",
     "output_type": "stream",
     "text": [
      "Currently running: E:\\Data\\2020_ResonanceBreathing\\Data\\Interim\\Audio\\3_Calculus-15-speech.wav\n",
      "Currently running: E:\\Data\\2020_ResonanceBreathing\\Data\\Interim\\Audio\\4_SART-15-speech.wav\n",
      "Currently running: E:\\Data\\2020_ResonanceBreathing\\Data\\Interim\\Audio\\5_PassiveViewing-15-speech.wav\n",
      "Currently running: E:\\Data\\2020_ResonanceBreathing\\Data\\Interim\\Audio\\2_Breathing-16-speech.wav\n",
      "Currently running: E:\\Data\\2020_ResonanceBreathing\\Data\\Interim\\Audio\\3_Calculus-16-speech.wav\n"
     ]
    },
    {
     "name": "stderr",
     "output_type": "stream",
     "text": [
      "C:\\Users\\mitch\\anaconda3\\envs\\stress_study_lib\\lib\\site-packages\\whisper\\transcribe.py:78: UserWarning: FP16 is not supported on CPU; using FP32 instead\n",
      "  warnings.warn(\"FP16 is not supported on CPU; using FP32 instead\")\n"
     ]
    },
    {
     "name": "stdout",
     "output_type": "stream",
     "text": [
      "Currently running: E:\\Data\\2020_ResonanceBreathing\\Data\\Interim\\Audio\\4_SART-16-speech.wav\n",
      "Currently running: E:\\Data\\2020_ResonanceBreathing\\Data\\Interim\\Audio\\5_PassiveViewing-16-speech.wav\n",
      "Currently running: E:\\Data\\2020_ResonanceBreathing\\Data\\Interim\\Audio\\2_Breathing-17-speech.wav\n",
      "Currently running: E:\\Data\\2020_ResonanceBreathing\\Data\\Interim\\Audio\\3_Calculus-17-speech.wav\n",
      "Currently running: E:\\Data\\2020_ResonanceBreathing\\Data\\Interim\\Audio\\4_SART-17-speech.wav\n"
     ]
    },
    {
     "name": "stderr",
     "output_type": "stream",
     "text": [
      "C:\\Users\\mitch\\anaconda3\\envs\\stress_study_lib\\lib\\site-packages\\whisper\\transcribe.py:78: UserWarning: FP16 is not supported on CPU; using FP32 instead\n",
      "  warnings.warn(\"FP16 is not supported on CPU; using FP32 instead\")\n"
     ]
    },
    {
     "name": "stdout",
     "output_type": "stream",
     "text": [
      "Currently running: E:\\Data\\2020_ResonanceBreathing\\Data\\Interim\\Audio\\5_PassiveViewing-17-speech.wav\n",
      "Currently running: E:\\Data\\2020_ResonanceBreathing\\Data\\Interim\\Audio\\2_Breathing-18-speech.wav\n",
      "Currently running: E:\\Data\\2020_ResonanceBreathing\\Data\\Interim\\Audio\\3_Calculus-18-speech.wav\n",
      "Currently running: E:\\Data\\2020_ResonanceBreathing\\Data\\Interim\\Audio\\4_SART-18-speech.wav\n",
      "Currently running: E:\\Data\\2020_ResonanceBreathing\\Data\\Interim\\Audio\\5_PassiveViewing-18-speech.wav\n"
     ]
    },
    {
     "name": "stderr",
     "output_type": "stream",
     "text": [
      "C:\\Users\\mitch\\anaconda3\\envs\\stress_study_lib\\lib\\site-packages\\whisper\\transcribe.py:78: UserWarning: FP16 is not supported on CPU; using FP32 instead\n",
      "  warnings.warn(\"FP16 is not supported on CPU; using FP32 instead\")\n"
     ]
    },
    {
     "name": "stdout",
     "output_type": "stream",
     "text": [
      "Currently running: E:\\Data\\2020_ResonanceBreathing\\Data\\Interim\\Audio\\2_Breathing-19-speech.wav\n",
      "Currently running: E:\\Data\\2020_ResonanceBreathing\\Data\\Interim\\Audio\\3_Calculus-19-speech.wav\n",
      "Currently running: E:\\Data\\2020_ResonanceBreathing\\Data\\Interim\\Audio\\4_SART-19-speech.wav\n",
      "Currently running: E:\\Data\\2020_ResonanceBreathing\\Data\\Interim\\Audio\\5_PassiveViewing-19-speech.wav\n",
      "Currently running: E:\\Data\\2020_ResonanceBreathing\\Data\\Interim\\Audio\\2_Breathing-20-speech.wav\n"
     ]
    },
    {
     "name": "stderr",
     "output_type": "stream",
     "text": [
      "C:\\Users\\mitch\\anaconda3\\envs\\stress_study_lib\\lib\\site-packages\\whisper\\transcribe.py:78: UserWarning: FP16 is not supported on CPU; using FP32 instead\n",
      "  warnings.warn(\"FP16 is not supported on CPU; using FP32 instead\")\n"
     ]
    },
    {
     "name": "stdout",
     "output_type": "stream",
     "text": [
      "Currently running: E:\\Data\\2020_ResonanceBreathing\\Data\\Interim\\Audio\\3_Calculus-20-speech.wav\n",
      "Currently running: E:\\Data\\2020_ResonanceBreathing\\Data\\Interim\\Audio\\4_SART-20-speech.wav\n",
      "Currently running: E:\\Data\\2020_ResonanceBreathing\\Data\\Interim\\Audio\\5_PassiveViewing-20-speech.wav\n",
      "Currently running: E:\\Data\\2020_ResonanceBreathing\\Data\\Interim\\Audio\\2_Breathing-21-speech.wav\n",
      "Currently running: E:\\Data\\2020_ResonanceBreathing\\Data\\Interim\\Audio\\3_Calculus-21-speech.wav\n"
     ]
    },
    {
     "name": "stderr",
     "output_type": "stream",
     "text": [
      "C:\\Users\\mitch\\anaconda3\\envs\\stress_study_lib\\lib\\site-packages\\whisper\\transcribe.py:78: UserWarning: FP16 is not supported on CPU; using FP32 instead\n",
      "  warnings.warn(\"FP16 is not supported on CPU; using FP32 instead\")\n"
     ]
    },
    {
     "name": "stdout",
     "output_type": "stream",
     "text": [
      "Currently running: E:\\Data\\2020_ResonanceBreathing\\Data\\Interim\\Audio\\4_SART-21-speech.wav\n",
      "Currently running: E:\\Data\\2020_ResonanceBreathing\\Data\\Interim\\Audio\\5_PassiveViewing-21-speech.wav\n",
      "Currently running: E:\\Data\\2020_ResonanceBreathing\\Data\\Interim\\Audio\\2_Breathing-22-speech.wav\n",
      "Currently running: E:\\Data\\2020_ResonanceBreathing\\Data\\Interim\\Audio\\3_Calculus-22-speech.wav\n",
      "Currently running: E:\\Data\\2020_ResonanceBreathing\\Data\\Interim\\Audio\\4_SART-22-speech.wav\n"
     ]
    },
    {
     "name": "stderr",
     "output_type": "stream",
     "text": [
      "C:\\Users\\mitch\\anaconda3\\envs\\stress_study_lib\\lib\\site-packages\\whisper\\transcribe.py:78: UserWarning: FP16 is not supported on CPU; using FP32 instead\n",
      "  warnings.warn(\"FP16 is not supported on CPU; using FP32 instead\")\n"
     ]
    },
    {
     "name": "stdout",
     "output_type": "stream",
     "text": [
      "Currently running: E:\\Data\\2020_ResonanceBreathing\\Data\\Interim\\Audio\\5_PassiveViewing-22-speech.wav\n",
      "Currently running: E:\\Data\\2020_ResonanceBreathing\\Data\\Interim\\Audio\\2_Breathing-23-speech.wav\n",
      "Currently running: E:\\Data\\2020_ResonanceBreathing\\Data\\Interim\\Audio\\3_Calculus-23-speech.wav\n",
      "Currently running: E:\\Data\\2020_ResonanceBreathing\\Data\\Interim\\Audio\\4_SART-23-speech.wav\n",
      "Currently running: E:\\Data\\2020_ResonanceBreathing\\Data\\Interim\\Audio\\5_PassiveViewing-23-speech.wav\n"
     ]
    },
    {
     "name": "stderr",
     "output_type": "stream",
     "text": [
      "C:\\Users\\mitch\\anaconda3\\envs\\stress_study_lib\\lib\\site-packages\\whisper\\transcribe.py:78: UserWarning: FP16 is not supported on CPU; using FP32 instead\n",
      "  warnings.warn(\"FP16 is not supported on CPU; using FP32 instead\")\n"
     ]
    },
    {
     "name": "stdout",
     "output_type": "stream",
     "text": [
      "Currently running: E:\\Data\\2020_ResonanceBreathing\\Data\\Interim\\Audio\\2_Breathing-24-speech.wav\n",
      "Currently running: E:\\Data\\2020_ResonanceBreathing\\Data\\Interim\\Audio\\3_Calculus-24-speech.wav\n",
      "Currently running: E:\\Data\\2020_ResonanceBreathing\\Data\\Interim\\Audio\\4_SART-24-speech.wav\n",
      "Currently running: E:\\Data\\2020_ResonanceBreathing\\Data\\Interim\\Audio\\5_PassiveViewing-24-speech.wav\n",
      "Currently running: E:\\Data\\2020_ResonanceBreathing\\Data\\Interim\\Audio\\2_Breathing-25-speech.wav\n"
     ]
    },
    {
     "name": "stderr",
     "output_type": "stream",
     "text": [
      "C:\\Users\\mitch\\anaconda3\\envs\\stress_study_lib\\lib\\site-packages\\whisper\\transcribe.py:78: UserWarning: FP16 is not supported on CPU; using FP32 instead\n",
      "  warnings.warn(\"FP16 is not supported on CPU; using FP32 instead\")\n"
     ]
    },
    {
     "name": "stdout",
     "output_type": "stream",
     "text": [
      "Currently running: E:\\Data\\2020_ResonanceBreathing\\Data\\Interim\\Audio\\3_Calculus-25-speech.wav\n",
      "Currently running: E:\\Data\\2020_ResonanceBreathing\\Data\\Interim\\Audio\\4_SART-25-speech.wav\n",
      "Currently running: E:\\Data\\2020_ResonanceBreathing\\Data\\Interim\\Audio\\5_PassiveViewing-25-speech.wav\n",
      "Currently running: E:\\Data\\2020_ResonanceBreathing\\Data\\Interim\\Audio\\2_Breathing-26-speech.wav\n",
      "Currently running: E:\\Data\\2020_ResonanceBreathing\\Data\\Interim\\Audio\\3_Calculus-26-speech.wav\n"
     ]
    },
    {
     "name": "stderr",
     "output_type": "stream",
     "text": [
      "C:\\Users\\mitch\\anaconda3\\envs\\stress_study_lib\\lib\\site-packages\\whisper\\transcribe.py:78: UserWarning: FP16 is not supported on CPU; using FP32 instead\n",
      "  warnings.warn(\"FP16 is not supported on CPU; using FP32 instead\")\n"
     ]
    },
    {
     "name": "stdout",
     "output_type": "stream",
     "text": [
      "Currently running: E:\\Data\\2020_ResonanceBreathing\\Data\\Interim\\Audio\\4_SART-26-speech.wav\n",
      "Currently running: E:\\Data\\2020_ResonanceBreathing\\Data\\Interim\\Audio\\5_PassiveViewing-26-speech.wav\n",
      "Currently running: E:\\Data\\2020_ResonanceBreathing\\Data\\Interim\\Audio\\2_Breathing-27-speech.wav\n",
      "Currently running: E:\\Data\\2020_ResonanceBreathing\\Data\\Interim\\Audio\\3_Calculus-27-speech.wav\n",
      "Currently running: E:\\Data\\2020_ResonanceBreathing\\Data\\Interim\\Audio\\4_SART-27-speech.wav\n"
     ]
    },
    {
     "name": "stderr",
     "output_type": "stream",
     "text": [
      "C:\\Users\\mitch\\anaconda3\\envs\\stress_study_lib\\lib\\site-packages\\whisper\\transcribe.py:78: UserWarning: FP16 is not supported on CPU; using FP32 instead\n",
      "  warnings.warn(\"FP16 is not supported on CPU; using FP32 instead\")\n"
     ]
    },
    {
     "name": "stdout",
     "output_type": "stream",
     "text": [
      "Currently running: E:\\Data\\2020_ResonanceBreathing\\Data\\Interim\\Audio\\5_PassiveViewing-27-speech.wav\n",
      "Currently running: E:\\Data\\2020_ResonanceBreathing\\Data\\Interim\\Audio\\2_Breathing-28-speech.wav\n",
      "Currently running: E:\\Data\\2020_ResonanceBreathing\\Data\\Interim\\Audio\\3_Calculus-28-speech.wav\n",
      "Currently running: E:\\Data\\2020_ResonanceBreathing\\Data\\Interim\\Audio\\4_SART-28-speech.wav\n",
      "Currently running: E:\\Data\\2020_ResonanceBreathing\\Data\\Interim\\Audio\\5_PassiveViewing-28-speech.wav\n"
     ]
    },
    {
     "name": "stderr",
     "output_type": "stream",
     "text": [
      "C:\\Users\\mitch\\anaconda3\\envs\\stress_study_lib\\lib\\site-packages\\whisper\\transcribe.py:78: UserWarning: FP16 is not supported on CPU; using FP32 instead\n",
      "  warnings.warn(\"FP16 is not supported on CPU; using FP32 instead\")\n"
     ]
    },
    {
     "name": "stdout",
     "output_type": "stream",
     "text": [
      "Currently running: E:\\Data\\2020_ResonanceBreathing\\Data\\Interim\\Audio\\2_Breathing-29-speech.wav\n",
      "Currently running: E:\\Data\\2020_ResonanceBreathing\\Data\\Interim\\Audio\\3_Calculus-29-speech.wav\n",
      "Currently running: E:\\Data\\2020_ResonanceBreathing\\Data\\Interim\\Audio\\4_SART-29-speech.wav\n",
      "Currently running: E:\\Data\\2020_ResonanceBreathing\\Data\\Interim\\Audio\\5_PassiveViewing-29-speech.wav\n",
      "Currently running: E:\\Data\\2020_ResonanceBreathing\\Data\\Interim\\Audio\\2_Breathing-30-speech.wav\n"
     ]
    },
    {
     "name": "stderr",
     "output_type": "stream",
     "text": [
      "C:\\Users\\mitch\\anaconda3\\envs\\stress_study_lib\\lib\\site-packages\\whisper\\transcribe.py:78: UserWarning: FP16 is not supported on CPU; using FP32 instead\n",
      "  warnings.warn(\"FP16 is not supported on CPU; using FP32 instead\")\n"
     ]
    },
    {
     "name": "stdout",
     "output_type": "stream",
     "text": [
      "Currently running: E:\\Data\\2020_ResonanceBreathing\\Data\\Interim\\Audio\\3_Calculus-30-speech.wav\n",
      "Currently running: E:\\Data\\2020_ResonanceBreathing\\Data\\Interim\\Audio\\4_SART-30-speech.wav\n",
      "Currently running: E:\\Data\\2020_ResonanceBreathing\\Data\\Interim\\Audio\\5_PassiveViewing-30-speech.wav\n",
      "Currently running: E:\\Data\\2020_ResonanceBreathing\\Data\\Interim\\Audio\\2_Breathing-31-speech.wav\n",
      "Currently running: E:\\Data\\2020_ResonanceBreathing\\Data\\Interim\\Audio\\3_Calculus-31-speech.wav\n"
     ]
    },
    {
     "name": "stderr",
     "output_type": "stream",
     "text": [
      "C:\\Users\\mitch\\anaconda3\\envs\\stress_study_lib\\lib\\site-packages\\whisper\\transcribe.py:78: UserWarning: FP16 is not supported on CPU; using FP32 instead\n",
      "  warnings.warn(\"FP16 is not supported on CPU; using FP32 instead\")\n"
     ]
    },
    {
     "name": "stdout",
     "output_type": "stream",
     "text": [
      "Currently running: E:\\Data\\2020_ResonanceBreathing\\Data\\Interim\\Audio\\4_SART-31-speech.wav\n",
      "Currently running: E:\\Data\\2020_ResonanceBreathing\\Data\\Interim\\Audio\\5_PassiveViewing-31-speech.wav\n",
      "Currently running: E:\\Data\\2020_ResonanceBreathing\\Data\\Interim\\Audio\\2_Breathing-32-speech.wav\n",
      "Currently running: E:\\Data\\2020_ResonanceBreathing\\Data\\Interim\\Audio\\3_Calculus-32-speech.wav\n",
      "Currently running: E:\\Data\\2020_ResonanceBreathing\\Data\\Interim\\Audio\\4_SART-32-speech.wav\n"
     ]
    },
    {
     "name": "stderr",
     "output_type": "stream",
     "text": [
      "C:\\Users\\mitch\\anaconda3\\envs\\stress_study_lib\\lib\\site-packages\\whisper\\transcribe.py:78: UserWarning: FP16 is not supported on CPU; using FP32 instead\n",
      "  warnings.warn(\"FP16 is not supported on CPU; using FP32 instead\")\n"
     ]
    },
    {
     "name": "stdout",
     "output_type": "stream",
     "text": [
      "Currently running: E:\\Data\\2020_ResonanceBreathing\\Data\\Interim\\Audio\\5_PassiveViewing-32-speech.wav\n",
      "Currently running: E:\\Data\\2020_ResonanceBreathing\\Data\\Interim\\Audio\\2_Breathing-33-speech.wav\n",
      "Currently running: E:\\Data\\2020_ResonanceBreathing\\Data\\Interim\\Audio\\3_Calculus-33-speech.wav\n",
      "Currently running: E:\\Data\\2020_ResonanceBreathing\\Data\\Interim\\Audio\\4_SART-33-speech.wav\n",
      "Currently running: E:\\Data\\2020_ResonanceBreathing\\Data\\Interim\\Audio\\5_PassiveViewing-33-speech.wav\n"
     ]
    },
    {
     "name": "stderr",
     "output_type": "stream",
     "text": [
      "C:\\Users\\mitch\\anaconda3\\envs\\stress_study_lib\\lib\\site-packages\\whisper\\transcribe.py:78: UserWarning: FP16 is not supported on CPU; using FP32 instead\n",
      "  warnings.warn(\"FP16 is not supported on CPU; using FP32 instead\")\n"
     ]
    },
    {
     "name": "stdout",
     "output_type": "stream",
     "text": [
      "Currently running: E:\\Data\\2020_ResonanceBreathing\\Data\\Interim\\Audio\\2_Breathing-34-speech.wav\n",
      "Currently running: E:\\Data\\2020_ResonanceBreathing\\Data\\Interim\\Audio\\3_Calculus-34-speech.wav\n",
      "Currently running: E:\\Data\\2020_ResonanceBreathing\\Data\\Interim\\Audio\\4_SART-34-speech.wav\n",
      "Currently running: E:\\Data\\2020_ResonanceBreathing\\Data\\Interim\\Audio\\5_PassiveViewing-34-speech.wav\n",
      "Currently running: E:\\Data\\2020_ResonanceBreathing\\Data\\Interim\\Audio\\2_Breathing-35-speech.wav\n"
     ]
    },
    {
     "name": "stderr",
     "output_type": "stream",
     "text": [
      "C:\\Users\\mitch\\anaconda3\\envs\\stress_study_lib\\lib\\site-packages\\whisper\\transcribe.py:78: UserWarning: FP16 is not supported on CPU; using FP32 instead\n",
      "  warnings.warn(\"FP16 is not supported on CPU; using FP32 instead\")\n"
     ]
    },
    {
     "name": "stdout",
     "output_type": "stream",
     "text": [
      "Currently running: E:\\Data\\2020_ResonanceBreathing\\Data\\Interim\\Audio\\3_Calculus-35-speech.wav\n",
      "Currently running: E:\\Data\\2020_ResonanceBreathing\\Data\\Interim\\Audio\\4_SART-35-speech.wav\n",
      "Currently running: E:\\Data\\2020_ResonanceBreathing\\Data\\Interim\\Audio\\5_PassiveViewing-35-speech.wav\n",
      "Currently running: E:\\Data\\2020_ResonanceBreathing\\Data\\Interim\\Audio\\2_Breathing-36-speech.wav\n",
      "Currently running: E:\\Data\\2020_ResonanceBreathing\\Data\\Interim\\Audio\\3_Calculus-36-speech.wav\n"
     ]
    },
    {
     "name": "stderr",
     "output_type": "stream",
     "text": [
      "C:\\Users\\mitch\\anaconda3\\envs\\stress_study_lib\\lib\\site-packages\\whisper\\transcribe.py:78: UserWarning: FP16 is not supported on CPU; using FP32 instead\n",
      "  warnings.warn(\"FP16 is not supported on CPU; using FP32 instead\")\n"
     ]
    },
    {
     "name": "stdout",
     "output_type": "stream",
     "text": [
      "Currently running: E:\\Data\\2020_ResonanceBreathing\\Data\\Interim\\Audio\\4_SART-36-speech.wav\n",
      "Currently running: E:\\Data\\2020_ResonanceBreathing\\Data\\Interim\\Audio\\5_PassiveViewing-36-speech.wav\n",
      "Currently running: E:\\Data\\2020_ResonanceBreathing\\Data\\Interim\\Audio\\2_Breathing-37-speech.wav\n",
      "Currently running: E:\\Data\\2020_ResonanceBreathing\\Data\\Interim\\Audio\\3_Calculus-37-speech.wav\n",
      "Currently running: E:\\Data\\2020_ResonanceBreathing\\Data\\Interim\\Audio\\4_SART-37-speech.wav\n"
     ]
    },
    {
     "name": "stderr",
     "output_type": "stream",
     "text": [
      "C:\\Users\\mitch\\anaconda3\\envs\\stress_study_lib\\lib\\site-packages\\whisper\\transcribe.py:78: UserWarning: FP16 is not supported on CPU; using FP32 instead\n",
      "  warnings.warn(\"FP16 is not supported on CPU; using FP32 instead\")\n"
     ]
    },
    {
     "name": "stdout",
     "output_type": "stream",
     "text": [
      "Currently running: E:\\Data\\2020_ResonanceBreathing\\Data\\Interim\\Audio\\5_PassiveViewing-37-speech.wav\n",
      "Currently running: E:\\Data\\2020_ResonanceBreathing\\Data\\Interim\\Audio\\2_Breathing-38-speech.wav\n",
      "Currently running: E:\\Data\\2020_ResonanceBreathing\\Data\\Interim\\Audio\\3_Calculus-38-speech.wav\n",
      "Currently running: E:\\Data\\2020_ResonanceBreathing\\Data\\Interim\\Audio\\4_SART-38-speech.wav\n",
      "Currently running: E:\\Data\\2020_ResonanceBreathing\\Data\\Interim\\Audio\\5_PassiveViewing-38-speech.wav\n"
     ]
    },
    {
     "name": "stderr",
     "output_type": "stream",
     "text": [
      "C:\\Users\\mitch\\anaconda3\\envs\\stress_study_lib\\lib\\site-packages\\whisper\\transcribe.py:78: UserWarning: FP16 is not supported on CPU; using FP32 instead\n",
      "  warnings.warn(\"FP16 is not supported on CPU; using FP32 instead\")\n"
     ]
    },
    {
     "name": "stdout",
     "output_type": "stream",
     "text": [
      "Currently running: E:\\Data\\2020_ResonanceBreathing\\Data\\Interim\\Audio\\2_Breathing-39-speech.wav\n",
      "Currently running: E:\\Data\\2020_ResonanceBreathing\\Data\\Interim\\Audio\\3_Calculus-39-speech.wav\n",
      "Currently running: E:\\Data\\2020_ResonanceBreathing\\Data\\Interim\\Audio\\4_SART-39-speech.wav\n",
      "Currently running: E:\\Data\\2020_ResonanceBreathing\\Data\\Interim\\Audio\\5_PassiveViewing-39-speech.wav\n",
      "Currently running: E:\\Data\\2020_ResonanceBreathing\\Data\\Interim\\Audio\\2_Breathing-40-speech.wav\n"
     ]
    },
    {
     "name": "stderr",
     "output_type": "stream",
     "text": [
      "C:\\Users\\mitch\\anaconda3\\envs\\stress_study_lib\\lib\\site-packages\\whisper\\transcribe.py:78: UserWarning: FP16 is not supported on CPU; using FP32 instead\n",
      "  warnings.warn(\"FP16 is not supported on CPU; using FP32 instead\")\n"
     ]
    },
    {
     "name": "stdout",
     "output_type": "stream",
     "text": [
      "Currently running: E:\\Data\\2020_ResonanceBreathing\\Data\\Interim\\Audio\\3_Calculus-40-speech.wav\n",
      "Currently running: E:\\Data\\2020_ResonanceBreathing\\Data\\Interim\\Audio\\4_SART-40-speech.wav\n",
      "Currently running: E:\\Data\\2020_ResonanceBreathing\\Data\\Interim\\Audio\\5_PassiveViewing-40-speech.wav\n",
      "Currently running: E:\\Data\\2020_ResonanceBreathing\\Data\\Interim\\Audio\\2_Breathing-41-speech.wav\n",
      "Currently running: E:\\Data\\2020_ResonanceBreathing\\Data\\Interim\\Audio\\3_Calculus-41-speech.wav\n"
     ]
    },
    {
     "name": "stderr",
     "output_type": "stream",
     "text": [
      "C:\\Users\\mitch\\anaconda3\\envs\\stress_study_lib\\lib\\site-packages\\whisper\\transcribe.py:78: UserWarning: FP16 is not supported on CPU; using FP32 instead\n",
      "  warnings.warn(\"FP16 is not supported on CPU; using FP32 instead\")\n"
     ]
    },
    {
     "name": "stdout",
     "output_type": "stream",
     "text": [
      "Currently running: E:\\Data\\2020_ResonanceBreathing\\Data\\Interim\\Audio\\4_SART-41-speech.wav\n",
      "Currently running: E:\\Data\\2020_ResonanceBreathing\\Data\\Interim\\Audio\\5_PassiveViewing-41-speech.wav\n",
      "Currently running: E:\\Data\\2020_ResonanceBreathing\\Data\\Interim\\Audio\\2_Breathing-42-speech.wav\n",
      "Currently running: E:\\Data\\2020_ResonanceBreathing\\Data\\Interim\\Audio\\3_Calculus-42-speech.wav\n",
      "Currently running: E:\\Data\\2020_ResonanceBreathing\\Data\\Interim\\Audio\\4_SART-42-speech.wav\n"
     ]
    },
    {
     "name": "stderr",
     "output_type": "stream",
     "text": [
      "C:\\Users\\mitch\\anaconda3\\envs\\stress_study_lib\\lib\\site-packages\\whisper\\transcribe.py:78: UserWarning: FP16 is not supported on CPU; using FP32 instead\n",
      "  warnings.warn(\"FP16 is not supported on CPU; using FP32 instead\")\n"
     ]
    },
    {
     "name": "stdout",
     "output_type": "stream",
     "text": [
      "Currently running: E:\\Data\\2020_ResonanceBreathing\\Data\\Interim\\Audio\\5_PassiveViewing-42-speech.wav\n",
      "Currently running: E:\\Data\\2020_ResonanceBreathing\\Data\\Interim\\Audio\\2_Breathing-43-speech.wav\n",
      "Currently running: E:\\Data\\2020_ResonanceBreathing\\Data\\Interim\\Audio\\3_Calculus-43-speech.wav\n",
      "Currently running: E:\\Data\\2020_ResonanceBreathing\\Data\\Interim\\Audio\\4_SART-43-speech.wav\n",
      "Currently running: E:\\Data\\2020_ResonanceBreathing\\Data\\Interim\\Audio\\5_PassiveViewing-43-speech.wav\n"
     ]
    },
    {
     "name": "stderr",
     "output_type": "stream",
     "text": [
      "C:\\Users\\mitch\\anaconda3\\envs\\stress_study_lib\\lib\\site-packages\\whisper\\transcribe.py:78: UserWarning: FP16 is not supported on CPU; using FP32 instead\n",
      "  warnings.warn(\"FP16 is not supported on CPU; using FP32 instead\")\n"
     ]
    },
    {
     "name": "stdout",
     "output_type": "stream",
     "text": [
      "Currently running: E:\\Data\\2020_ResonanceBreathing\\Data\\Interim\\Audio\\2_Breathing-44-speech.wav\n",
      "Currently running: E:\\Data\\2020_ResonanceBreathing\\Data\\Interim\\Audio\\3_Calculus-44-speech.wav\n",
      "Currently running: E:\\Data\\2020_ResonanceBreathing\\Data\\Interim\\Audio\\4_SART-44-speech.wav\n",
      "Currently running: E:\\Data\\2020_ResonanceBreathing\\Data\\Interim\\Audio\\5_PassiveViewing-44-speech.wav\n",
      "Currently running: E:\\Data\\2020_ResonanceBreathing\\Data\\Interim\\Audio\\2_Breathing-45-speech.wav\n"
     ]
    },
    {
     "name": "stderr",
     "output_type": "stream",
     "text": [
      "C:\\Users\\mitch\\anaconda3\\envs\\stress_study_lib\\lib\\site-packages\\whisper\\transcribe.py:78: UserWarning: FP16 is not supported on CPU; using FP32 instead\n",
      "  warnings.warn(\"FP16 is not supported on CPU; using FP32 instead\")\n"
     ]
    },
    {
     "name": "stdout",
     "output_type": "stream",
     "text": [
      "Currently running: E:\\Data\\2020_ResonanceBreathing\\Data\\Interim\\Audio\\3_Calculus-45-speech.wav\n",
      "Currently running: E:\\Data\\2020_ResonanceBreathing\\Data\\Interim\\Audio\\4_SART-45-speech.wav\n",
      "Currently running: E:\\Data\\2020_ResonanceBreathing\\Data\\Interim\\Audio\\5_PassiveViewing-45-speech.wav\n",
      "Currently running: E:\\Data\\2020_ResonanceBreathing\\Data\\Interim\\Audio\\2_Breathing-46-speech.wav\n",
      "Currently running: E:\\Data\\2020_ResonanceBreathing\\Data\\Interim\\Audio\\3_Calculus-46-speech.wav\n"
     ]
    },
    {
     "name": "stderr",
     "output_type": "stream",
     "text": [
      "C:\\Users\\mitch\\anaconda3\\envs\\stress_study_lib\\lib\\site-packages\\whisper\\transcribe.py:78: UserWarning: FP16 is not supported on CPU; using FP32 instead\n",
      "  warnings.warn(\"FP16 is not supported on CPU; using FP32 instead\")\n"
     ]
    },
    {
     "name": "stdout",
     "output_type": "stream",
     "text": [
      "Currently running: E:\\Data\\2020_ResonanceBreathing\\Data\\Interim\\Audio\\4_SART-46-speech.wav\n",
      "Currently running: E:\\Data\\2020_ResonanceBreathing\\Data\\Interim\\Audio\\5_PassiveViewing-46-speech.wav\n",
      "Currently running: E:\\Data\\2020_ResonanceBreathing\\Data\\Interim\\Audio\\2_Breathing-47-speech.wav\n",
      "Currently running: E:\\Data\\2020_ResonanceBreathing\\Data\\Interim\\Audio\\3_Calculus-47-speech.wav\n",
      "Currently running: E:\\Data\\2020_ResonanceBreathing\\Data\\Interim\\Audio\\4_SART-47-speech.wav\n"
     ]
    },
    {
     "name": "stderr",
     "output_type": "stream",
     "text": [
      "C:\\Users\\mitch\\anaconda3\\envs\\stress_study_lib\\lib\\site-packages\\whisper\\transcribe.py:78: UserWarning: FP16 is not supported on CPU; using FP32 instead\n",
      "  warnings.warn(\"FP16 is not supported on CPU; using FP32 instead\")\n"
     ]
    },
    {
     "name": "stdout",
     "output_type": "stream",
     "text": [
      "Currently running: E:\\Data\\2020_ResonanceBreathing\\Data\\Interim\\Audio\\5_PassiveViewing-47-speech.wav\n",
      "Currently running: E:\\Data\\2020_ResonanceBreathing\\Data\\Interim\\Audio\\2_Breathing-48-speech.wav\n",
      "Currently running: E:\\Data\\2020_ResonanceBreathing\\Data\\Interim\\Audio\\3_Calculus-48-speech.wav\n",
      "Currently running: E:\\Data\\2020_ResonanceBreathing\\Data\\Interim\\Audio\\4_SART-48-speech.wav\n",
      "Currently running: E:\\Data\\2020_ResonanceBreathing\\Data\\Interim\\Audio\\5_PassiveViewing-48-speech.wav\n"
     ]
    },
    {
     "name": "stderr",
     "output_type": "stream",
     "text": [
      "C:\\Users\\mitch\\anaconda3\\envs\\stress_study_lib\\lib\\site-packages\\whisper\\transcribe.py:78: UserWarning: FP16 is not supported on CPU; using FP32 instead\n",
      "  warnings.warn(\"FP16 is not supported on CPU; using FP32 instead\")\n"
     ]
    },
    {
     "name": "stdout",
     "output_type": "stream",
     "text": [
      "Currently running: E:\\Data\\2020_ResonanceBreathing\\Data\\Interim\\Audio\\2_Breathing-49-speech.wav\n",
      "Currently running: E:\\Data\\2020_ResonanceBreathing\\Data\\Interim\\Audio\\3_Calculus-49-speech.wav\n",
      "Currently running: E:\\Data\\2020_ResonanceBreathing\\Data\\Interim\\Audio\\4_SART-49-speech.wav\n",
      "Currently running: E:\\Data\\2020_ResonanceBreathing\\Data\\Interim\\Audio\\5_PassiveViewing-49-speech.wav\n",
      "Currently running: E:\\Data\\2020_ResonanceBreathing\\Data\\Interim\\Audio\\2_Breathing-50-speech.wav\n"
     ]
    },
    {
     "name": "stderr",
     "output_type": "stream",
     "text": [
      "C:\\Users\\mitch\\anaconda3\\envs\\stress_study_lib\\lib\\site-packages\\whisper\\transcribe.py:78: UserWarning: FP16 is not supported on CPU; using FP32 instead\n",
      "  warnings.warn(\"FP16 is not supported on CPU; using FP32 instead\")\n"
     ]
    },
    {
     "name": "stdout",
     "output_type": "stream",
     "text": [
      "Currently running: E:\\Data\\2020_ResonanceBreathing\\Data\\Interim\\Audio\\3_Calculus-50-speech.wav\n",
      "Currently running: E:\\Data\\2020_ResonanceBreathing\\Data\\Interim\\Audio\\4_SART-50-speech.wav\n",
      "Currently running: E:\\Data\\2020_ResonanceBreathing\\Data\\Interim\\Audio\\5_PassiveViewing-50-speech.wav\n",
      "Currently running: E:\\Data\\2020_ResonanceBreathing\\Data\\Interim\\Audio\\2_Breathing-51-speech.wav\n",
      "Currently running: E:\\Data\\2020_ResonanceBreathing\\Data\\Interim\\Audio\\3_Calculus-51-speech.wav\n"
     ]
    },
    {
     "name": "stderr",
     "output_type": "stream",
     "text": [
      "C:\\Users\\mitch\\anaconda3\\envs\\stress_study_lib\\lib\\site-packages\\whisper\\transcribe.py:78: UserWarning: FP16 is not supported on CPU; using FP32 instead\n",
      "  warnings.warn(\"FP16 is not supported on CPU; using FP32 instead\")\n"
     ]
    },
    {
     "name": "stdout",
     "output_type": "stream",
     "text": [
      "Currently running: E:\\Data\\2020_ResonanceBreathing\\Data\\Interim\\Audio\\4_SART-51-speech.wav\n",
      "Currently running: E:\\Data\\2020_ResonanceBreathing\\Data\\Interim\\Audio\\5_PassiveViewing-51-speech.wav\n",
      "Currently running: E:\\Data\\2020_ResonanceBreathing\\Data\\Interim\\Audio\\2_Breathing-52-speech.wav\n",
      "Currently running: E:\\Data\\2020_ResonanceBreathing\\Data\\Interim\\Audio\\3_Calculus-52-speech.wav\n",
      "Currently running: E:\\Data\\2020_ResonanceBreathing\\Data\\Interim\\Audio\\4_SART-52-speech.wav\n"
     ]
    },
    {
     "name": "stderr",
     "output_type": "stream",
     "text": [
      "C:\\Users\\mitch\\anaconda3\\envs\\stress_study_lib\\lib\\site-packages\\whisper\\transcribe.py:78: UserWarning: FP16 is not supported on CPU; using FP32 instead\n",
      "  warnings.warn(\"FP16 is not supported on CPU; using FP32 instead\")\n"
     ]
    },
    {
     "name": "stdout",
     "output_type": "stream",
     "text": [
      "Currently running: E:\\Data\\2020_ResonanceBreathing\\Data\\Interim\\Audio\\5_PassiveViewing-52-speech.wav\n",
      "Currently running: E:\\Data\\2020_ResonanceBreathing\\Data\\Interim\\Audio\\2_Breathing-53-speech.wav\n",
      "Currently running: E:\\Data\\2020_ResonanceBreathing\\Data\\Interim\\Audio\\3_Calculus-53-speech.wav\n",
      "Currently running: E:\\Data\\2020_ResonanceBreathing\\Data\\Interim\\Audio\\4_SART-53-speech.wav\n",
      "Currently running: E:\\Data\\2020_ResonanceBreathing\\Data\\Interim\\Audio\\5_PassiveViewing-53-speech.wav\n"
     ]
    },
    {
     "name": "stderr",
     "output_type": "stream",
     "text": [
      "C:\\Users\\mitch\\anaconda3\\envs\\stress_study_lib\\lib\\site-packages\\whisper\\transcribe.py:78: UserWarning: FP16 is not supported on CPU; using FP32 instead\n",
      "  warnings.warn(\"FP16 is not supported on CPU; using FP32 instead\")\n"
     ]
    },
    {
     "name": "stdout",
     "output_type": "stream",
     "text": [
      "Currently running: E:\\Data\\2020_ResonanceBreathing\\Data\\Interim\\Audio\\2_Breathing-54-speech.wav\n",
      "Currently running: E:\\Data\\2020_ResonanceBreathing\\Data\\Interim\\Audio\\3_Calculus-54-speech.wav\n",
      "Currently running: E:\\Data\\2020_ResonanceBreathing\\Data\\Interim\\Audio\\4_SART-54-speech.wav\n",
      "Currently running: E:\\Data\\2020_ResonanceBreathing\\Data\\Interim\\Audio\\5_PassiveViewing-54-speech.wav\n",
      "Currently running: E:\\Data\\2020_ResonanceBreathing\\Data\\Interim\\Audio\\2_Breathing-55-speech.wav\n"
     ]
    },
    {
     "name": "stderr",
     "output_type": "stream",
     "text": [
      "C:\\Users\\mitch\\anaconda3\\envs\\stress_study_lib\\lib\\site-packages\\whisper\\transcribe.py:78: UserWarning: FP16 is not supported on CPU; using FP32 instead\n",
      "  warnings.warn(\"FP16 is not supported on CPU; using FP32 instead\")\n"
     ]
    },
    {
     "name": "stdout",
     "output_type": "stream",
     "text": [
      "Currently running: E:\\Data\\2020_ResonanceBreathing\\Data\\Interim\\Audio\\3_Calculus-55-speech.wav\n",
      "Currently running: E:\\Data\\2020_ResonanceBreathing\\Data\\Interim\\Audio\\4_SART-55-speech.wav\n",
      "Currently running: E:\\Data\\2020_ResonanceBreathing\\Data\\Interim\\Audio\\5_PassiveViewing-55-speech.wav\n",
      "Currently running: E:\\Data\\2020_ResonanceBreathing\\Data\\Interim\\Audio\\2_Breathing-56-speech.wav\n",
      "Currently running: E:\\Data\\2020_ResonanceBreathing\\Data\\Interim\\Audio\\3_Calculus-56-speech.wav\n"
     ]
    },
    {
     "name": "stderr",
     "output_type": "stream",
     "text": [
      "C:\\Users\\mitch\\anaconda3\\envs\\stress_study_lib\\lib\\site-packages\\whisper\\transcribe.py:78: UserWarning: FP16 is not supported on CPU; using FP32 instead\n",
      "  warnings.warn(\"FP16 is not supported on CPU; using FP32 instead\")\n"
     ]
    },
    {
     "name": "stdout",
     "output_type": "stream",
     "text": [
      "Currently running: E:\\Data\\2020_ResonanceBreathing\\Data\\Interim\\Audio\\4_SART-56-speech.wav\n",
      "Currently running: E:\\Data\\2020_ResonanceBreathing\\Data\\Interim\\Audio\\5_PassiveViewing-56-speech.wav\n",
      "Currently running: E:\\Data\\2020_ResonanceBreathing\\Data\\Interim\\Audio\\2_Breathing-57-speech.wav\n",
      "Currently running: E:\\Data\\2020_ResonanceBreathing\\Data\\Interim\\Audio\\3_Calculus-57-speech.wav\n",
      "Currently running: E:\\Data\\2020_ResonanceBreathing\\Data\\Interim\\Audio\\4_SART-57-speech.wav\n"
     ]
    },
    {
     "name": "stderr",
     "output_type": "stream",
     "text": [
      "C:\\Users\\mitch\\anaconda3\\envs\\stress_study_lib\\lib\\site-packages\\whisper\\transcribe.py:78: UserWarning: FP16 is not supported on CPU; using FP32 instead\n",
      "  warnings.warn(\"FP16 is not supported on CPU; using FP32 instead\")\n"
     ]
    },
    {
     "name": "stdout",
     "output_type": "stream",
     "text": [
      "Currently running: E:\\Data\\2020_ResonanceBreathing\\Data\\Interim\\Audio\\5_PassiveViewing-57-speech.wav\n",
      "Currently running: E:\\Data\\2020_ResonanceBreathing\\Data\\Interim\\Audio\\2_Breathing-58-speech.wav\n",
      "Currently running: E:\\Data\\2020_ResonanceBreathing\\Data\\Interim\\Audio\\3_Calculus-58-speech.wav\n",
      "Currently running: E:\\Data\\2020_ResonanceBreathing\\Data\\Interim\\Audio\\4_SART-58-speech.wav\n",
      "Currently running: E:\\Data\\2020_ResonanceBreathing\\Data\\Interim\\Audio\\5_PassiveViewing-58-speech.wav\n"
     ]
    },
    {
     "name": "stderr",
     "output_type": "stream",
     "text": [
      "C:\\Users\\mitch\\anaconda3\\envs\\stress_study_lib\\lib\\site-packages\\whisper\\transcribe.py:78: UserWarning: FP16 is not supported on CPU; using FP32 instead\n",
      "  warnings.warn(\"FP16 is not supported on CPU; using FP32 instead\")\n"
     ]
    },
    {
     "name": "stdout",
     "output_type": "stream",
     "text": [
      "Currently running: E:\\Data\\2020_ResonanceBreathing\\Data\\Interim\\Audio\\2_Breathing-60-speech.wav\n",
      "Currently running: E:\\Data\\2020_ResonanceBreathing\\Data\\Interim\\Audio\\3_Calculus-60-speech.wav\n",
      "Currently running: E:\\Data\\2020_ResonanceBreathing\\Data\\Interim\\Audio\\4_SART-60-speech.wav\n",
      "Currently running: E:\\Data\\2020_ResonanceBreathing\\Data\\Interim\\Audio\\5_PassiveViewing-60-speech.wav\n",
      "Currently running: E:\\Data\\2020_ResonanceBreathing\\Data\\Interim\\Audio\\2_Breathing-61-speech.wav\n"
     ]
    },
    {
     "name": "stderr",
     "output_type": "stream",
     "text": [
      "C:\\Users\\mitch\\anaconda3\\envs\\stress_study_lib\\lib\\site-packages\\whisper\\transcribe.py:78: UserWarning: FP16 is not supported on CPU; using FP32 instead\n",
      "  warnings.warn(\"FP16 is not supported on CPU; using FP32 instead\")\n"
     ]
    },
    {
     "name": "stdout",
     "output_type": "stream",
     "text": [
      "Currently running: E:\\Data\\2020_ResonanceBreathing\\Data\\Interim\\Audio\\3_Calculus-61-speech.wav\n",
      "Currently running: E:\\Data\\2020_ResonanceBreathing\\Data\\Interim\\Audio\\4_SART-61-speech.wav\n",
      "Currently running: E:\\Data\\2020_ResonanceBreathing\\Data\\Interim\\Audio\\5_PassiveViewing-61-speech.wav\n",
      "Currently running: E:\\Data\\2020_ResonanceBreathing\\Data\\Interim\\Audio\\2_Breathing-62-speech.wav\n",
      "Currently running: E:\\Data\\2020_ResonanceBreathing\\Data\\Interim\\Audio\\3_Calculus-62-speech.wav\n"
     ]
    },
    {
     "name": "stderr",
     "output_type": "stream",
     "text": [
      "C:\\Users\\mitch\\anaconda3\\envs\\stress_study_lib\\lib\\site-packages\\whisper\\transcribe.py:78: UserWarning: FP16 is not supported on CPU; using FP32 instead\n",
      "  warnings.warn(\"FP16 is not supported on CPU; using FP32 instead\")\n"
     ]
    },
    {
     "name": "stdout",
     "output_type": "stream",
     "text": [
      "Currently running: E:\\Data\\2020_ResonanceBreathing\\Data\\Interim\\Audio\\4_SART-62-speech.wav\n",
      "Currently running: E:\\Data\\2020_ResonanceBreathing\\Data\\Interim\\Audio\\5_PassiveViewing-62-speech.wav\n",
      "Currently running: E:\\Data\\2020_ResonanceBreathing\\Data\\Interim\\Audio\\2_Breathing-63-speech.wav\n",
      "Currently running: E:\\Data\\2020_ResonanceBreathing\\Data\\Interim\\Audio\\3_Calculus-63-speech.wav\n",
      "Currently running: E:\\Data\\2020_ResonanceBreathing\\Data\\Interim\\Audio\\4_SART-63-speech.wav\n"
     ]
    },
    {
     "name": "stderr",
     "output_type": "stream",
     "text": [
      "C:\\Users\\mitch\\anaconda3\\envs\\stress_study_lib\\lib\\site-packages\\whisper\\transcribe.py:78: UserWarning: FP16 is not supported on CPU; using FP32 instead\n",
      "  warnings.warn(\"FP16 is not supported on CPU; using FP32 instead\")\n"
     ]
    },
    {
     "name": "stdout",
     "output_type": "stream",
     "text": [
      "Currently running: E:\\Data\\2020_ResonanceBreathing\\Data\\Interim\\Audio\\5_PassiveViewing-63-speech.wav\n",
      "Currently running: E:\\Data\\2020_ResonanceBreathing\\Data\\Interim\\Audio\\2_Breathing-64-speech.wav\n",
      "Currently running: E:\\Data\\2020_ResonanceBreathing\\Data\\Interim\\Audio\\3_Calculus-64-speech.wav\n",
      "Currently running: E:\\Data\\2020_ResonanceBreathing\\Data\\Interim\\Audio\\4_SART-64-speech.wav\n",
      "Currently running: E:\\Data\\2020_ResonanceBreathing\\Data\\Interim\\Audio\\5_PassiveViewing-64-speech.wav\n"
     ]
    },
    {
     "name": "stderr",
     "output_type": "stream",
     "text": [
      "C:\\Users\\mitch\\anaconda3\\envs\\stress_study_lib\\lib\\site-packages\\whisper\\transcribe.py:78: UserWarning: FP16 is not supported on CPU; using FP32 instead\n",
      "  warnings.warn(\"FP16 is not supported on CPU; using FP32 instead\")\n"
     ]
    },
    {
     "name": "stdout",
     "output_type": "stream",
     "text": [
      "Currently running: E:\\Data\\2020_ResonanceBreathing\\Data\\Interim\\Audio\\2_Breathing-65-speech.wav\n",
      "Currently running: E:\\Data\\2020_ResonanceBreathing\\Data\\Interim\\Audio\\3_Calculus-65-speech.wav\n",
      "Currently running: E:\\Data\\2020_ResonanceBreathing\\Data\\Interim\\Audio\\4_SART-65-speech.wav\n",
      "Currently running: E:\\Data\\2020_ResonanceBreathing\\Data\\Interim\\Audio\\5_PassiveViewing-65-speech.wav\n",
      "Currently running: E:\\Data\\2020_ResonanceBreathing\\Data\\Interim\\Audio\\2_Breathing-66-speech.wav\n"
     ]
    },
    {
     "name": "stderr",
     "output_type": "stream",
     "text": [
      "C:\\Users\\mitch\\anaconda3\\envs\\stress_study_lib\\lib\\site-packages\\whisper\\transcribe.py:78: UserWarning: FP16 is not supported on CPU; using FP32 instead\n",
      "  warnings.warn(\"FP16 is not supported on CPU; using FP32 instead\")\n"
     ]
    },
    {
     "name": "stdout",
     "output_type": "stream",
     "text": [
      "Currently running: E:\\Data\\2020_ResonanceBreathing\\Data\\Interim\\Audio\\3_Calculus-66-speech.wav\n",
      "Currently running: E:\\Data\\2020_ResonanceBreathing\\Data\\Interim\\Audio\\4_SART-66-speech.wav\n",
      "Currently running: E:\\Data\\2020_ResonanceBreathing\\Data\\Interim\\Audio\\5_PassiveViewing-66-speech.wav\n",
      "Currently running: E:\\Data\\2020_ResonanceBreathing\\Data\\Interim\\Audio\\2_Breathing-67-speech.wav\n",
      "Currently running: E:\\Data\\2020_ResonanceBreathing\\Data\\Interim\\Audio\\3_Calculus-67-speech.wav\n"
     ]
    },
    {
     "name": "stderr",
     "output_type": "stream",
     "text": [
      "C:\\Users\\mitch\\anaconda3\\envs\\stress_study_lib\\lib\\site-packages\\whisper\\transcribe.py:78: UserWarning: FP16 is not supported on CPU; using FP32 instead\n",
      "  warnings.warn(\"FP16 is not supported on CPU; using FP32 instead\")\n"
     ]
    },
    {
     "name": "stdout",
     "output_type": "stream",
     "text": [
      "Currently running: E:\\Data\\2020_ResonanceBreathing\\Data\\Interim\\Audio\\5_PassiveViewing-67-speech.wav\n",
      "Currently running: E:\\Data\\2020_ResonanceBreathing\\Data\\Interim\\Audio\\2_Breathing-68-speech.wav\n",
      "Currently running: E:\\Data\\2020_ResonanceBreathing\\Data\\Interim\\Audio\\3_Calculus-68-speech.wav\n",
      "Currently running: E:\\Data\\2020_ResonanceBreathing\\Data\\Interim\\Audio\\4_SART-68-speech.wav\n",
      "Currently running: E:\\Data\\2020_ResonanceBreathing\\Data\\Interim\\Audio\\5_PassiveViewing-68-speech.wav\n"
     ]
    },
    {
     "name": "stderr",
     "output_type": "stream",
     "text": [
      "C:\\Users\\mitch\\anaconda3\\envs\\stress_study_lib\\lib\\site-packages\\whisper\\transcribe.py:78: UserWarning: FP16 is not supported on CPU; using FP32 instead\n",
      "  warnings.warn(\"FP16 is not supported on CPU; using FP32 instead\")\n"
     ]
    },
    {
     "name": "stdout",
     "output_type": "stream",
     "text": [
      "Currently running: E:\\Data\\2020_ResonanceBreathing\\Data\\Interim\\Audio\\2_Breathing-69-speech.wav\n",
      "Currently running: E:\\Data\\2020_ResonanceBreathing\\Data\\Interim\\Audio\\3_Calculus-69-speech.wav\n",
      "Currently running: E:\\Data\\2020_ResonanceBreathing\\Data\\Interim\\Audio\\5_PassiveViewing-69-speech.wav\n",
      "Currently running: E:\\Data\\2020_ResonanceBreathing\\Data\\Interim\\Audio\\2_Breathing-70-speech.wav\n",
      "Currently running: E:\\Data\\2020_ResonanceBreathing\\Data\\Interim\\Audio\\3_Calculus-70-speech.wav\n"
     ]
    },
    {
     "name": "stderr",
     "output_type": "stream",
     "text": [
      "C:\\Users\\mitch\\anaconda3\\envs\\stress_study_lib\\lib\\site-packages\\whisper\\transcribe.py:78: UserWarning: FP16 is not supported on CPU; using FP32 instead\n",
      "  warnings.warn(\"FP16 is not supported on CPU; using FP32 instead\")\n"
     ]
    },
    {
     "name": "stdout",
     "output_type": "stream",
     "text": [
      "Currently running: E:\\Data\\2020_ResonanceBreathing\\Data\\Interim\\Audio\\4_SART-70-speech.wav\n",
      "Currently running: E:\\Data\\2020_ResonanceBreathing\\Data\\Interim\\Audio\\5_PassiveViewing-70-speech.wav\n",
      "Currently running: E:\\Data\\2020_ResonanceBreathing\\Data\\Interim\\Audio\\2_Breathing-71-speech.wav\n",
      "Currently running: E:\\Data\\2020_ResonanceBreathing\\Data\\Interim\\Audio\\3_Calculus-71-speech.wav\n",
      "Currently running: E:\\Data\\2020_ResonanceBreathing\\Data\\Interim\\Audio\\4_SART-71-speech.wav\n"
     ]
    },
    {
     "name": "stderr",
     "output_type": "stream",
     "text": [
      "C:\\Users\\mitch\\anaconda3\\envs\\stress_study_lib\\lib\\site-packages\\whisper\\transcribe.py:78: UserWarning: FP16 is not supported on CPU; using FP32 instead\n",
      "  warnings.warn(\"FP16 is not supported on CPU; using FP32 instead\")\n"
     ]
    },
    {
     "name": "stdout",
     "output_type": "stream",
     "text": [
      "Currently running: E:\\Data\\2020_ResonanceBreathing\\Data\\Interim\\Audio\\5_PassiveViewing-71-speech.wav\n",
      "Currently running: E:\\Data\\2020_ResonanceBreathing\\Data\\Interim\\Audio\\2_Breathing-72-speech.wav\n",
      "Currently running: E:\\Data\\2020_ResonanceBreathing\\Data\\Interim\\Audio\\3_Calculus-72-speech.wav\n",
      "Currently running: E:\\Data\\2020_ResonanceBreathing\\Data\\Interim\\Audio\\4_SART-72-speech.wav\n",
      "Currently running: E:\\Data\\2020_ResonanceBreathing\\Data\\Interim\\Audio\\5_PassiveViewing-72-speech.wav\n"
     ]
    },
    {
     "name": "stderr",
     "output_type": "stream",
     "text": [
      "C:\\Users\\mitch\\anaconda3\\envs\\stress_study_lib\\lib\\site-packages\\whisper\\transcribe.py:78: UserWarning: FP16 is not supported on CPU; using FP32 instead\n",
      "  warnings.warn(\"FP16 is not supported on CPU; using FP32 instead\")\n"
     ]
    },
    {
     "name": "stdout",
     "output_type": "stream",
     "text": [
      "Currently running: E:\\Data\\2020_ResonanceBreathing\\Data\\Interim\\Audio\\2_Breathing-73-speech.wav\n",
      "Currently running: E:\\Data\\2020_ResonanceBreathing\\Data\\Interim\\Audio\\3_Calculus-73-speech.wav\n",
      "Currently running: E:\\Data\\2020_ResonanceBreathing\\Data\\Interim\\Audio\\4_SART-73-speech.wav\n",
      "Currently running: E:\\Data\\2020_ResonanceBreathing\\Data\\Interim\\Audio\\5_PassiveViewing-73-speech.wav\n",
      "Currently running: E:\\Data\\2020_ResonanceBreathing\\Data\\Interim\\Audio\\2_Breathing-74-speech.wav\n"
     ]
    },
    {
     "name": "stderr",
     "output_type": "stream",
     "text": [
      "C:\\Users\\mitch\\anaconda3\\envs\\stress_study_lib\\lib\\site-packages\\whisper\\transcribe.py:78: UserWarning: FP16 is not supported on CPU; using FP32 instead\n",
      "  warnings.warn(\"FP16 is not supported on CPU; using FP32 instead\")\n"
     ]
    },
    {
     "name": "stdout",
     "output_type": "stream",
     "text": [
      "Currently running: E:\\Data\\2020_ResonanceBreathing\\Data\\Interim\\Audio\\3_Calculus-74-speech.wav\n",
      "Currently running: E:\\Data\\2020_ResonanceBreathing\\Data\\Interim\\Audio\\4_SART-74-speech.wav\n",
      "Currently running: E:\\Data\\2020_ResonanceBreathing\\Data\\Interim\\Audio\\5_PassiveViewing-74-speech.wav\n",
      "Currently running: E:\\Data\\2020_ResonanceBreathing\\Data\\Interim\\Audio\\2_Breathing-75-speech.wav\n",
      "Currently running: E:\\Data\\2020_ResonanceBreathing\\Data\\Interim\\Audio\\3_Calculus-75-speech.wav\n"
     ]
    },
    {
     "name": "stderr",
     "output_type": "stream",
     "text": [
      "C:\\Users\\mitch\\anaconda3\\envs\\stress_study_lib\\lib\\site-packages\\whisper\\transcribe.py:78: UserWarning: FP16 is not supported on CPU; using FP32 instead\n",
      "  warnings.warn(\"FP16 is not supported on CPU; using FP32 instead\")\n"
     ]
    },
    {
     "name": "stdout",
     "output_type": "stream",
     "text": [
      "Currently running: E:\\Data\\2020_ResonanceBreathing\\Data\\Interim\\Audio\\4_SART-75-speech.wav\n",
      "Currently running: E:\\Data\\2020_ResonanceBreathing\\Data\\Interim\\Audio\\5_PassiveViewing-75-speech.wav\n",
      "Currently running: E:\\Data\\2020_ResonanceBreathing\\Data\\Interim\\Audio\\2_Breathing-76-speech.wav\n",
      "Currently running: E:\\Data\\2020_ResonanceBreathing\\Data\\Interim\\Audio\\3_Calculus-76-speech.wav\n",
      "Currently running: E:\\Data\\2020_ResonanceBreathing\\Data\\Interim\\Audio\\4_SART-76-speech.wav\n"
     ]
    },
    {
     "name": "stderr",
     "output_type": "stream",
     "text": [
      "C:\\Users\\mitch\\anaconda3\\envs\\stress_study_lib\\lib\\site-packages\\whisper\\transcribe.py:78: UserWarning: FP16 is not supported on CPU; using FP32 instead\n",
      "  warnings.warn(\"FP16 is not supported on CPU; using FP32 instead\")\n"
     ]
    },
    {
     "name": "stdout",
     "output_type": "stream",
     "text": [
      "Currently running: E:\\Data\\2020_ResonanceBreathing\\Data\\Interim\\Audio\\5_PassiveViewing-76-speech.wav\n",
      "Currently running: E:\\Data\\2020_ResonanceBreathing\\Data\\Interim\\Audio\\2_Breathing-77-speech.wav\n",
      "Currently running: E:\\Data\\2020_ResonanceBreathing\\Data\\Interim\\Audio\\3_Calculus-77-speech.wav\n",
      "Currently running: E:\\Data\\2020_ResonanceBreathing\\Data\\Interim\\Audio\\4_SART-77-speech.wav\n",
      "Currently running: E:\\Data\\2020_ResonanceBreathing\\Data\\Interim\\Audio\\5_PassiveViewing-77-speech.wav\n"
     ]
    },
    {
     "name": "stderr",
     "output_type": "stream",
     "text": [
      "C:\\Users\\mitch\\anaconda3\\envs\\stress_study_lib\\lib\\site-packages\\whisper\\transcribe.py:78: UserWarning: FP16 is not supported on CPU; using FP32 instead\n",
      "  warnings.warn(\"FP16 is not supported on CPU; using FP32 instead\")\n"
     ]
    },
    {
     "name": "stdout",
     "output_type": "stream",
     "text": [
      "Currently running: E:\\Data\\2020_ResonanceBreathing\\Data\\Interim\\Audio\\2_Breathing-78-speech.wav\n",
      "Currently running: E:\\Data\\2020_ResonanceBreathing\\Data\\Interim\\Audio\\3_Calculus-78-speech.wav\n",
      "Currently running: E:\\Data\\2020_ResonanceBreathing\\Data\\Interim\\Audio\\4_SART-78-speech.wav\n",
      "Currently running: E:\\Data\\2020_ResonanceBreathing\\Data\\Interim\\Audio\\5_PassiveViewing-78-speech.wav\n",
      "Currently running: E:\\Data\\2020_ResonanceBreathing\\Data\\Interim\\Audio\\2_Breathing-79-speech.wav\n"
     ]
    },
    {
     "name": "stderr",
     "output_type": "stream",
     "text": [
      "C:\\Users\\mitch\\anaconda3\\envs\\stress_study_lib\\lib\\site-packages\\whisper\\transcribe.py:78: UserWarning: FP16 is not supported on CPU; using FP32 instead\n",
      "  warnings.warn(\"FP16 is not supported on CPU; using FP32 instead\")\n"
     ]
    },
    {
     "name": "stdout",
     "output_type": "stream",
     "text": [
      "Currently running: E:\\Data\\2020_ResonanceBreathing\\Data\\Interim\\Audio\\3_Calculus-79-speech.wav\n",
      "Currently running: E:\\Data\\2020_ResonanceBreathing\\Data\\Interim\\Audio\\4_SART-79-speech.wav\n",
      "Currently running: E:\\Data\\2020_ResonanceBreathing\\Data\\Interim\\Audio\\5_PassiveViewing-79-speech.wav\n",
      "Currently running: E:\\Data\\2020_ResonanceBreathing\\Data\\Interim\\Audio\\2_Breathing-80-speech.wav\n",
      "Currently running: E:\\Data\\2020_ResonanceBreathing\\Data\\Interim\\Audio\\3_Calculus-80-speech.wav\n"
     ]
    },
    {
     "name": "stderr",
     "output_type": "stream",
     "text": [
      "C:\\Users\\mitch\\anaconda3\\envs\\stress_study_lib\\lib\\site-packages\\whisper\\transcribe.py:78: UserWarning: FP16 is not supported on CPU; using FP32 instead\n",
      "  warnings.warn(\"FP16 is not supported on CPU; using FP32 instead\")\n"
     ]
    },
    {
     "name": "stdout",
     "output_type": "stream",
     "text": [
      "Currently running: E:\\Data\\2020_ResonanceBreathing\\Data\\Interim\\Audio\\4_SART-80-speech.wav\n",
      "Currently running: E:\\Data\\2020_ResonanceBreathing\\Data\\Interim\\Audio\\5_PassiveViewing-80-speech.wav\n",
      "Currently running: E:\\Data\\2020_ResonanceBreathing\\Data\\Interim\\Audio\\2_Breathing-81-speech.wav\n",
      "Currently running: E:\\Data\\2020_ResonanceBreathing\\Data\\Interim\\Audio\\3_Calculus-81-speech.wav\n",
      "Currently running: E:\\Data\\2020_ResonanceBreathing\\Data\\Interim\\Audio\\4_SART-81-speech.wav\n"
     ]
    },
    {
     "name": "stderr",
     "output_type": "stream",
     "text": [
      "C:\\Users\\mitch\\anaconda3\\envs\\stress_study_lib\\lib\\site-packages\\whisper\\transcribe.py:78: UserWarning: FP16 is not supported on CPU; using FP32 instead\n",
      "  warnings.warn(\"FP16 is not supported on CPU; using FP32 instead\")\n"
     ]
    },
    {
     "name": "stdout",
     "output_type": "stream",
     "text": [
      "Currently running: E:\\Data\\2020_ResonanceBreathing\\Data\\Interim\\Audio\\5_PassiveViewing-81-speech.wav\n",
      "Currently running: E:\\Data\\2020_ResonanceBreathing\\Data\\Interim\\Audio\\2_Breathing-82-speech.wav\n",
      "Currently running: E:\\Data\\2020_ResonanceBreathing\\Data\\Interim\\Audio\\3_Calculus-82-speech.wav\n",
      "Currently running: E:\\Data\\2020_ResonanceBreathing\\Data\\Interim\\Audio\\4_SART-82-speech.wav\n",
      "Currently running: E:\\Data\\2020_ResonanceBreathing\\Data\\Interim\\Audio\\5_PassiveViewing-82-speech.wav\n"
     ]
    },
    {
     "name": "stderr",
     "output_type": "stream",
     "text": [
      "C:\\Users\\mitch\\anaconda3\\envs\\stress_study_lib\\lib\\site-packages\\whisper\\transcribe.py:78: UserWarning: FP16 is not supported on CPU; using FP32 instead\n",
      "  warnings.warn(\"FP16 is not supported on CPU; using FP32 instead\")\n"
     ]
    },
    {
     "name": "stdout",
     "output_type": "stream",
     "text": [
      "Currently running: E:\\Data\\2020_ResonanceBreathing\\Data\\Interim\\Audio\\2_Breathing-83-speech.wav\n",
      "Currently running: E:\\Data\\2020_ResonanceBreathing\\Data\\Interim\\Audio\\3_Calculus-83-speech.wav\n",
      "Currently running: E:\\Data\\2020_ResonanceBreathing\\Data\\Interim\\Audio\\4_SART-83-speech.wav\n",
      "Currently running: E:\\Data\\2020_ResonanceBreathing\\Data\\Interim\\Audio\\5_PassiveViewing-83-speech.wav\n",
      "Currently running: E:\\Data\\2020_ResonanceBreathing\\Data\\Interim\\Audio\\2_Breathing-84-speech.wav\n"
     ]
    },
    {
     "name": "stderr",
     "output_type": "stream",
     "text": [
      "C:\\Users\\mitch\\anaconda3\\envs\\stress_study_lib\\lib\\site-packages\\whisper\\transcribe.py:78: UserWarning: FP16 is not supported on CPU; using FP32 instead\n",
      "  warnings.warn(\"FP16 is not supported on CPU; using FP32 instead\")\n"
     ]
    },
    {
     "name": "stdout",
     "output_type": "stream",
     "text": [
      "Currently running: E:\\Data\\2020_ResonanceBreathing\\Data\\Interim\\Audio\\3_Calculus-84-speech.wav\n",
      "Currently running: E:\\Data\\2020_ResonanceBreathing\\Data\\Interim\\Audio\\4_SART-84-speech.wav\n",
      "Currently running: E:\\Data\\2020_ResonanceBreathing\\Data\\Interim\\Audio\\5_PassiveViewing-84-speech.wav\n",
      "Currently running: E:\\Data\\2020_ResonanceBreathing\\Data\\Interim\\Audio\\2_Breathing-85-speech.wav\n",
      "Currently running: E:\\Data\\2020_ResonanceBreathing\\Data\\Interim\\Audio\\3_Calculus-85-speech.wav\n"
     ]
    },
    {
     "name": "stderr",
     "output_type": "stream",
     "text": [
      "C:\\Users\\mitch\\anaconda3\\envs\\stress_study_lib\\lib\\site-packages\\whisper\\transcribe.py:78: UserWarning: FP16 is not supported on CPU; using FP32 instead\n",
      "  warnings.warn(\"FP16 is not supported on CPU; using FP32 instead\")\n"
     ]
    },
    {
     "name": "stdout",
     "output_type": "stream",
     "text": [
      "Currently running: E:\\Data\\2020_ResonanceBreathing\\Data\\Interim\\Audio\\4_SART-85-speech.wav\n",
      "Currently running: E:\\Data\\2020_ResonanceBreathing\\Data\\Interim\\Audio\\5_PassiveViewing-85-speech.wav\n",
      "Currently running: E:\\Data\\2020_ResonanceBreathing\\Data\\Interim\\Audio\\2_Breathing-86-speech.wav\n",
      "Currently running: E:\\Data\\2020_ResonanceBreathing\\Data\\Interim\\Audio\\3_Calculus-86-speech.wav\n",
      "Currently running: E:\\Data\\2020_ResonanceBreathing\\Data\\Interim\\Audio\\4_SART-86-speech.wav\n"
     ]
    },
    {
     "name": "stderr",
     "output_type": "stream",
     "text": [
      "C:\\Users\\mitch\\anaconda3\\envs\\stress_study_lib\\lib\\site-packages\\whisper\\transcribe.py:78: UserWarning: FP16 is not supported on CPU; using FP32 instead\n",
      "  warnings.warn(\"FP16 is not supported on CPU; using FP32 instead\")\n"
     ]
    },
    {
     "name": "stdout",
     "output_type": "stream",
     "text": [
      "Currently running: E:\\Data\\2020_ResonanceBreathing\\Data\\Interim\\Audio\\5_PassiveViewing-86-speech.wav\n",
      "Currently running: E:\\Data\\2020_ResonanceBreathing\\Data\\Interim\\Audio\\2_Breathing-87-speech.wav\n",
      "Currently running: E:\\Data\\2020_ResonanceBreathing\\Data\\Interim\\Audio\\3_Calculus-87-speech.wav\n",
      "Currently running: E:\\Data\\2020_ResonanceBreathing\\Data\\Interim\\Audio\\4_SART-87-speech.wav\n",
      "Currently running: E:\\Data\\2020_ResonanceBreathing\\Data\\Interim\\Audio\\5_PassiveViewing-87-speech.wav\n"
     ]
    },
    {
     "name": "stderr",
     "output_type": "stream",
     "text": [
      "C:\\Users\\mitch\\anaconda3\\envs\\stress_study_lib\\lib\\site-packages\\whisper\\transcribe.py:78: UserWarning: FP16 is not supported on CPU; using FP32 instead\n",
      "  warnings.warn(\"FP16 is not supported on CPU; using FP32 instead\")\n"
     ]
    },
    {
     "name": "stdout",
     "output_type": "stream",
     "text": [
      "Currently running: E:\\Data\\2020_ResonanceBreathing\\Data\\Interim\\Audio\\2_Breathing-88-speech.wav\n",
      "Currently running: E:\\Data\\2020_ResonanceBreathing\\Data\\Interim\\Audio\\3_Calculus-88-speech.wav\n",
      "Currently running: E:\\Data\\2020_ResonanceBreathing\\Data\\Interim\\Audio\\4_SART-88-speech.wav\n",
      "Currently running: E:\\Data\\2020_ResonanceBreathing\\Data\\Interim\\Audio\\5_PassiveViewing-88-speech.wav\n",
      "Currently running: E:\\Data\\2020_ResonanceBreathing\\Data\\Interim\\Audio\\2_Breathing-89-speech.wav\n"
     ]
    },
    {
     "name": "stderr",
     "output_type": "stream",
     "text": [
      "C:\\Users\\mitch\\anaconda3\\envs\\stress_study_lib\\lib\\site-packages\\whisper\\transcribe.py:78: UserWarning: FP16 is not supported on CPU; using FP32 instead\n",
      "  warnings.warn(\"FP16 is not supported on CPU; using FP32 instead\")\n"
     ]
    },
    {
     "name": "stdout",
     "output_type": "stream",
     "text": [
      "Currently running: E:\\Data\\2020_ResonanceBreathing\\Data\\Interim\\Audio\\3_Calculus-89-speech.wav\n",
      "Currently running: E:\\Data\\2020_ResonanceBreathing\\Data\\Interim\\Audio\\4_SART-89-speech.wav\n",
      "Currently running: E:\\Data\\2020_ResonanceBreathing\\Data\\Interim\\Audio\\5_PassiveViewing-89-speech.wav\n",
      "Currently running: E:\\Data\\2020_ResonanceBreathing\\Data\\Interim\\Audio\\2_Breathing-90-speech.wav\n",
      "Currently running: E:\\Data\\2020_ResonanceBreathing\\Data\\Interim\\Audio\\3_Calculus-90-speech.wav\n"
     ]
    },
    {
     "name": "stderr",
     "output_type": "stream",
     "text": [
      "C:\\Users\\mitch\\anaconda3\\envs\\stress_study_lib\\lib\\site-packages\\whisper\\transcribe.py:78: UserWarning: FP16 is not supported on CPU; using FP32 instead\n",
      "  warnings.warn(\"FP16 is not supported on CPU; using FP32 instead\")\n"
     ]
    },
    {
     "name": "stdout",
     "output_type": "stream",
     "text": [
      "Currently running: E:\\Data\\2020_ResonanceBreathing\\Data\\Interim\\Audio\\4_SART-90-speech.wav\n",
      "Currently running: E:\\Data\\2020_ResonanceBreathing\\Data\\Interim\\Audio\\5_PassiveViewing-90-speech.wav\n",
      "Currently running: E:\\Data\\2020_ResonanceBreathing\\Data\\Interim\\Audio\\2_Breathing-91-speech.wav\n",
      "Currently running: E:\\Data\\2020_ResonanceBreathing\\Data\\Interim\\Audio\\3_Calculus-91-speech.wav\n",
      "Currently running: E:\\Data\\2020_ResonanceBreathing\\Data\\Interim\\Audio\\4_SART-91-speech.wav\n"
     ]
    },
    {
     "name": "stderr",
     "output_type": "stream",
     "text": [
      "C:\\Users\\mitch\\anaconda3\\envs\\stress_study_lib\\lib\\site-packages\\whisper\\transcribe.py:78: UserWarning: FP16 is not supported on CPU; using FP32 instead\n",
      "  warnings.warn(\"FP16 is not supported on CPU; using FP32 instead\")\n"
     ]
    },
    {
     "name": "stdout",
     "output_type": "stream",
     "text": [
      "Currently running: E:\\Data\\2020_ResonanceBreathing\\Data\\Interim\\Audio\\5_PassiveViewing-91-speech.wav\n",
      "Currently running: E:\\Data\\2020_ResonanceBreathing\\Data\\Interim\\Audio\\2_Breathing-92-speech.wav\n",
      "Currently running: E:\\Data\\2020_ResonanceBreathing\\Data\\Interim\\Audio\\3_Calculus-92-speech.wav\n",
      "Currently running: E:\\Data\\2020_ResonanceBreathing\\Data\\Interim\\Audio\\4_SART-92-speech.wav\n",
      "Currently running: E:\\Data\\2020_ResonanceBreathing\\Data\\Interim\\Audio\\5_PassiveViewing-92-speech.wav\n"
     ]
    },
    {
     "name": "stderr",
     "output_type": "stream",
     "text": [
      "C:\\Users\\mitch\\anaconda3\\envs\\stress_study_lib\\lib\\site-packages\\whisper\\transcribe.py:78: UserWarning: FP16 is not supported on CPU; using FP32 instead\n",
      "  warnings.warn(\"FP16 is not supported on CPU; using FP32 instead\")\n"
     ]
    },
    {
     "name": "stdout",
     "output_type": "stream",
     "text": [
      "Currently running: E:\\Data\\2020_ResonanceBreathing\\Data\\Interim\\Audio\\2_Breathing-93-speech.wav\n",
      "Currently running: E:\\Data\\2020_ResonanceBreathing\\Data\\Interim\\Audio\\3_Calculus-93-speech.wav\n",
      "Currently running: E:\\Data\\2020_ResonanceBreathing\\Data\\Interim\\Audio\\4_SART-93-speech.wav\n",
      "Currently running: E:\\Data\\2020_ResonanceBreathing\\Data\\Interim\\Audio\\5_PassiveViewing-93-speech.wav\n",
      "Currently running: E:\\Data\\2020_ResonanceBreathing\\Data\\Interim\\Audio\\2_Breathing-94-speech.wav\n"
     ]
    },
    {
     "name": "stderr",
     "output_type": "stream",
     "text": [
      "C:\\Users\\mitch\\anaconda3\\envs\\stress_study_lib\\lib\\site-packages\\whisper\\transcribe.py:78: UserWarning: FP16 is not supported on CPU; using FP32 instead\n",
      "  warnings.warn(\"FP16 is not supported on CPU; using FP32 instead\")\n"
     ]
    },
    {
     "name": "stdout",
     "output_type": "stream",
     "text": [
      "Currently running: E:\\Data\\2020_ResonanceBreathing\\Data\\Interim\\Audio\\3_Calculus-94-speech.wav\n",
      "Currently running: E:\\Data\\2020_ResonanceBreathing\\Data\\Interim\\Audio\\4_SART-94-speech.wav\n",
      "Currently running: E:\\Data\\2020_ResonanceBreathing\\Data\\Interim\\Audio\\5_PassiveViewing-94-speech.wav\n",
      "Currently running: E:\\Data\\2020_ResonanceBreathing\\Data\\Interim\\Audio\\2_Breathing-95-speech.wav\n",
      "Currently running: E:\\Data\\2020_ResonanceBreathing\\Data\\Interim\\Audio\\3_Calculus-95-speech.wav\n"
     ]
    },
    {
     "name": "stderr",
     "output_type": "stream",
     "text": [
      "C:\\Users\\mitch\\anaconda3\\envs\\stress_study_lib\\lib\\site-packages\\whisper\\transcribe.py:78: UserWarning: FP16 is not supported on CPU; using FP32 instead\n",
      "  warnings.warn(\"FP16 is not supported on CPU; using FP32 instead\")\n"
     ]
    },
    {
     "name": "stdout",
     "output_type": "stream",
     "text": [
      "Currently running: E:\\Data\\2020_ResonanceBreathing\\Data\\Interim\\Audio\\4_SART-95-speech.wav\n",
      "Currently running: E:\\Data\\2020_ResonanceBreathing\\Data\\Interim\\Audio\\5_PassiveViewing-95-speech.wav\n",
      "Currently running: E:\\Data\\2020_ResonanceBreathing\\Data\\Interim\\Audio\\2_Breathing-96-speech.wav\n",
      "Currently running: E:\\Data\\2020_ResonanceBreathing\\Data\\Interim\\Audio\\3_Calculus-96-speech.wav\n",
      "Currently running: E:\\Data\\2020_ResonanceBreathing\\Data\\Interim\\Audio\\4_SART-96-speech.wav\n"
     ]
    },
    {
     "name": "stderr",
     "output_type": "stream",
     "text": [
      "C:\\Users\\mitch\\anaconda3\\envs\\stress_study_lib\\lib\\site-packages\\whisper\\transcribe.py:78: UserWarning: FP16 is not supported on CPU; using FP32 instead\n",
      "  warnings.warn(\"FP16 is not supported on CPU; using FP32 instead\")\n"
     ]
    },
    {
     "name": "stdout",
     "output_type": "stream",
     "text": [
      "Currently running: E:\\Data\\2020_ResonanceBreathing\\Data\\Interim\\Audio\\5_PassiveViewing-96-speech.wav\n",
      "Currently running: E:\\Data\\2020_ResonanceBreathing\\Data\\Interim\\Audio\\2_Breathing-97-speech.wav\n",
      "Currently running: E:\\Data\\2020_ResonanceBreathing\\Data\\Interim\\Audio\\3_Calculus-97-speech.wav\n",
      "Currently running: E:\\Data\\2020_ResonanceBreathing\\Data\\Interim\\Audio\\4_SART-97-speech.wav\n",
      "Currently running: E:\\Data\\2020_ResonanceBreathing\\Data\\Interim\\Audio\\5_PassiveViewing-97-speech.wav\n"
     ]
    },
    {
     "name": "stderr",
     "output_type": "stream",
     "text": [
      "C:\\Users\\mitch\\anaconda3\\envs\\stress_study_lib\\lib\\site-packages\\whisper\\transcribe.py:78: UserWarning: FP16 is not supported on CPU; using FP32 instead\n",
      "  warnings.warn(\"FP16 is not supported on CPU; using FP32 instead\")\n"
     ]
    },
    {
     "name": "stdout",
     "output_type": "stream",
     "text": [
      "Currently running: E:\\Data\\2020_ResonanceBreathing\\Data\\Interim\\Audio\\2_Breathing-98-speech.wav\n",
      "Currently running: E:\\Data\\2020_ResonanceBreathing\\Data\\Interim\\Audio\\3_Calculus-98-speech.wav\n",
      "Currently running: E:\\Data\\2020_ResonanceBreathing\\Data\\Interim\\Audio\\4_SART-98-speech.wav\n",
      "Currently running: E:\\Data\\2020_ResonanceBreathing\\Data\\Interim\\Audio\\5_PassiveViewing-98-speech.wav\n",
      "Currently running: E:\\Data\\2020_ResonanceBreathing\\Data\\Interim\\Audio\\2_Breathing-99-speech.wav\n"
     ]
    },
    {
     "name": "stderr",
     "output_type": "stream",
     "text": [
      "C:\\Users\\mitch\\anaconda3\\envs\\stress_study_lib\\lib\\site-packages\\whisper\\transcribe.py:78: UserWarning: FP16 is not supported on CPU; using FP32 instead\n",
      "  warnings.warn(\"FP16 is not supported on CPU; using FP32 instead\")\n"
     ]
    },
    {
     "name": "stdout",
     "output_type": "stream",
     "text": [
      "Currently running: E:\\Data\\2020_ResonanceBreathing\\Data\\Interim\\Audio\\3_Calculus-99-speech.wav\n",
      "Currently running: E:\\Data\\2020_ResonanceBreathing\\Data\\Interim\\Audio\\4_SART-99-speech.wav\n",
      "Currently running: E:\\Data\\2020_ResonanceBreathing\\Data\\Interim\\Audio\\5_PassiveViewing-99-speech.wav\n",
      "Currently running: E:\\Data\\2020_ResonanceBreathing\\Data\\Interim\\Audio\\2_Breathing-100-speech.wav\n",
      "Currently running: E:\\Data\\2020_ResonanceBreathing\\Data\\Interim\\Audio\\3_Calculus-100-speech.wav\n"
     ]
    },
    {
     "name": "stderr",
     "output_type": "stream",
     "text": [
      "C:\\Users\\mitch\\anaconda3\\envs\\stress_study_lib\\lib\\site-packages\\whisper\\transcribe.py:78: UserWarning: FP16 is not supported on CPU; using FP32 instead\n",
      "  warnings.warn(\"FP16 is not supported on CPU; using FP32 instead\")\n"
     ]
    },
    {
     "name": "stdout",
     "output_type": "stream",
     "text": [
      "Currently running: E:\\Data\\2020_ResonanceBreathing\\Data\\Interim\\Audio\\4_SART-100-speech.wav\n",
      "Currently running: E:\\Data\\2020_ResonanceBreathing\\Data\\Interim\\Audio\\5_PassiveViewing-100-speech.wav\n",
      "Currently running: E:\\Data\\2020_ResonanceBreathing\\Data\\Interim\\Audio\\2_Breathing-101-speech.wav\n",
      "Currently running: E:\\Data\\2020_ResonanceBreathing\\Data\\Interim\\Audio\\3_Calculus-101-speech.wav\n",
      "Currently running: E:\\Data\\2020_ResonanceBreathing\\Data\\Interim\\Audio\\4_SART-101-speech.wav\n"
     ]
    },
    {
     "name": "stderr",
     "output_type": "stream",
     "text": [
      "C:\\Users\\mitch\\anaconda3\\envs\\stress_study_lib\\lib\\site-packages\\whisper\\transcribe.py:78: UserWarning: FP16 is not supported on CPU; using FP32 instead\n",
      "  warnings.warn(\"FP16 is not supported on CPU; using FP32 instead\")\n"
     ]
    },
    {
     "name": "stdout",
     "output_type": "stream",
     "text": [
      "Currently running: E:\\Data\\2020_ResonanceBreathing\\Data\\Interim\\Audio\\5_PassiveViewing-101-speech.wav\n",
      "Currently running: E:\\Data\\2020_ResonanceBreathing\\Data\\Interim\\Audio\\2_Breathing-102-speech.wav\n",
      "Currently running: E:\\Data\\2020_ResonanceBreathing\\Data\\Interim\\Audio\\3_Calculus-102-speech.wav\n",
      "Currently running: E:\\Data\\2020_ResonanceBreathing\\Data\\Interim\\Audio\\4_SART-102-speech.wav\n",
      "Currently running: E:\\Data\\2020_ResonanceBreathing\\Data\\Interim\\Audio\\5_PassiveViewing-102-speech.wav\n"
     ]
    },
    {
     "name": "stderr",
     "output_type": "stream",
     "text": [
      "C:\\Users\\mitch\\anaconda3\\envs\\stress_study_lib\\lib\\site-packages\\whisper\\transcribe.py:78: UserWarning: FP16 is not supported on CPU; using FP32 instead\n",
      "  warnings.warn(\"FP16 is not supported on CPU; using FP32 instead\")\n"
     ]
    },
    {
     "name": "stdout",
     "output_type": "stream",
     "text": [
      "Currently running: E:\\Data\\2020_ResonanceBreathing\\Data\\Interim\\Audio\\2_Breathing-103-speech.wav\n",
      "Currently running: E:\\Data\\2020_ResonanceBreathing\\Data\\Interim\\Audio\\3_Calculus-103-speech.wav\n",
      "Currently running: E:\\Data\\2020_ResonanceBreathing\\Data\\Interim\\Audio\\4_SART-103-speech.wav\n",
      "Currently running: E:\\Data\\2020_ResonanceBreathing\\Data\\Interim\\Audio\\5_PassiveViewing-103-speech.wav\n",
      "Currently running: E:\\Data\\2020_ResonanceBreathing\\Data\\Interim\\Audio\\2_Breathing-104-speech.wav\n"
     ]
    },
    {
     "name": "stderr",
     "output_type": "stream",
     "text": [
      "C:\\Users\\mitch\\anaconda3\\envs\\stress_study_lib\\lib\\site-packages\\whisper\\transcribe.py:78: UserWarning: FP16 is not supported on CPU; using FP32 instead\n",
      "  warnings.warn(\"FP16 is not supported on CPU; using FP32 instead\")\n"
     ]
    },
    {
     "name": "stdout",
     "output_type": "stream",
     "text": [
      "Currently running: E:\\Data\\2020_ResonanceBreathing\\Data\\Interim\\Audio\\3_Calculus-104-speech.wav\n",
      "Currently running: E:\\Data\\2020_ResonanceBreathing\\Data\\Interim\\Audio\\4_SART-104-speech.wav\n",
      "Currently running: E:\\Data\\2020_ResonanceBreathing\\Data\\Interim\\Audio\\5_PassiveViewing-104-speech.wav\n",
      "Currently running: E:\\Data\\2020_ResonanceBreathing\\Data\\Interim\\Audio\\2_Breathing-105-speech.wav\n",
      "Currently running: E:\\Data\\2020_ResonanceBreathing\\Data\\Interim\\Audio\\3_Calculus-105-speech.wav\n"
     ]
    },
    {
     "name": "stderr",
     "output_type": "stream",
     "text": [
      "C:\\Users\\mitch\\anaconda3\\envs\\stress_study_lib\\lib\\site-packages\\whisper\\transcribe.py:78: UserWarning: FP16 is not supported on CPU; using FP32 instead\n",
      "  warnings.warn(\"FP16 is not supported on CPU; using FP32 instead\")\n"
     ]
    },
    {
     "name": "stdout",
     "output_type": "stream",
     "text": [
      "Currently running: E:\\Data\\2020_ResonanceBreathing\\Data\\Interim\\Audio\\4_SART-105-speech.wav\n",
      "Currently running: E:\\Data\\2020_ResonanceBreathing\\Data\\Interim\\Audio\\5_PassiveViewing-105-speech.wav\n",
      "Currently running: E:\\Data\\2020_ResonanceBreathing\\Data\\Interim\\Audio\\2_Breathing-106-speech.wav\n",
      "Currently running: E:\\Data\\2020_ResonanceBreathing\\Data\\Interim\\Audio\\3_Calculus-106-speech.wav\n",
      "Currently running: E:\\Data\\2020_ResonanceBreathing\\Data\\Interim\\Audio\\4_SART-106-speech.wav\n"
     ]
    },
    {
     "name": "stderr",
     "output_type": "stream",
     "text": [
      "C:\\Users\\mitch\\anaconda3\\envs\\stress_study_lib\\lib\\site-packages\\whisper\\transcribe.py:78: UserWarning: FP16 is not supported on CPU; using FP32 instead\n",
      "  warnings.warn(\"FP16 is not supported on CPU; using FP32 instead\")\n"
     ]
    },
    {
     "name": "stdout",
     "output_type": "stream",
     "text": [
      "Currently running: E:\\Data\\2020_ResonanceBreathing\\Data\\Interim\\Audio\\5_PassiveViewing-106-speech.wav\n",
      "Currently running: E:\\Data\\2020_ResonanceBreathing\\Data\\Interim\\Audio\\2_Breathing-107-speech.wav\n",
      "Currently running: E:\\Data\\2020_ResonanceBreathing\\Data\\Interim\\Audio\\3_Calculus-107-speech.wav\n",
      "Currently running: E:\\Data\\2020_ResonanceBreathing\\Data\\Interim\\Audio\\4_SART-107-speech.wav\n",
      "Currently running: E:\\Data\\2020_ResonanceBreathing\\Data\\Interim\\Audio\\5_PassiveViewing-107-speech.wav\n"
     ]
    },
    {
     "name": "stderr",
     "output_type": "stream",
     "text": [
      "C:\\Users\\mitch\\anaconda3\\envs\\stress_study_lib\\lib\\site-packages\\whisper\\transcribe.py:78: UserWarning: FP16 is not supported on CPU; using FP32 instead\n",
      "  warnings.warn(\"FP16 is not supported on CPU; using FP32 instead\")\n"
     ]
    },
    {
     "name": "stdout",
     "output_type": "stream",
     "text": [
      "Currently running: E:\\Data\\2020_ResonanceBreathing\\Data\\Interim\\Audio\\2_Breathing-108-speech.wav\n",
      "Currently running: E:\\Data\\2020_ResonanceBreathing\\Data\\Interim\\Audio\\3_Calculus-108-speech.wav\n",
      "Currently running: E:\\Data\\2020_ResonanceBreathing\\Data\\Interim\\Audio\\4_SART-108-speech.wav\n",
      "Currently running: E:\\Data\\2020_ResonanceBreathing\\Data\\Interim\\Audio\\5_PassiveViewing-108-speech.wav\n",
      "Currently running: E:\\Data\\2020_ResonanceBreathing\\Data\\Interim\\Audio\\2_Breathing-109-speech.wav\n"
     ]
    },
    {
     "name": "stderr",
     "output_type": "stream",
     "text": [
      "C:\\Users\\mitch\\anaconda3\\envs\\stress_study_lib\\lib\\site-packages\\whisper\\transcribe.py:78: UserWarning: FP16 is not supported on CPU; using FP32 instead\n",
      "  warnings.warn(\"FP16 is not supported on CPU; using FP32 instead\")\n"
     ]
    },
    {
     "name": "stdout",
     "output_type": "stream",
     "text": [
      "Currently running: E:\\Data\\2020_ResonanceBreathing\\Data\\Interim\\Audio\\3_Calculus-109-speech.wav\n",
      "Currently running: E:\\Data\\2020_ResonanceBreathing\\Data\\Interim\\Audio\\4_SART-109-speech.wav\n",
      "Currently running: E:\\Data\\2020_ResonanceBreathing\\Data\\Interim\\Audio\\5_PassiveViewing-109-speech.wav\n",
      "Currently running: E:\\Data\\2020_ResonanceBreathing\\Data\\Interim\\Audio\\2_Breathing-110-speech.wav\n",
      "Currently running: E:\\Data\\2020_ResonanceBreathing\\Data\\Interim\\Audio\\3_Calculus-110-speech.wav\n"
     ]
    },
    {
     "name": "stderr",
     "output_type": "stream",
     "text": [
      "C:\\Users\\mitch\\anaconda3\\envs\\stress_study_lib\\lib\\site-packages\\whisper\\transcribe.py:78: UserWarning: FP16 is not supported on CPU; using FP32 instead\n",
      "  warnings.warn(\"FP16 is not supported on CPU; using FP32 instead\")\n"
     ]
    },
    {
     "name": "stdout",
     "output_type": "stream",
     "text": [
      "Currently running: E:\\Data\\2020_ResonanceBreathing\\Data\\Interim\\Audio\\4_SART-110-speech.wav\n",
      "Currently running: E:\\Data\\2020_ResonanceBreathing\\Data\\Interim\\Audio\\5_PassiveViewing-110-speech.wav\n",
      "Currently running: E:\\Data\\2020_ResonanceBreathing\\Data\\Interim\\Audio\\2_Breathing-111-speech.wav\n",
      "Currently running: E:\\Data\\2020_ResonanceBreathing\\Data\\Interim\\Audio\\3_Calculus-111-speech.wav\n",
      "Currently running: E:\\Data\\2020_ResonanceBreathing\\Data\\Interim\\Audio\\4_SART-111-speech.wav\n"
     ]
    },
    {
     "name": "stderr",
     "output_type": "stream",
     "text": [
      "C:\\Users\\mitch\\anaconda3\\envs\\stress_study_lib\\lib\\site-packages\\whisper\\transcribe.py:78: UserWarning: FP16 is not supported on CPU; using FP32 instead\n",
      "  warnings.warn(\"FP16 is not supported on CPU; using FP32 instead\")\n"
     ]
    },
    {
     "name": "stdout",
     "output_type": "stream",
     "text": [
      "Currently running: E:\\Data\\2020_ResonanceBreathing\\Data\\Interim\\Audio\\5_PassiveViewing-111-speech.wav\n",
      "Currently running: E:\\Data\\2020_ResonanceBreathing\\Data\\Interim\\Audio\\2_Breathing-112-speech.wav\n",
      "Currently running: E:\\Data\\2020_ResonanceBreathing\\Data\\Interim\\Audio\\3_Calculus-112-speech.wav\n",
      "Currently running: E:\\Data\\2020_ResonanceBreathing\\Data\\Interim\\Audio\\4_SART-112-speech.wav\n",
      "Currently running: E:\\Data\\2020_ResonanceBreathing\\Data\\Interim\\Audio\\5_PassiveViewing-112-speech.wav\n"
     ]
    },
    {
     "name": "stderr",
     "output_type": "stream",
     "text": [
      "C:\\Users\\mitch\\anaconda3\\envs\\stress_study_lib\\lib\\site-packages\\whisper\\transcribe.py:78: UserWarning: FP16 is not supported on CPU; using FP32 instead\n",
      "  warnings.warn(\"FP16 is not supported on CPU; using FP32 instead\")\n"
     ]
    },
    {
     "name": "stdout",
     "output_type": "stream",
     "text": [
      "Currently running: E:\\Data\\2020_ResonanceBreathing\\Data\\Interim\\Audio\\2_Breathing-114-speech.wav\n",
      "Currently running: E:\\Data\\2020_ResonanceBreathing\\Data\\Interim\\Audio\\3_Calculus-114-speech.wav\n",
      "Currently running: E:\\Data\\2020_ResonanceBreathing\\Data\\Interim\\Audio\\4_SART-114-speech.wav\n",
      "Currently running: E:\\Data\\2020_ResonanceBreathing\\Data\\Interim\\Audio\\5_PassiveViewing-114-speech.wav\n",
      "Currently running: E:\\Data\\2020_ResonanceBreathing\\Data\\Interim\\Audio\\2_Breathing-115-speech.wav\n"
     ]
    },
    {
     "name": "stderr",
     "output_type": "stream",
     "text": [
      "C:\\Users\\mitch\\anaconda3\\envs\\stress_study_lib\\lib\\site-packages\\whisper\\transcribe.py:78: UserWarning: FP16 is not supported on CPU; using FP32 instead\n",
      "  warnings.warn(\"FP16 is not supported on CPU; using FP32 instead\")\n"
     ]
    },
    {
     "name": "stdout",
     "output_type": "stream",
     "text": [
      "Currently running: E:\\Data\\2020_ResonanceBreathing\\Data\\Interim\\Audio\\3_Calculus-115-speech.wav\n",
      "Currently running: E:\\Data\\2020_ResonanceBreathing\\Data\\Interim\\Audio\\4_SART-115-speech.wav\n",
      "Currently running: E:\\Data\\2020_ResonanceBreathing\\Data\\Interim\\Audio\\5_PassiveViewing-115-speech.wav\n",
      "Currently running: E:\\Data\\2020_ResonanceBreathing\\Data\\Interim\\Audio\\2_Breathing-116-speech.wav\n",
      "Currently running: E:\\Data\\2020_ResonanceBreathing\\Data\\Interim\\Audio\\3_Calculus-116-speech.wav\n"
     ]
    },
    {
     "name": "stderr",
     "output_type": "stream",
     "text": [
      "C:\\Users\\mitch\\anaconda3\\envs\\stress_study_lib\\lib\\site-packages\\whisper\\transcribe.py:78: UserWarning: FP16 is not supported on CPU; using FP32 instead\n",
      "  warnings.warn(\"FP16 is not supported on CPU; using FP32 instead\")\n"
     ]
    },
    {
     "name": "stdout",
     "output_type": "stream",
     "text": [
      "Currently running: E:\\Data\\2020_ResonanceBreathing\\Data\\Interim\\Audio\\4_SART-116-speech.wav\n",
      "Currently running: E:\\Data\\2020_ResonanceBreathing\\Data\\Interim\\Audio\\5_PassiveViewing-116-speech.wav\n",
      "Currently running: E:\\Data\\2020_ResonanceBreathing\\Data\\Interim\\Audio\\2_Breathing-117-speech.wav\n",
      "Currently running: E:\\Data\\2020_ResonanceBreathing\\Data\\Interim\\Audio\\3_Calculus-117-speech.wav\n",
      "Currently running: E:\\Data\\2020_ResonanceBreathing\\Data\\Interim\\Audio\\4_SART-117-speech.wav\n"
     ]
    },
    {
     "name": "stderr",
     "output_type": "stream",
     "text": [
      "C:\\Users\\mitch\\anaconda3\\envs\\stress_study_lib\\lib\\site-packages\\whisper\\transcribe.py:78: UserWarning: FP16 is not supported on CPU; using FP32 instead\n",
      "  warnings.warn(\"FP16 is not supported on CPU; using FP32 instead\")\n"
     ]
    },
    {
     "name": "stdout",
     "output_type": "stream",
     "text": [
      "Currently running: E:\\Data\\2020_ResonanceBreathing\\Data\\Interim\\Audio\\5_PassiveViewing-117-speech.wav\n",
      "Currently running: E:\\Data\\2020_ResonanceBreathing\\Data\\Interim\\Audio\\2_Breathing-118-speech.wav\n",
      "Currently running: E:\\Data\\2020_ResonanceBreathing\\Data\\Interim\\Audio\\3_Calculus-118-speech.wav\n",
      "Currently running: E:\\Data\\2020_ResonanceBreathing\\Data\\Interim\\Audio\\4_SART-118-speech.wav\n",
      "Currently running: E:\\Data\\2020_ResonanceBreathing\\Data\\Interim\\Audio\\5_PassiveViewing-118-speech.wav\n"
     ]
    },
    {
     "name": "stderr",
     "output_type": "stream",
     "text": [
      "C:\\Users\\mitch\\anaconda3\\envs\\stress_study_lib\\lib\\site-packages\\whisper\\transcribe.py:78: UserWarning: FP16 is not supported on CPU; using FP32 instead\n",
      "  warnings.warn(\"FP16 is not supported on CPU; using FP32 instead\")\n"
     ]
    },
    {
     "name": "stdout",
     "output_type": "stream",
     "text": [
      "Currently running: E:\\Data\\2020_ResonanceBreathing\\Data\\Interim\\Audio\\2_Breathing-119-speech.wav\n",
      "Currently running: E:\\Data\\2020_ResonanceBreathing\\Data\\Interim\\Audio\\3_Calculus-119-speech.wav\n",
      "Currently running: E:\\Data\\2020_ResonanceBreathing\\Data\\Interim\\Audio\\4_SART-119-speech.wav\n",
      "Currently running: E:\\Data\\2020_ResonanceBreathing\\Data\\Interim\\Audio\\5_PassiveViewing-119-speech.wav\n",
      "Currently running: E:\\Data\\2020_ResonanceBreathing\\Data\\Interim\\Audio\\2_Breathing-120-speech.wav\n"
     ]
    },
    {
     "name": "stderr",
     "output_type": "stream",
     "text": [
      "C:\\Users\\mitch\\anaconda3\\envs\\stress_study_lib\\lib\\site-packages\\whisper\\transcribe.py:78: UserWarning: FP16 is not supported on CPU; using FP32 instead\n",
      "  warnings.warn(\"FP16 is not supported on CPU; using FP32 instead\")\n"
     ]
    },
    {
     "name": "stdout",
     "output_type": "stream",
     "text": [
      "Currently running: E:\\Data\\2020_ResonanceBreathing\\Data\\Interim\\Audio\\3_Calculus-120-speech.wav\n",
      "Currently running: E:\\Data\\2020_ResonanceBreathing\\Data\\Interim\\Audio\\4_SART-120-speech.wav\n",
      "Currently running: E:\\Data\\2020_ResonanceBreathing\\Data\\Interim\\Audio\\5_PassiveViewing-120-speech.wav\n",
      "Currently running: E:\\Data\\2020_ResonanceBreathing\\Data\\Interim\\Audio\\2_Breathing-121-speech.wav\n",
      "Currently running: E:\\Data\\2020_ResonanceBreathing\\Data\\Interim\\Audio\\3_Calculus-121-speech.wav\n"
     ]
    },
    {
     "name": "stderr",
     "output_type": "stream",
     "text": [
      "C:\\Users\\mitch\\anaconda3\\envs\\stress_study_lib\\lib\\site-packages\\whisper\\transcribe.py:78: UserWarning: FP16 is not supported on CPU; using FP32 instead\n",
      "  warnings.warn(\"FP16 is not supported on CPU; using FP32 instead\")\n"
     ]
    },
    {
     "name": "stdout",
     "output_type": "stream",
     "text": [
      "Currently running: E:\\Data\\2020_ResonanceBreathing\\Data\\Interim\\Audio\\4_SART-121-speech.wav\n",
      "Currently running: E:\\Data\\2020_ResonanceBreathing\\Data\\Interim\\Audio\\5_PassiveViewing-121-speech.wav\n",
      "Currently running: E:\\Data\\2020_ResonanceBreathing\\Data\\Interim\\Audio\\2_Breathing-122-speech.wav\n",
      "Currently running: E:\\Data\\2020_ResonanceBreathing\\Data\\Interim\\Audio\\3_Calculus-122-speech.wav\n",
      "Currently running: E:\\Data\\2020_ResonanceBreathing\\Data\\Interim\\Audio\\4_SART-122-speech.wav\n"
     ]
    },
    {
     "name": "stderr",
     "output_type": "stream",
     "text": [
      "C:\\Users\\mitch\\anaconda3\\envs\\stress_study_lib\\lib\\site-packages\\whisper\\transcribe.py:78: UserWarning: FP16 is not supported on CPU; using FP32 instead\n",
      "  warnings.warn(\"FP16 is not supported on CPU; using FP32 instead\")\n"
     ]
    },
    {
     "name": "stdout",
     "output_type": "stream",
     "text": [
      "Currently running: E:\\Data\\2020_ResonanceBreathing\\Data\\Interim\\Audio\\5_PassiveViewing-122-speech.wav\n",
      "Currently running: E:\\Data\\2020_ResonanceBreathing\\Data\\Interim\\Audio\\2_Breathing-123-speech.wav\n",
      "Currently running: E:\\Data\\2020_ResonanceBreathing\\Data\\Interim\\Audio\\3_Calculus-123-speech.wav\n",
      "Currently running: E:\\Data\\2020_ResonanceBreathing\\Data\\Interim\\Audio\\4_SART-123-speech.wav\n",
      "Currently running: E:\\Data\\2020_ResonanceBreathing\\Data\\Interim\\Audio\\5_PassiveViewing-123-speech.wav\n"
     ]
    },
    {
     "name": "stderr",
     "output_type": "stream",
     "text": [
      "C:\\Users\\mitch\\anaconda3\\envs\\stress_study_lib\\lib\\site-packages\\whisper\\transcribe.py:78: UserWarning: FP16 is not supported on CPU; using FP32 instead\n",
      "  warnings.warn(\"FP16 is not supported on CPU; using FP32 instead\")\n"
     ]
    },
    {
     "name": "stdout",
     "output_type": "stream",
     "text": [
      "Currently running: E:\\Data\\2020_ResonanceBreathing\\Data\\Interim\\Audio\\2_Breathing-124-speech.wav\n",
      "Currently running: E:\\Data\\2020_ResonanceBreathing\\Data\\Interim\\Audio\\3_Calculus-124-speech.wav\n",
      "Currently running: E:\\Data\\2020_ResonanceBreathing\\Data\\Interim\\Audio\\4_SART-124-speech.wav\n",
      "Currently running: E:\\Data\\2020_ResonanceBreathing\\Data\\Interim\\Audio\\5_PassiveViewing-124-speech.wav\n",
      "Currently running: E:\\Data\\2020_ResonanceBreathing\\Data\\Interim\\Audio\\2_Breathing-125-speech.wav\n"
     ]
    },
    {
     "name": "stderr",
     "output_type": "stream",
     "text": [
      "C:\\Users\\mitch\\anaconda3\\envs\\stress_study_lib\\lib\\site-packages\\whisper\\transcribe.py:78: UserWarning: FP16 is not supported on CPU; using FP32 instead\n",
      "  warnings.warn(\"FP16 is not supported on CPU; using FP32 instead\")\n"
     ]
    },
    {
     "name": "stdout",
     "output_type": "stream",
     "text": [
      "Currently running: E:\\Data\\2020_ResonanceBreathing\\Data\\Interim\\Audio\\3_Calculus-125-speech.wav\n",
      "Currently running: E:\\Data\\2020_ResonanceBreathing\\Data\\Interim\\Audio\\4_SART-125-speech.wav\n",
      "Currently running: E:\\Data\\2020_ResonanceBreathing\\Data\\Interim\\Audio\\5_PassiveViewing-125-speech.wav\n",
      "Currently running: E:\\Data\\2020_ResonanceBreathing\\Data\\Interim\\Audio\\2_Breathing-126-speech.wav\n",
      "Currently running: E:\\Data\\2020_ResonanceBreathing\\Data\\Interim\\Audio\\3_Calculus-126-speech.wav\n"
     ]
    },
    {
     "name": "stderr",
     "output_type": "stream",
     "text": [
      "C:\\Users\\mitch\\anaconda3\\envs\\stress_study_lib\\lib\\site-packages\\whisper\\transcribe.py:78: UserWarning: FP16 is not supported on CPU; using FP32 instead\n",
      "  warnings.warn(\"FP16 is not supported on CPU; using FP32 instead\")\n"
     ]
    },
    {
     "name": "stdout",
     "output_type": "stream",
     "text": [
      "Currently running: E:\\Data\\2020_ResonanceBreathing\\Data\\Interim\\Audio\\4_SART-126-speech.wav\n",
      "Currently running: E:\\Data\\2020_ResonanceBreathing\\Data\\Interim\\Audio\\5_PassiveViewing-126-speech.wav\n",
      "Currently running: E:\\Data\\2020_ResonanceBreathing\\Data\\Interim\\Audio\\2_Breathing-127-speech.wav\n",
      "Currently running: E:\\Data\\2020_ResonanceBreathing\\Data\\Interim\\Audio\\3_Calculus-127-speech.wav\n",
      "Currently running: E:\\Data\\2020_ResonanceBreathing\\Data\\Interim\\Audio\\4_SART-127-speech.wav\n"
     ]
    },
    {
     "name": "stderr",
     "output_type": "stream",
     "text": [
      "C:\\Users\\mitch\\anaconda3\\envs\\stress_study_lib\\lib\\site-packages\\whisper\\transcribe.py:78: UserWarning: FP16 is not supported on CPU; using FP32 instead\n",
      "  warnings.warn(\"FP16 is not supported on CPU; using FP32 instead\")\n"
     ]
    },
    {
     "name": "stdout",
     "output_type": "stream",
     "text": [
      "Currently running: E:\\Data\\2020_ResonanceBreathing\\Data\\Interim\\Audio\\5_PassiveViewing-127-speech.wav\n",
      "Currently running: E:\\Data\\2020_ResonanceBreathing\\Data\\Interim\\Audio\\2_Breathing-128-speech.wav\n",
      "Currently running: E:\\Data\\2020_ResonanceBreathing\\Data\\Interim\\Audio\\3_Calculus-128-speech.wav\n",
      "Currently running: E:\\Data\\2020_ResonanceBreathing\\Data\\Interim\\Audio\\4_SART-128-speech.wav\n",
      "Currently running: E:\\Data\\2020_ResonanceBreathing\\Data\\Interim\\Audio\\5_PassiveViewing-128-speech.wav\n"
     ]
    },
    {
     "name": "stderr",
     "output_type": "stream",
     "text": [
      "C:\\Users\\mitch\\anaconda3\\envs\\stress_study_lib\\lib\\site-packages\\whisper\\transcribe.py:78: UserWarning: FP16 is not supported on CPU; using FP32 instead\n",
      "  warnings.warn(\"FP16 is not supported on CPU; using FP32 instead\")\n"
     ]
    },
    {
     "name": "stdout",
     "output_type": "stream",
     "text": [
      "Currently running: E:\\Data\\2020_ResonanceBreathing\\Data\\Interim\\Audio\\2_Breathing-129-speech.wav\n",
      "Currently running: E:\\Data\\2020_ResonanceBreathing\\Data\\Interim\\Audio\\3_Calculus-129-speech.wav\n",
      "Currently running: E:\\Data\\2020_ResonanceBreathing\\Data\\Interim\\Audio\\4_SART-129-speech.wav\n",
      "Currently running: E:\\Data\\2020_ResonanceBreathing\\Data\\Interim\\Audio\\5_PassiveViewing-129-speech.wav\n",
      "Currently running: E:\\Data\\2020_ResonanceBreathing\\Data\\Interim\\Audio\\2_Breathing-130-speech.wav\n"
     ]
    },
    {
     "name": "stderr",
     "output_type": "stream",
     "text": [
      "C:\\Users\\mitch\\anaconda3\\envs\\stress_study_lib\\lib\\site-packages\\whisper\\transcribe.py:78: UserWarning: FP16 is not supported on CPU; using FP32 instead\n",
      "  warnings.warn(\"FP16 is not supported on CPU; using FP32 instead\")\n"
     ]
    },
    {
     "name": "stdout",
     "output_type": "stream",
     "text": [
      "Currently running: E:\\Data\\2020_ResonanceBreathing\\Data\\Interim\\Audio\\3_Calculus-130-speech.wav\n",
      "Currently running: E:\\Data\\2020_ResonanceBreathing\\Data\\Interim\\Audio\\4_SART-130-speech.wav\n",
      "Currently running: E:\\Data\\2020_ResonanceBreathing\\Data\\Interim\\Audio\\5_PassiveViewing-130-speech.wav\n",
      "Currently running: E:\\Data\\2020_ResonanceBreathing\\Data\\Interim\\Audio\\2_Breathing-131-speech.wav\n",
      "Currently running: E:\\Data\\2020_ResonanceBreathing\\Data\\Interim\\Audio\\3_Calculus-131-speech.wav\n"
     ]
    },
    {
     "name": "stderr",
     "output_type": "stream",
     "text": [
      "C:\\Users\\mitch\\anaconda3\\envs\\stress_study_lib\\lib\\site-packages\\whisper\\transcribe.py:78: UserWarning: FP16 is not supported on CPU; using FP32 instead\n",
      "  warnings.warn(\"FP16 is not supported on CPU; using FP32 instead\")\n"
     ]
    },
    {
     "name": "stdout",
     "output_type": "stream",
     "text": [
      "Currently running: E:\\Data\\2020_ResonanceBreathing\\Data\\Interim\\Audio\\4_SART-131-speech.wav\n",
      "Currently running: E:\\Data\\2020_ResonanceBreathing\\Data\\Interim\\Audio\\5_PassiveViewing-131-speech.wav\n",
      "Currently running: E:\\Data\\2020_ResonanceBreathing\\Data\\Interim\\Audio\\2_Breathing-132-speech.wav\n",
      "Currently running: E:\\Data\\2020_ResonanceBreathing\\Data\\Interim\\Audio\\3_Calculus-132-speech.wav\n",
      "Currently running: E:\\Data\\2020_ResonanceBreathing\\Data\\Interim\\Audio\\4_SART-132-speech.wav\n"
     ]
    },
    {
     "name": "stderr",
     "output_type": "stream",
     "text": [
      "C:\\Users\\mitch\\anaconda3\\envs\\stress_study_lib\\lib\\site-packages\\whisper\\transcribe.py:78: UserWarning: FP16 is not supported on CPU; using FP32 instead\n",
      "  warnings.warn(\"FP16 is not supported on CPU; using FP32 instead\")\n"
     ]
    },
    {
     "name": "stdout",
     "output_type": "stream",
     "text": [
      "Currently running: E:\\Data\\2020_ResonanceBreathing\\Data\\Interim\\Audio\\5_PassiveViewing-132-speech.wav\n",
      "Currently running: E:\\Data\\2020_ResonanceBreathing\\Data\\Interim\\Audio\\2_Breathing-133-speech.wav\n",
      "Currently running: E:\\Data\\2020_ResonanceBreathing\\Data\\Interim\\Audio\\3_Calculus-133-speech.wav\n",
      "Currently running: E:\\Data\\2020_ResonanceBreathing\\Data\\Interim\\Audio\\4_SART-133-speech.wav\n",
      "Currently running: E:\\Data\\2020_ResonanceBreathing\\Data\\Interim\\Audio\\5_PassiveViewing-133-speech.wav\n"
     ]
    },
    {
     "name": "stderr",
     "output_type": "stream",
     "text": [
      "C:\\Users\\mitch\\anaconda3\\envs\\stress_study_lib\\lib\\site-packages\\whisper\\transcribe.py:78: UserWarning: FP16 is not supported on CPU; using FP32 instead\n",
      "  warnings.warn(\"FP16 is not supported on CPU; using FP32 instead\")\n"
     ]
    },
    {
     "name": "stdout",
     "output_type": "stream",
     "text": [
      "Currently running: E:\\Data\\2020_ResonanceBreathing\\Data\\Interim\\Audio\\2_Breathing-134-speech.wav\n",
      "Currently running: E:\\Data\\2020_ResonanceBreathing\\Data\\Interim\\Audio\\3_Calculus-134-speech.wav\n",
      "Currently running: E:\\Data\\2020_ResonanceBreathing\\Data\\Interim\\Audio\\4_SART-134-speech.wav\n",
      "Currently running: E:\\Data\\2020_ResonanceBreathing\\Data\\Interim\\Audio\\5_PassiveViewing-134-speech.wav\n",
      "Currently running: E:\\Data\\2020_ResonanceBreathing\\Data\\Interim\\Audio\\2_Breathing-135-speech.wav\n"
     ]
    },
    {
     "name": "stderr",
     "output_type": "stream",
     "text": [
      "C:\\Users\\mitch\\anaconda3\\envs\\stress_study_lib\\lib\\site-packages\\whisper\\transcribe.py:78: UserWarning: FP16 is not supported on CPU; using FP32 instead\n",
      "  warnings.warn(\"FP16 is not supported on CPU; using FP32 instead\")\n"
     ]
    },
    {
     "name": "stdout",
     "output_type": "stream",
     "text": [
      "Currently running: E:\\Data\\2020_ResonanceBreathing\\Data\\Interim\\Audio\\3_Calculus-135-speech.wav\n",
      "Currently running: E:\\Data\\2020_ResonanceBreathing\\Data\\Interim\\Audio\\4_SART-135-speech.wav\n",
      "Currently running: E:\\Data\\2020_ResonanceBreathing\\Data\\Interim\\Audio\\5_PassiveViewing-135-speech.wav\n",
      "Currently running: E:\\Data\\2020_ResonanceBreathing\\Data\\Interim\\Audio\\2_Breathing-136-speech.wav\n",
      "Currently running: E:\\Data\\2020_ResonanceBreathing\\Data\\Interim\\Audio\\3_Calculus-136-speech.wav\n"
     ]
    },
    {
     "name": "stderr",
     "output_type": "stream",
     "text": [
      "C:\\Users\\mitch\\anaconda3\\envs\\stress_study_lib\\lib\\site-packages\\whisper\\transcribe.py:78: UserWarning: FP16 is not supported on CPU; using FP32 instead\n",
      "  warnings.warn(\"FP16 is not supported on CPU; using FP32 instead\")\n"
     ]
    },
    {
     "name": "stdout",
     "output_type": "stream",
     "text": [
      "Currently running: E:\\Data\\2020_ResonanceBreathing\\Data\\Interim\\Audio\\4_SART-136-speech.wav\n",
      "Currently running: E:\\Data\\2020_ResonanceBreathing\\Data\\Interim\\Audio\\5_PassiveViewing-136-speech.wav\n",
      "Currently running: E:\\Data\\2020_ResonanceBreathing\\Data\\Interim\\Audio\\2_Breathing-137-speech.wav\n",
      "Currently running: E:\\Data\\2020_ResonanceBreathing\\Data\\Interim\\Audio\\3_Calculus-137-speech.wav\n",
      "Currently running: E:\\Data\\2020_ResonanceBreathing\\Data\\Interim\\Audio\\4_SART-137-speech.wav\n"
     ]
    },
    {
     "name": "stderr",
     "output_type": "stream",
     "text": [
      "C:\\Users\\mitch\\anaconda3\\envs\\stress_study_lib\\lib\\site-packages\\whisper\\transcribe.py:78: UserWarning: FP16 is not supported on CPU; using FP32 instead\n",
      "  warnings.warn(\"FP16 is not supported on CPU; using FP32 instead\")\n"
     ]
    },
    {
     "name": "stdout",
     "output_type": "stream",
     "text": [
      "Currently running: E:\\Data\\2020_ResonanceBreathing\\Data\\Interim\\Audio\\5_PassiveViewing-137-speech.wav\n",
      "Currently running: E:\\Data\\2020_ResonanceBreathing\\Data\\Interim\\Audio\\2_Breathing-138-speech.wav\n",
      "Currently running: E:\\Data\\2020_ResonanceBreathing\\Data\\Interim\\Audio\\3_Calculus-138-speech.wav\n",
      "Currently running: E:\\Data\\2020_ResonanceBreathing\\Data\\Interim\\Audio\\4_SART-138-speech.wav\n",
      "Currently running: E:\\Data\\2020_ResonanceBreathing\\Data\\Interim\\Audio\\5_PassiveViewing-138-speech.wav\n"
     ]
    },
    {
     "name": "stderr",
     "output_type": "stream",
     "text": [
      "C:\\Users\\mitch\\anaconda3\\envs\\stress_study_lib\\lib\\site-packages\\whisper\\transcribe.py:78: UserWarning: FP16 is not supported on CPU; using FP32 instead\n",
      "  warnings.warn(\"FP16 is not supported on CPU; using FP32 instead\")\n"
     ]
    },
    {
     "name": "stdout",
     "output_type": "stream",
     "text": [
      "Currently running: E:\\Data\\2020_ResonanceBreathing\\Data\\Interim\\Audio\\2_Breathing-139-speech.wav\n",
      "Currently running: E:\\Data\\2020_ResonanceBreathing\\Data\\Interim\\Audio\\3_Calculus-139-speech.wav\n",
      "Currently running: E:\\Data\\2020_ResonanceBreathing\\Data\\Interim\\Audio\\4_SART-139-speech.wav\n",
      "Currently running: E:\\Data\\2020_ResonanceBreathing\\Data\\Interim\\Audio\\5_PassiveViewing-139-speech.wav\n",
      "Currently running: E:\\Data\\2020_ResonanceBreathing\\Data\\Interim\\Audio\\2_Breathing-140-speech.wav\n"
     ]
    },
    {
     "name": "stderr",
     "output_type": "stream",
     "text": [
      "C:\\Users\\mitch\\anaconda3\\envs\\stress_study_lib\\lib\\site-packages\\whisper\\transcribe.py:78: UserWarning: FP16 is not supported on CPU; using FP32 instead\n",
      "  warnings.warn(\"FP16 is not supported on CPU; using FP32 instead\")\n"
     ]
    },
    {
     "name": "stdout",
     "output_type": "stream",
     "text": [
      "Currently running: E:\\Data\\2020_ResonanceBreathing\\Data\\Interim\\Audio\\3_Calculus-140-speech.wav\n",
      "Currently running: E:\\Data\\2020_ResonanceBreathing\\Data\\Interim\\Audio\\4_SART-140-speech.wav\n",
      "Currently running: E:\\Data\\2020_ResonanceBreathing\\Data\\Interim\\Audio\\5_PassiveViewing-140-speech.wav\n",
      "Currently running: E:\\Data\\2020_ResonanceBreathing\\Data\\Interim\\Audio\\2_Breathing-141-speech.wav\n",
      "Currently running: E:\\Data\\2020_ResonanceBreathing\\Data\\Interim\\Audio\\3_Calculus-141-speech.wav\n"
     ]
    },
    {
     "name": "stderr",
     "output_type": "stream",
     "text": [
      "C:\\Users\\mitch\\anaconda3\\envs\\stress_study_lib\\lib\\site-packages\\whisper\\transcribe.py:78: UserWarning: FP16 is not supported on CPU; using FP32 instead\n",
      "  warnings.warn(\"FP16 is not supported on CPU; using FP32 instead\")\n"
     ]
    },
    {
     "name": "stdout",
     "output_type": "stream",
     "text": [
      "Currently running: E:\\Data\\2020_ResonanceBreathing\\Data\\Interim\\Audio\\4_SART-141-speech.wav\n",
      "Currently running: E:\\Data\\2020_ResonanceBreathing\\Data\\Interim\\Audio\\5_PassiveViewing-141-speech.wav\n",
      "Currently running: E:\\Data\\2020_ResonanceBreathing\\Data\\Interim\\Audio\\2_Breathing-142-speech.wav\n",
      "Currently running: E:\\Data\\2020_ResonanceBreathing\\Data\\Interim\\Audio\\3_Calculus-142-speech.wav\n",
      "Currently running: E:\\Data\\2020_ResonanceBreathing\\Data\\Interim\\Audio\\4_SART-142-speech.wav\n"
     ]
    },
    {
     "name": "stderr",
     "output_type": "stream",
     "text": [
      "C:\\Users\\mitch\\anaconda3\\envs\\stress_study_lib\\lib\\site-packages\\whisper\\transcribe.py:78: UserWarning: FP16 is not supported on CPU; using FP32 instead\n",
      "  warnings.warn(\"FP16 is not supported on CPU; using FP32 instead\")\n"
     ]
    },
    {
     "name": "stdout",
     "output_type": "stream",
     "text": [
      "Currently running: E:\\Data\\2020_ResonanceBreathing\\Data\\Interim\\Audio\\5_PassiveViewing-142-speech.wav\n",
      "Currently running: E:\\Data\\2020_ResonanceBreathing\\Data\\Interim\\Audio\\2_Breathing-143-speech.wav\n",
      "Currently running: E:\\Data\\2020_ResonanceBreathing\\Data\\Interim\\Audio\\3_Calculus-143-speech.wav\n",
      "Currently running: E:\\Data\\2020_ResonanceBreathing\\Data\\Interim\\Audio\\4_SART-143-speech.wav\n",
      "Currently running: E:\\Data\\2020_ResonanceBreathing\\Data\\Interim\\Audio\\5_PassiveViewing-143-speech.wav\n"
     ]
    },
    {
     "name": "stderr",
     "output_type": "stream",
     "text": [
      "C:\\Users\\mitch\\anaconda3\\envs\\stress_study_lib\\lib\\site-packages\\whisper\\transcribe.py:78: UserWarning: FP16 is not supported on CPU; using FP32 instead\n",
      "  warnings.warn(\"FP16 is not supported on CPU; using FP32 instead\")\n"
     ]
    },
    {
     "name": "stdout",
     "output_type": "stream",
     "text": [
      "Currently running: E:\\Data\\2020_ResonanceBreathing\\Data\\Interim\\Audio\\2_Breathing-144-speech.wav\n",
      "Currently running: E:\\Data\\2020_ResonanceBreathing\\Data\\Interim\\Audio\\3_Calculus-144-speech.wav\n",
      "Currently running: E:\\Data\\2020_ResonanceBreathing\\Data\\Interim\\Audio\\4_SART-144-speech.wav\n",
      "Currently running: E:\\Data\\2020_ResonanceBreathing\\Data\\Interim\\Audio\\5_PassiveViewing-144-speech.wav\n",
      "Currently running: E:\\Data\\2020_ResonanceBreathing\\Data\\Interim\\Audio\\2_Breathing-145-speech.wav\n"
     ]
    },
    {
     "name": "stderr",
     "output_type": "stream",
     "text": [
      "C:\\Users\\mitch\\anaconda3\\envs\\stress_study_lib\\lib\\site-packages\\whisper\\transcribe.py:78: UserWarning: FP16 is not supported on CPU; using FP32 instead\n",
      "  warnings.warn(\"FP16 is not supported on CPU; using FP32 instead\")\n"
     ]
    },
    {
     "name": "stdout",
     "output_type": "stream",
     "text": [
      "Currently running: E:\\Data\\2020_ResonanceBreathing\\Data\\Interim\\Audio\\3_Calculus-145-speech.wav\n",
      "Currently running: E:\\Data\\2020_ResonanceBreathing\\Data\\Interim\\Audio\\4_SART-145-speech.wav\n",
      "Currently running: E:\\Data\\2020_ResonanceBreathing\\Data\\Interim\\Audio\\5_PassiveViewing-145-speech.wav\n",
      "Currently running: E:\\Data\\2020_ResonanceBreathing\\Data\\Interim\\Audio\\2_Breathing-146-speech.wav\n",
      "Currently running: E:\\Data\\2020_ResonanceBreathing\\Data\\Interim\\Audio\\3_Calculus-146-speech.wav\n"
     ]
    },
    {
     "name": "stderr",
     "output_type": "stream",
     "text": [
      "C:\\Users\\mitch\\anaconda3\\envs\\stress_study_lib\\lib\\site-packages\\whisper\\transcribe.py:78: UserWarning: FP16 is not supported on CPU; using FP32 instead\n",
      "  warnings.warn(\"FP16 is not supported on CPU; using FP32 instead\")\n"
     ]
    },
    {
     "name": "stdout",
     "output_type": "stream",
     "text": [
      "Currently running: E:\\Data\\2020_ResonanceBreathing\\Data\\Interim\\Audio\\4_SART-146-speech.wav\n",
      "Currently running: E:\\Data\\2020_ResonanceBreathing\\Data\\Interim\\Audio\\5_PassiveViewing-146-speech.wav\n",
      "Currently running: E:\\Data\\2020_ResonanceBreathing\\Data\\Interim\\Audio\\2_Breathing-147-speech.wav\n",
      "Currently running: E:\\Data\\2020_ResonanceBreathing\\Data\\Interim\\Audio\\3_Calculus-147-speech.wav\n",
      "Currently running: E:\\Data\\2020_ResonanceBreathing\\Data\\Interim\\Audio\\4_SART-147-speech.wav\n"
     ]
    },
    {
     "name": "stderr",
     "output_type": "stream",
     "text": [
      "C:\\Users\\mitch\\anaconda3\\envs\\stress_study_lib\\lib\\site-packages\\whisper\\transcribe.py:78: UserWarning: FP16 is not supported on CPU; using FP32 instead\n",
      "  warnings.warn(\"FP16 is not supported on CPU; using FP32 instead\")\n"
     ]
    },
    {
     "name": "stdout",
     "output_type": "stream",
     "text": [
      "Currently running: E:\\Data\\2020_ResonanceBreathing\\Data\\Interim\\Audio\\5_PassiveViewing-147-speech.wav\n",
      "Currently running: E:\\Data\\2020_ResonanceBreathing\\Data\\Interim\\Audio\\2_Breathing-148-speech.wav\n",
      "Currently running: E:\\Data\\2020_ResonanceBreathing\\Data\\Interim\\Audio\\3_Calculus-148-speech.wav\n",
      "Currently running: E:\\Data\\2020_ResonanceBreathing\\Data\\Interim\\Audio\\4_SART-148-speech.wav\n",
      "Currently running: E:\\Data\\2020_ResonanceBreathing\\Data\\Interim\\Audio\\5_PassiveViewing-148-speech.wav\n"
     ]
    },
    {
     "name": "stderr",
     "output_type": "stream",
     "text": [
      "C:\\Users\\mitch\\anaconda3\\envs\\stress_study_lib\\lib\\site-packages\\whisper\\transcribe.py:78: UserWarning: FP16 is not supported on CPU; using FP32 instead\n",
      "  warnings.warn(\"FP16 is not supported on CPU; using FP32 instead\")\n"
     ]
    },
    {
     "name": "stdout",
     "output_type": "stream",
     "text": [
      "Currently running: E:\\Data\\2020_ResonanceBreathing\\Data\\Interim\\Audio\\2_Breathing-149-speech.wav\n",
      "Currently running: E:\\Data\\2020_ResonanceBreathing\\Data\\Interim\\Audio\\3_Calculus-149-speech.wav\n",
      "Currently running: E:\\Data\\2020_ResonanceBreathing\\Data\\Interim\\Audio\\4_SART-149-speech.wav\n",
      "Currently running: E:\\Data\\2020_ResonanceBreathing\\Data\\Interim\\Audio\\5_PassiveViewing-149-speech.wav\n",
      "Currently running: E:\\Data\\2020_ResonanceBreathing\\Data\\Interim\\Audio\\2_Breathing-150-speech.wav\n"
     ]
    },
    {
     "name": "stderr",
     "output_type": "stream",
     "text": [
      "C:\\Users\\mitch\\anaconda3\\envs\\stress_study_lib\\lib\\site-packages\\whisper\\transcribe.py:78: UserWarning: FP16 is not supported on CPU; using FP32 instead\n",
      "  warnings.warn(\"FP16 is not supported on CPU; using FP32 instead\")\n"
     ]
    },
    {
     "name": "stdout",
     "output_type": "stream",
     "text": [
      "Currently running: E:\\Data\\2020_ResonanceBreathing\\Data\\Interim\\Audio\\3_Calculus-150-speech.wav\n",
      "Currently running: E:\\Data\\2020_ResonanceBreathing\\Data\\Interim\\Audio\\4_SART-150-speech.wav\n",
      "Currently running: E:\\Data\\2020_ResonanceBreathing\\Data\\Interim\\Audio\\5_PassiveViewing-150-speech.wav\n",
      "Currently running: E:\\Data\\2020_ResonanceBreathing\\Data\\Interim\\Audio\\2_Breathing-151-speech.wav\n",
      "Currently running: E:\\Data\\2020_ResonanceBreathing\\Data\\Interim\\Audio\\3_Calculus-151-speech.wav\n"
     ]
    },
    {
     "name": "stderr",
     "output_type": "stream",
     "text": [
      "C:\\Users\\mitch\\anaconda3\\envs\\stress_study_lib\\lib\\site-packages\\whisper\\transcribe.py:78: UserWarning: FP16 is not supported on CPU; using FP32 instead\n",
      "  warnings.warn(\"FP16 is not supported on CPU; using FP32 instead\")\n"
     ]
    },
    {
     "name": "stdout",
     "output_type": "stream",
     "text": [
      "Currently running: E:\\Data\\2020_ResonanceBreathing\\Data\\Interim\\Audio\\4_SART-151-speech.wav\n",
      "Currently running: E:\\Data\\2020_ResonanceBreathing\\Data\\Interim\\Audio\\5_PassiveViewing-151-speech.wav\n",
      "Currently running: E:\\Data\\2020_ResonanceBreathing\\Data\\Interim\\Audio\\2_Breathing-152-speech.wav\n",
      "Currently running: E:\\Data\\2020_ResonanceBreathing\\Data\\Interim\\Audio\\3_Calculus-152-speech.wav\n",
      "Currently running: E:\\Data\\2020_ResonanceBreathing\\Data\\Interim\\Audio\\4_SART-152-speech.wav\n"
     ]
    },
    {
     "name": "stderr",
     "output_type": "stream",
     "text": [
      "C:\\Users\\mitch\\anaconda3\\envs\\stress_study_lib\\lib\\site-packages\\whisper\\transcribe.py:78: UserWarning: FP16 is not supported on CPU; using FP32 instead\n",
      "  warnings.warn(\"FP16 is not supported on CPU; using FP32 instead\")\n"
     ]
    },
    {
     "name": "stdout",
     "output_type": "stream",
     "text": [
      "Currently running: E:\\Data\\2020_ResonanceBreathing\\Data\\Interim\\Audio\\5_PassiveViewing-152-speech.wav\n",
      "Currently running: E:\\Data\\2020_ResonanceBreathing\\Data\\Interim\\Audio\\2_Breathing-153-speech.wav\n",
      "Currently running: E:\\Data\\2020_ResonanceBreathing\\Data\\Interim\\Audio\\3_Calculus-153-speech.wav\n",
      "Currently running: E:\\Data\\2020_ResonanceBreathing\\Data\\Interim\\Audio\\4_SART-153-speech.wav\n",
      "Currently running: E:\\Data\\2020_ResonanceBreathing\\Data\\Interim\\Audio\\5_PassiveViewing-153-speech.wav\n"
     ]
    },
    {
     "name": "stderr",
     "output_type": "stream",
     "text": [
      "C:\\Users\\mitch\\anaconda3\\envs\\stress_study_lib\\lib\\site-packages\\whisper\\transcribe.py:78: UserWarning: FP16 is not supported on CPU; using FP32 instead\n",
      "  warnings.warn(\"FP16 is not supported on CPU; using FP32 instead\")\n"
     ]
    },
    {
     "name": "stdout",
     "output_type": "stream",
     "text": [
      "Currently running: E:\\Data\\2020_ResonanceBreathing\\Data\\Interim\\Audio\\2_Breathing-154-speech.wav\n",
      "Currently running: E:\\Data\\2020_ResonanceBreathing\\Data\\Interim\\Audio\\3_Calculus-154-speech.wav\n",
      "Currently running: E:\\Data\\2020_ResonanceBreathing\\Data\\Interim\\Audio\\4_SART-154-speech.wav\n",
      "Currently running: E:\\Data\\2020_ResonanceBreathing\\Data\\Interim\\Audio\\5_PassiveViewing-154-speech.wav\n",
      "Currently running: E:\\Data\\2020_ResonanceBreathing\\Data\\Interim\\Audio\\2_Breathing-155-speech.wav\n"
     ]
    },
    {
     "name": "stderr",
     "output_type": "stream",
     "text": [
      "C:\\Users\\mitch\\anaconda3\\envs\\stress_study_lib\\lib\\site-packages\\whisper\\transcribe.py:78: UserWarning: FP16 is not supported on CPU; using FP32 instead\n",
      "  warnings.warn(\"FP16 is not supported on CPU; using FP32 instead\")\n"
     ]
    },
    {
     "name": "stdout",
     "output_type": "stream",
     "text": [
      "Currently running: E:\\Data\\2020_ResonanceBreathing\\Data\\Interim\\Audio\\3_Calculus-155-speech.wav\n",
      "Currently running: E:\\Data\\2020_ResonanceBreathing\\Data\\Interim\\Audio\\4_SART-155-speech.wav\n",
      "Currently running: E:\\Data\\2020_ResonanceBreathing\\Data\\Interim\\Audio\\5_PassiveViewing-155-speech.wav\n",
      "Currently running: E:\\Data\\2020_ResonanceBreathing\\Data\\Interim\\Audio\\2_Breathing-157-speech.wav\n",
      "Currently running: E:\\Data\\2020_ResonanceBreathing\\Data\\Interim\\Audio\\3_Calculus-157-speech.wav\n"
     ]
    },
    {
     "name": "stderr",
     "output_type": "stream",
     "text": [
      "C:\\Users\\mitch\\anaconda3\\envs\\stress_study_lib\\lib\\site-packages\\whisper\\transcribe.py:78: UserWarning: FP16 is not supported on CPU; using FP32 instead\n",
      "  warnings.warn(\"FP16 is not supported on CPU; using FP32 instead\")\n"
     ]
    },
    {
     "name": "stdout",
     "output_type": "stream",
     "text": [
      "Currently running: E:\\Data\\2020_ResonanceBreathing\\Data\\Interim\\Audio\\4_SART-157-speech.wav\n",
      "Currently running: E:\\Data\\2020_ResonanceBreathing\\Data\\Interim\\Audio\\5_PassiveViewing-157-speech.wav\n",
      "Currently running: E:\\Data\\2020_ResonanceBreathing\\Data\\Interim\\Audio\\2_Breathing-158-speech.wav\n",
      "Currently running: E:\\Data\\2020_ResonanceBreathing\\Data\\Interim\\Audio\\3_Calculus-158-speech.wav\n",
      "Currently running: E:\\Data\\2020_ResonanceBreathing\\Data\\Interim\\Audio\\4_SART-158-speech.wav\n"
     ]
    },
    {
     "name": "stderr",
     "output_type": "stream",
     "text": [
      "C:\\Users\\mitch\\anaconda3\\envs\\stress_study_lib\\lib\\site-packages\\whisper\\transcribe.py:78: UserWarning: FP16 is not supported on CPU; using FP32 instead\n",
      "  warnings.warn(\"FP16 is not supported on CPU; using FP32 instead\")\n"
     ]
    },
    {
     "name": "stdout",
     "output_type": "stream",
     "text": [
      "Currently running: E:\\Data\\2020_ResonanceBreathing\\Data\\Interim\\Audio\\5_PassiveViewing-158-speech.wav\n",
      "Currently running: E:\\Data\\2020_ResonanceBreathing\\Data\\Interim\\Audio\\2_Breathing-159-speech.wav\n",
      "Currently running: E:\\Data\\2020_ResonanceBreathing\\Data\\Interim\\Audio\\3_Calculus-159-speech.wav\n",
      "Currently running: E:\\Data\\2020_ResonanceBreathing\\Data\\Interim\\Audio\\4_SART-159-speech.wav\n",
      "Currently running: E:\\Data\\2020_ResonanceBreathing\\Data\\Interim\\Audio\\5_PassiveViewing-159-speech.wav\n"
     ]
    },
    {
     "name": "stderr",
     "output_type": "stream",
     "text": [
      "C:\\Users\\mitch\\anaconda3\\envs\\stress_study_lib\\lib\\site-packages\\whisper\\transcribe.py:78: UserWarning: FP16 is not supported on CPU; using FP32 instead\n",
      "  warnings.warn(\"FP16 is not supported on CPU; using FP32 instead\")\n"
     ]
    },
    {
     "name": "stdout",
     "output_type": "stream",
     "text": [
      "Currently running: E:\\Data\\2020_ResonanceBreathing\\Data\\Interim\\Audio\\2_Breathing-162-speech.wav\n",
      "Currently running: E:\\Data\\2020_ResonanceBreathing\\Data\\Interim\\Audio\\3_Calculus-162-speech.wav\n",
      "Currently running: E:\\Data\\2020_ResonanceBreathing\\Data\\Interim\\Audio\\4_SART-162-speech.wav\n",
      "Currently running: E:\\Data\\2020_ResonanceBreathing\\Data\\Interim\\Audio\\5_PassiveViewing-162-speech.wav\n",
      "Currently running: E:\\Data\\2020_ResonanceBreathing\\Data\\Interim\\Audio\\2_Breathing-163-speech.wav\n"
     ]
    },
    {
     "name": "stderr",
     "output_type": "stream",
     "text": [
      "C:\\Users\\mitch\\anaconda3\\envs\\stress_study_lib\\lib\\site-packages\\whisper\\transcribe.py:78: UserWarning: FP16 is not supported on CPU; using FP32 instead\n",
      "  warnings.warn(\"FP16 is not supported on CPU; using FP32 instead\")\n"
     ]
    },
    {
     "name": "stdout",
     "output_type": "stream",
     "text": [
      "Currently running: E:\\Data\\2020_ResonanceBreathing\\Data\\Interim\\Audio\\3_Calculus-163-speech.wav\n",
      "Currently running: E:\\Data\\2020_ResonanceBreathing\\Data\\Interim\\Audio\\4_SART-163-speech.wav\n",
      "Currently running: E:\\Data\\2020_ResonanceBreathing\\Data\\Interim\\Audio\\2_Breathing-167-speech.wav\n",
      "Currently running: E:\\Data\\2020_ResonanceBreathing\\Data\\Interim\\Audio\\3_Calculus-167-speech.wav\n",
      "Currently running: E:\\Data\\2020_ResonanceBreathing\\Data\\Interim\\Audio\\4_SART-167-speech.wav\n"
     ]
    },
    {
     "name": "stderr",
     "output_type": "stream",
     "text": [
      "C:\\Users\\mitch\\anaconda3\\envs\\stress_study_lib\\lib\\site-packages\\whisper\\transcribe.py:78: UserWarning: FP16 is not supported on CPU; using FP32 instead\n",
      "  warnings.warn(\"FP16 is not supported on CPU; using FP32 instead\")\n"
     ]
    },
    {
     "name": "stdout",
     "output_type": "stream",
     "text": [
      "Currently running: E:\\Data\\2020_ResonanceBreathing\\Data\\Interim\\Audio\\5_PassiveViewing-167-speech.wav\n",
      "Currently running: E:\\Data\\2020_ResonanceBreathing\\Data\\Interim\\Audio\\2_Breathing-197-speech.wav\n",
      "Currently running: E:\\Data\\2020_ResonanceBreathing\\Data\\Interim\\Audio\\3_Calculus-197-speech.wav\n",
      "Currently running: E:\\Data\\2020_ResonanceBreathing\\Data\\Interim\\Audio\\3_Calculus-199-speech.wav\n",
      "Currently running: E:\\Data\\2020_ResonanceBreathing\\Data\\Interim\\Audio\\1_Habituation-200-speech.wav\n"
     ]
    },
    {
     "name": "stderr",
     "output_type": "stream",
     "text": [
      "C:\\Users\\mitch\\anaconda3\\envs\\stress_study_lib\\lib\\site-packages\\whisper\\transcribe.py:78: UserWarning: FP16 is not supported on CPU; using FP32 instead\n",
      "  warnings.warn(\"FP16 is not supported on CPU; using FP32 instead\")\n"
     ]
    },
    {
     "name": "stdout",
     "output_type": "stream",
     "text": [
      "Currently running: E:\\Data\\2020_ResonanceBreathing\\Data\\Interim\\Audio\\2_Breathing-200-speech.wav\n",
      "Currently running: E:\\Data\\2020_ResonanceBreathing\\Data\\Interim\\Audio\\3_Calculus-200-speech.wav\n"
     ]
    }
   ],
   "source": [
    "# Pre-create the lists where we'll store information\n",
    "transcripts = []\n",
    "timings = []\n",
    "language = []\n",
    "filenames = []\n",
    "participantNums = []\n",
    "phaseNums = []\n",
    "phaseNames = []\n",
    "\n",
    "# It's go time!\n",
    "count = 0\n",
    "superCount = 0\n",
    "for filePath in tqdm(list(DATA_PATH.glob(\"*.wav\"))):\n",
    "    file = str(filePath) # Functions all use file as input\n",
    "#     filedir = random.choice(os.listdir())\n",
    "#     audiofiledir = random.choice(allFileNames)\n",
    "    print(\"Currently running: \" + file)\n",
    "    \n",
    "    model = whisper.load_model(\"medium\") # Load highest quality model\n",
    "    t = time.time()\n",
    "    result = model.transcribe(file) # Transcription\n",
    "    elapsed = time.time() - t\n",
    "\n",
    "    transcripts.append(result[\"text\"])\n",
    "    timings.append(elapsed)\n",
    "    language.append(result[\"language\"])\n",
    "    filenames.append(file)\n",
    "    participantNums.append(int(re.findall('\\d+', file)[2]))\n",
    "    phaseNums.append(int(re.findall('\\d+', file)[1]))\n",
    "    phaseNames.append(re.findall('\\\\w\\w+', file)[5][2:])\n",
    "    \n",
    "    count = count + 1\n",
    "        \n",
    "    if count == 5: # Intermittent saving because I aint goin back there\n",
    "        superCount = superCount + 1\n",
    "        df = pd.DataFrame({'pptNum': participantNums, 'phaseName': phaseNames, 'phaseNum': phaseNums,\n",
    "                   'FileName': filenames, 'Transcripts': transcripts, 'TimeElapsed': timings, 'Language': language})\n",
    "        df.to_parquet(DATA_PATH.joinpath(\"df_transcripts_iter_\" + str(superCount) + \".parquet\"), engine=\"fastparquet\")\n",
    "        count = 0\n",
    "     \n",
    "df = pd.DataFrame({'pptNum': participantNums, 'phaseName': phaseNames, 'phaseNum': phaseNums,\n",
    "                   'FileName': filenames, 'Transcripts': transcripts, 'TimeElapsed': timings, 'Language': language})\n",
    "df\n",
    "\n",
    "df.to_parquet(DATA_PATH.joinpath(\"df_transcripts.parquet\"), engine=\"fastparquet\")\n",
    "df.to_csv(DATA_PATH.joinpath(\"df_transcripts.csv\"))\n"
   ]
  },
  {
   "cell_type": "code",
   "execution_count": null,
   "id": "849d54df-f025-4874-ad4e-d74e02b9ebfc",
   "metadata": {},
   "outputs": [],
   "source": []
  }
 ],
 "metadata": {
  "kernelspec": {
   "display_name": "Python 3 (ipykernel)",
   "language": "python",
   "name": "python3"
  },
  "language_info": {
   "codemirror_mode": {
    "name": "ipython",
    "version": 3
   },
   "file_extension": ".py",
   "mimetype": "text/x-python",
   "name": "python",
   "nbconvert_exporter": "python",
   "pygments_lexer": "ipython3",
   "version": "3.9.6"
  }
 },
 "nbformat": 4,
 "nbformat_minor": 5
}
